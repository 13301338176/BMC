{
 "cells": [
  {
   "cell_type": "markdown",
   "metadata": {
    "slideshow": {
     "slide_type": "slide"
    }
   },
   "source": [
    "# Rigid-body transformations in three-dimensions\n",
    "\n",
    "> Marcos Duarte, Renato Naville Watanabe  \n",
    "> Laboratory of Biomechanics and Motor Control ([http://pesquisa.ufabc.edu.br/bmclab](http://pesquisa.ufabc.edu.br/bmclab))  \n",
    "> Federal University of ABC, Brazil"
   ]
  },
  {
   "cell_type": "markdown",
   "metadata": {
    "slideshow": {
     "slide_type": "skip"
    }
   },
   "source": [
    "The kinematics of a rigid body is completely described by its pose, i.e., its position and orientation in space (and the corresponding changes, translation and rotation). In a three-dimensional space, at least three coordinates and three angles are necessary to describe the pose of the rigid body, totalizing six degrees of freedom for a rigid body.\n",
    "\n",
    "In motion analysis, to describe a translation and rotation of a rigid body with respect to a coordinate system, typically we attach another coordinate system to the rigid body and determine a transformation between these two coordinate systems.\n",
    "\n",
    "A transformation is any function mapping a set to another set. For the description of the kinematics of rigid bodies, we are interested only in what is called rigid or Euclidean transformations (denoted as SE(3) for the three-dimensional space) because they preserve the distance between every pair of points of the body (which is considered rigid by definition). Translations and rotations are examples of rigid transformations (a reflection is also an example of rigid transformation but this changes the right-hand axis convention to a left hand, which usually is not of interest). In turn, rigid transformations are examples of [affine transformations](https://en.wikipedia.org/wiki/Affine_transformation). Examples of other affine transformations are shear and scaling transformations (which preserves angles but not lengths). \n",
    "\n",
    "We will follow the same rationale as in the notebook [Rigid-body transformations in a plane (2D)](http://nbviewer.ipython.org/github/BMClab/bmc/blob/master/notebooks/Transformation2D.ipynb) and we will skip the fundamental concepts already covered there. So, you if haven't done yet, you should read that notebook before continuing here."
   ]
  },
  {
   "cell_type": "markdown",
   "metadata": {
    "slideshow": {
     "slide_type": "slide"
    }
   },
   "source": [
    "## Translation\n",
    "\n",
    "A pure three-dimensional translation of a rigid body (or a coordinate system attached to it) in relation to other rigid body (with other coordinate system) is illustrated in the figure below.  \n",
    "<br>\n",
    "<figure><img src='./../images/translation3D.png' alt='translation 3D'/> <figcaption><center><i>Figure. A point in three-dimensional space represented in two coordinate systems, with one coordinate system translated.</i></center></figcaption> </figure>\n",
    "\n",
    "The position of point $\\mathbf{P}$ originally described in the $xyz$ (local) coordinate system but now described in the $\\mathbf{XYZ}$ (Global) coordinate system in vector form is:\n",
    "\n",
    "$$ \\mathbf{P_G} = \\mathbf{L_G} + \\mathbf{P_l} $$\n",
    "\n",
    "Or in terms of its components:\n",
    "\n",
    "<span class=\"notranslate\">\n",
    "\\begin{equation}\n",
    "\\begin{array}{}\n",
    "\\mathbf{P_X} =& \\mathbf{L_X} + \\mathbf{P}_x \\\\\n",
    "\\mathbf{P_Y} =& \\mathbf{L_Y} + \\mathbf{P}_y \\\\\n",
    "\\mathbf{P_Z} =& \\mathbf{L_Z} + \\mathbf{P}_z \n",
    "\\end{array}\n",
    "\\end{equation}\n",
    "</span>\n",
    "\n",
    "And in matrix form:\n",
    "\n",
    "<span class=\"notranslate\">\n",
    "\\begin{equation}\n",
    "\\begin{bmatrix}\n",
    "\\mathbf{P_X} \\\\\n",
    "\\mathbf{P_Y} \\\\\n",
    "\\mathbf{P_Z} \n",
    "\\end{bmatrix} =\n",
    "\\begin{bmatrix}\n",
    "\\mathbf{L_X} \\\\\n",
    "\\mathbf{L_Y} \\\\\n",
    "\\mathbf{L_Z} \n",
    "\\end{bmatrix} +\n",
    "\\begin{bmatrix}\n",
    "\\mathbf{P}_x \\\\\n",
    "\\mathbf{P}_y \\\\\n",
    "\\mathbf{P}_z \n",
    "\\end{bmatrix}\n",
    "\\end{equation}\n",
    "</span>\n",
    "\n",
    "From classical mechanics, this is an example of [Galilean transformation](http://en.wikipedia.org/wiki/Galilean_transformation).   \n",
    "\n",
    "Let's use Python to compute some numeric examples:"
   ]
  },
  {
   "cell_type": "code",
   "execution_count": 1,
   "metadata": {
    "ExecuteTime": {
     "end_time": "2016-10-24T20:17:09.174751",
     "start_time": "2016-10-24T20:17:09.110202"
    },
    "slideshow": {
     "slide_type": "slide"
    }
   },
   "outputs": [],
   "source": [
    "# Import the necessary libraries\n",
    "import numpy as np\n",
    "# suppress scientific notation for small numbers:\n",
    "np.set_printoptions(precision=4, suppress=True)"
   ]
  },
  {
   "cell_type": "markdown",
   "metadata": {
    "slideshow": {
     "slide_type": "fragment"
    }
   },
   "source": [
    "For example, if the local coordinate system is translated by $\\mathbf{L_G}=[1, 2, 3]$ in relation to the Global coordinate system, a point with coordinates $\\mathbf{P_l}=[4, 5, 6]$ at the local coordinate system will have the position $\\mathbf{P_G}=[5, 7, 9]$ at the Global coordinate system:"
   ]
  },
  {
   "cell_type": "code",
   "execution_count": 2,
   "metadata": {
    "ExecuteTime": {
     "end_time": "2016-10-24T20:17:10.175513",
     "start_time": "2016-10-24T20:17:10.166506"
    },
    "slideshow": {
     "slide_type": "fragment"
    }
   },
   "outputs": [
    {
     "data": {
      "text/plain": [
       "array([5, 7, 9])"
      ]
     },
     "execution_count": 2,
     "metadata": {},
     "output_type": "execute_result"
    }
   ],
   "source": [
    "LG = np.array([1, 2, 3])  # Numpy array\n",
    "Pl = np.array([4, 5, 6])\n",
    "PG = LG + Pl\n",
    "PG"
   ]
  },
  {
   "cell_type": "markdown",
   "metadata": {
    "slideshow": {
     "slide_type": "fragment"
    }
   },
   "source": [
    "This operation also works if we have more than one point (NumPy try to guess how to handle vectors with different dimensions):"
   ]
  },
  {
   "cell_type": "code",
   "execution_count": 3,
   "metadata": {
    "ExecuteTime": {
     "end_time": "2016-10-24T20:17:11.070363",
     "start_time": "2016-10-24T20:17:11.066360"
    },
    "slideshow": {
     "slide_type": "fragment"
    }
   },
   "outputs": [
    {
     "data": {
      "text/plain": [
       "array([[ 2,  4,  6],\n",
       "       [ 5,  7,  9],\n",
       "       [ 8, 10, 12]])"
      ]
     },
     "execution_count": 3,
     "metadata": {},
     "output_type": "execute_result"
    }
   ],
   "source": [
    "Pl = np.array([[1, 2, 3], [4, 5, 6], [7, 8, 9]])  # 2D array with 3 rows and 2 columns\n",
    "PG = LG + Pl\n",
    "PG"
   ]
  },
  {
   "cell_type": "markdown",
   "metadata": {
    "slideshow": {
     "slide_type": "slide"
    }
   },
   "source": [
    "## Rotation\n",
    "\n",
    "A pure three-dimensional rotation of a $xyz$ (local) coordinate system in relation to other $\\mathbf{XYZ}$ (Global) coordinate system and the position of a point in these two coordinate systems are illustrated in the next figure (remember that this is equivalent to describing a rotation between two rigid bodies).  \n",
    "<br>\n",
    "<figure><img src='./../images/rotation3D.png' alt='rotation 3D'/> <figcaption><center><i>A point in three-dimensional space represented in two coordinate systems, with one system rotated.</i></center></figcaption> </figure>\n",
    "\n",
    "In analogy to the rotation in two dimensions, we can calculate the rotation matrix that describes the rotation of the $xyz$ (local) coordinate system in relation to the $\\mathbf{XYZ}$ (Global) coordinate system using the direction cosines between the axes of the two coordinate systems:\n",
    "\n",
    "<span class=\"notranslate\">\n",
    "\\begin{equation}\n",
    "\\mathbf{R_{Gl}} = \\begin{bmatrix}\n",
    "\\cos\\mathbf{X}x & \\cos\\mathbf{X}y & \\cos\\mathbf{X}z \\\\\n",
    "\\cos\\mathbf{Y}x & \\cos\\mathbf{Y}y & \\cos\\mathbf{Y}z \\\\\n",
    "\\cos\\mathbf{Z}x & \\cos\\mathbf{Z}y & \\cos\\mathbf{Z}z\n",
    "\\end{bmatrix}\n",
    "\\end{equation}\n",
    "</span>\n",
    "\n",
    "Note however that for rotations around more than one axis, these angles will not lie in the main planes ($\\mathbf{XY, YZ, ZX}$) of the $\\mathbf{XYZ}$ coordinate system, as illustrated in the figure below for the direction angles of the $y$ axis only. Thus, the determination of these angles by simple inspection, as we have done for the two-dimensional case, would not be simple.  \n",
    "<br>\n",
    "<figure>\n",
    "<img src='./../images/directioncosine3D.png' width=260 alt='direction angles 3D'/> <figcaption><center><i>Figure. Definition of direction angles for the $y$ axis of the local coordinate system in relation to the $\\mathbf{XYZ}$ Global coordinate system.</i></center></figcaption>\n",
    "</figure>\n",
    "\n",
    "Note that the nine angles shown in the matrix above for the direction cosines are obviously redundant since only three angles are necessary to describe the orientation of a rigid body in the three-dimensional space. \n",
    "\n",
    "An important characteristic of angles in the three-dimensional space is that angles cannot be treated as vectors: the result of a sequence of rotations of a rigid body around different axes depends on the order of the rotations, as illustrated in the next figure.  \n",
    "<br>\n",
    "<figure>\n",
    "<img src='./../images/rotationsseqs2.png' alt='rotations'/><figcaption><i>Figure. The result of a sequence of rotations around different axes of a coordinate system depends on the order of the rotations. In the first example (first row), the rotations are around a Global (fixed) coordinate system. In the second example (second row), the rotations are around a local (rotating) coordinate system.</i></figcaption>\n",
    "</figure>\n",
    "\n",
    "Let's focus now on how to understand rotations in the three-dimensional space, looking at the rotations between coordinate systems (or between rigid bodies). Later we will apply what we have learned to describe the position of a point in these different coordinate systems."
   ]
  },
  {
   "cell_type": "markdown",
   "metadata": {
    "slideshow": {
     "slide_type": "slide"
    }
   },
   "source": [
    "### Euler angles\n",
    "\n",
    "There are different ways to describe a three-dimensional rotation of a rigid body (or of a coordinate system). The most straightforward solution would probably be to use a [spherical coordinate system](http://nbviewer.ipython.org/github/demotu/BMC/blob/master/notebooks/ReferenceFrame.ipynb#Spherical-coordinate-system), but spherical coordinates would be difficult to give an anatomical or clinical interpretation. A solution that has been often employed in biomechanics to handle rotations in the three-dimensional space is to use Euler angles. Under certain conditions, Euler angles can have an anatomical interpretation, but this representation also has some caveats. Let's see the Euler angles now.\n",
    "\n",
    "[Leonhard Euler](https://en.wikipedia.org/wiki/Leonhard_Euler) in the XVIII century showed that two three-dimensional coordinate systems with a common origin can be related by a sequence of up to three elemental rotations about the axes of the local coordinate system, where no two successive rotations may be about the same axis, which now are known as [Euler (or Eulerian) angles](http://en.wikipedia.org/wiki/Euler_angles).   "
   ]
  },
  {
   "cell_type": "markdown",
   "metadata": {
    "slideshow": {
     "slide_type": "slide"
    }
   },
   "source": [
    "#### Elemental rotations\n",
    "\n",
    "First, let's see rotations around a fixed Global coordinate system as we did for the two-dimensional case. The next figure illustrates elemental rotations of the local coordinate system around each axis of the fixed Global coordinate system.  \n",
    "<br>\n",
    "<figure>\n",
    "<img src='./../images/rotations.png' alt='rotations'/> <figcaption><center><i>Figure. Elemental rotations of the $xyz$ coordinate system around each axis, $\\mathbf{X}$, $\\mathbf{Y}$, and $\\mathbf{Z}$, of the fixed $\\mathbf{XYZ}$ coordinate system. Note that for better clarity, the axis around where the rotation occurs is shown perpendicular to this page for each elemental rotation.</i></center></figcaption>\n",
    "</figure>"
   ]
  },
  {
   "cell_type": "markdown",
   "metadata": {
    "slideshow": {
     "slide_type": "slide"
    }
   },
   "source": [
    "#### Rotations around the fixed coordinate system\n",
    "\n",
    "The rotation matrices for the elemental rotations around each axis of the fixed $\\mathbf{XYZ}$ coordinate system (rotations of the local coordinate system in relation to the Global coordinate system) are shown next.\n",
    "\n",
    "Around $\\mathbf{X}$ axis: \n",
    "\n",
    "<span class=\"notranslate\">\n",
    "\\begin{equation}\n",
    "\\mathbf{R_{Gl,\\,X}} = \n",
    "\\begin{bmatrix}\n",
    "1 & 0 & 0 \\\\\n",
    "0 & \\cos\\alpha & -\\sin\\alpha \\\\\n",
    "0 & \\sin\\alpha & \\cos\\alpha\n",
    "\\end{bmatrix}\n",
    "\\end{equation}\n",
    "</span>\n",
    "\n",
    "Around $\\mathbf{Y}$ axis: \n",
    "\n",
    "<span class=\"notranslate\">\n",
    "\\begin{equation}\n",
    "\\mathbf{R_{Gl,\\,Y}} = \n",
    "\\begin{bmatrix}\n",
    "\\cos\\beta & 0 & \\sin\\beta \\\\\n",
    "0 & 1 & 0 \\\\\n",
    "-\\sin\\beta & 0 & \\cos\\beta\n",
    "\\end{bmatrix}\n",
    "\\end{equation}\n",
    "</span>\n",
    "\n",
    "Around $\\mathbf{Z}$ axis: \n",
    "\n",
    "<span class=\"notranslate\">\n",
    "\\begin{equation}\n",
    "\\mathbf{R_{Gl,\\,Z}} = \n",
    "\\begin{bmatrix}\n",
    "\\cos\\gamma & -\\sin\\gamma & 0\\\\\n",
    "\\sin\\gamma & \\cos\\gamma & 0 \\\\\n",
    "0 & 0 & 1\n",
    "\\end{bmatrix}\n",
    "\\end{equation}\n",
    "</span>\n",
    "\n",
    "These matrices are the rotation matrices for the case of two-dimensional coordinate systems plus the corresponding terms for the third axes of the local and Global coordinate systems, which are parallel.   \n",
    "To understand why the terms for the third axes are 1's or 0's, for instance, remember they represent the cosine directors. The cosines between $\\mathbf{X}x$, $\\mathbf{Y}y$, and $\\mathbf{Z}z$ for the elemental rotations around respectively the $\\mathbf{X}$, $\\mathbf{Y}$, and $\\mathbf{Z}$ axes are all 1 because $\\mathbf{X}x$, $\\mathbf{Y}y$, and $\\mathbf{Z}z$ are parallel <span class=\"notranslate\">($\\cos 0^o$)</span>. The cosines of the other elements are zero because the axis around where each rotation occurs is perpendicular to the other axes of the coordinate systems <span class=\"notranslate\">($\\cos 90^o$)</span>."
   ]
  },
  {
   "cell_type": "markdown",
   "metadata": {
    "slideshow": {
     "slide_type": "slide"
    }
   },
   "source": [
    "#### Rotations around the local coordinate system\n",
    "\n",
    "The rotation matrices for the elemental rotations this time around each axis of the $xyz$ coordinate system (rotations of the Global coordinate system in relation to the local coordinate system), similarly to the two-dimensional case, are simply the transpose of the above matrices as shown next.\n",
    "\n",
    "Around $x$ axis: \n",
    "\n",
    "<span class=\"notranslate\">\n",
    "\\begin{equation}\n",
    "\\mathbf{R}_{\\mathbf{lG},\\,x} = \n",
    "\\begin{bmatrix}\n",
    "1 & 0 & 0 \\\\\n",
    "0 & \\cos\\alpha & \\sin\\alpha \\\\\n",
    "0 & -\\sin\\alpha & \\cos\\alpha\n",
    "\\end{bmatrix}\n",
    "\\end{equation}\n",
    "</span>\n",
    "\n",
    "Around $y$ axis: \n",
    "\n",
    "<span class=\"notranslate\">\n",
    "\\begin{equation}\n",
    "\\mathbf{R}_{\\mathbf{lG},\\,y} = \n",
    "\\begin{bmatrix}\n",
    "\\cos\\beta & 0 & -\\sin\\beta \\\\\n",
    "0 & 1 & 0 \\\\\n",
    "\\sin\\beta & 0 & \\cos\\beta\n",
    "\\end{bmatrix}\n",
    "\\end{equation}\n",
    "</span>\n",
    "\n",
    "Around $z$ axis: \n",
    "\n",
    "<span class=\"notranslate\">\n",
    "\\begin{equation}\n",
    "\\mathbf{R}_{\\mathbf{lG},\\,z} = \n",
    "\\begin{bmatrix}\n",
    "\\cos\\gamma & \\sin\\gamma & 0\\\\\n",
    "-\\sin\\gamma & \\cos\\gamma & 0 \\\\\n",
    "0 & 0 & 1\n",
    "\\end{bmatrix}\n",
    "\\end{equation}\n",
    "</span>\n",
    "\n",
    "Notice this is equivalent to instead of rotating the local coordinate system by $\\alpha, \\beta, \\gamma$ in relation to axes of the Global coordinate system, to rotate the Global coordinate system by $-\\alpha, -\\beta, -\\gamma$ in relation to the axes of the local coordinate system; remember that <span class=\"notranslate\">\n",
    "$\\cos(-\\:\\cdot)=\\cos(\\cdot)$</span> and <span class=\"notranslate\">$\\sin(-\\:\\cdot)=-\\sin(\\cdot)$</span>.\n",
    "\n"
   ]
  },
  {
   "cell_type": "markdown",
   "metadata": {
    "slideshow": {
     "slide_type": "slide"
    }
   },
   "source": [
    "#### Sequence of elemental rotations\n",
    "\n",
    "Consider now a sequence of elemental rotations around the $\\mathbf{X}$, $\\mathbf{Y}$, and $\\mathbf{Z}$ axes of the fixed $\\mathbf{XYZ}$ coordinate system illustrated in the next figure.  \n",
    "<br>\n",
    "<figure><img src='./../images/rotations_XYZ.png' alt='rotations'/> <figcaption><center><i>Figure. Sequence of elemental rotations of the $xyz$ coordinate system around each axis, $\\mathbf{X}$, $\\mathbf{Y}$, $\\mathbf{Z}$, of the fixed $\\mathbf{XYZ}$ coordinate system.</i></center></figcaption> </figure>\n",
    "\n",
    "This sequence of elemental rotations (each one of the local coordinate system with respect to the fixed Global coordinate system) is mathematically represented by a multiplication between the rotation matrices:\n",
    "\n",
    "<span class=\"notranslate\">\n",
    "\\begin{equation}\n",
    "\\begin{array}{l l}\n",
    "\\mathbf{R_{Gl,\\;XYZ}} & = \\mathbf{R_{Z}} \\mathbf{R_{Y}} \\mathbf{R_{X}} \\\\\n",
    "\\\\ \n",
    "& = \\begin{bmatrix}\n",
    "\\cos\\gamma & -\\sin\\gamma & 0\\\\\n",
    "\\sin\\gamma & \\cos\\gamma & 0 \\\\\n",
    "0 & 0 & 1\n",
    "\\end{bmatrix}\n",
    "\\begin{bmatrix}\n",
    "\\cos\\beta & 0 & \\sin\\beta \\\\\n",
    "0 & 1 & 0 \\\\\n",
    "-\\sin\\beta & 0 & \\cos\\beta\n",
    "\\end{bmatrix}\n",
    "\\begin{bmatrix}\n",
    "1 & 0 & 0 \\\\\n",
    "0 & \\cos\\alpha & -\\sin\\alpha \\\\\n",
    "0 & \\sin\\alpha & \\cos\\alpha\n",
    "\\end{bmatrix} \\\\\n",
    "\\\\ \n",
    "& =\n",
    "\\begin{bmatrix}\n",
    "\\cos\\beta\\:\\cos\\gamma \\;&\\;\n",
    "\\sin\\alpha\\:\\sin\\beta\\:\\cos\\gamma-\\cos\\alpha\\:\\sin\\gamma \\;&\\;\n",
    "\\cos\\alpha\\:\\sin\\beta\\:cos\\gamma+\\sin\\alpha\\:\\sin\\gamma \\;\\;\\; \\\\\n",
    "\\cos\\beta\\:\\sin\\gamma \\;&\\;\n",
    "\\sin\\alpha\\:\\sin\\beta\\:\\sin\\gamma+\\cos\\alpha\\:\\cos\\gamma \\;&\\;\n",
    "\\cos\\alpha\\:\\sin\\beta\\:\\sin\\gamma-\\sin\\alpha\\:\\cos\\gamma \\;\\;\\;  \\\\\n",
    "-\\sin\\beta \\;&\\; \\sin\\alpha\\:\\cos\\beta \\;&\\; \\cos\\alpha\\:\\cos\\beta \\;\\;\\;\n",
    "\\end{bmatrix} \n",
    "\\end{array}\n",
    "\\end{equation}\n",
    "</span>\n",
    "\n",
    "Note the order of the matrices.   \n",
    "\n",
    "We can check this matrix multiplication using [Sympy](http://sympy.org/en/index.html):"
   ]
  },
  {
   "cell_type": "code",
   "execution_count": 4,
   "metadata": {
    "ExecuteTime": {
     "end_time": "2016-10-24T20:17:13.593563",
     "start_time": "2016-10-24T20:17:13.275837"
    },
    "slideshow": {
     "slide_type": "fragment"
    }
   },
   "outputs": [
    {
     "data": {
      "text/latex": [
       "$\\displaystyle \\mathbf{R_{Gl,\\,XYZ}}=\\left[\\begin{matrix}\\cos{\\left(\\beta \\right)} \\cos{\\left(\\gamma \\right)} & \\sin{\\left(\\alpha \\right)} \\sin{\\left(\\beta \\right)} \\cos{\\left(\\gamma \\right)} - \\sin{\\left(\\gamma \\right)} \\cos{\\left(\\alpha \\right)} & \\sin{\\left(\\alpha \\right)} \\sin{\\left(\\gamma \\right)} + \\sin{\\left(\\beta \\right)} \\cos{\\left(\\alpha \\right)} \\cos{\\left(\\gamma \\right)}\\\\\\sin{\\left(\\gamma \\right)} \\cos{\\left(\\beta \\right)} & \\sin{\\left(\\alpha \\right)} \\sin{\\left(\\beta \\right)} \\sin{\\left(\\gamma \\right)} + \\cos{\\left(\\alpha \\right)} \\cos{\\left(\\gamma \\right)} & - \\sin{\\left(\\alpha \\right)} \\cos{\\left(\\gamma \\right)} + \\sin{\\left(\\beta \\right)} \\sin{\\left(\\gamma \\right)} \\cos{\\left(\\alpha \\right)}\\\\- \\sin{\\left(\\beta \\right)} & \\sin{\\left(\\alpha \\right)} \\cos{\\left(\\beta \\right)} & \\cos{\\left(\\alpha \\right)} \\cos{\\left(\\beta \\right)}\\end{matrix}\\right]$"
      ],
      "text/plain": [
       "<IPython.core.display.Math object>"
      ]
     },
     "metadata": {},
     "output_type": "display_data"
    }
   ],
   "source": [
    "#import the necessary libraries\n",
    "from IPython.core.display import Math, display\n",
    "import sympy as sym\n",
    "cos, sin = sym.cos, sym.sin\n",
    "\n",
    "a, b, g = sym.symbols('alpha, beta, gamma')\n",
    "\n",
    "# Elemental rotation matrices of xyz in relation to XYZ:\n",
    "RX = sym.Matrix([[1, 0, 0], [0, cos(a), -sin(a)], [0, sin(a), cos(a)]])\n",
    "RY = sym.Matrix([[cos(b), 0, sin(b)], [0, 1, 0], [-sin(b), 0, cos(b)]])\n",
    "RZ = sym.Matrix([[cos(g), -sin(g), 0], [sin(g), cos(g), 0], [0, 0, 1]])\n",
    "\n",
    "# Rotation matrix of xyz in relation to XYZ:\n",
    "RXYZ = RZ*RY*RX\n",
    "\n",
    "display(Math(sym.latex(r'\\mathbf{R_{Gl,\\,XYZ}}=') + sym.latex(RXYZ, mat_str='matrix')))"
   ]
  },
  {
   "cell_type": "markdown",
   "metadata": {
    "slideshow": {
     "slide_type": "fragment"
    }
   },
   "source": [
    "For instance, we can calculate the numerical rotation matrix for these sequential elemental rotations by $90^o$ around $\\mathbf{X,Y,Z}$:"
   ]
  },
  {
   "cell_type": "code",
   "execution_count": 5,
   "metadata": {
    "ExecuteTime": {
     "end_time": "2016-10-24T20:17:14.963605",
     "start_time": "2016-10-24T20:17:14.951080"
    },
    "slideshow": {
     "slide_type": "fragment"
    }
   },
   "outputs": [
    {
     "data": {
      "text/latex": [
       "$\\displaystyle \\mathbf{R_{Gl,\\,XYZ\\,}}(90^o, 90^o, 90^o) =\\left[\\begin{matrix}0 & 0 & 1.0\\\\0 & 1.0 & 0\\\\-1.0 & 0 & 0\\end{matrix}\\right]$"
      ],
      "text/plain": [
       "<IPython.core.display.Math object>"
      ]
     },
     "metadata": {},
     "output_type": "display_data"
    }
   ],
   "source": [
    "R = sym.lambdify((a, b, g), RXYZ, 'numpy')\n",
    "R = R(np.pi/2, np.pi/2, np.pi/2)\n",
    "display(Math(r'\\mathbf{R_{Gl,\\,XYZ\\,}}(90^o, 90^o, 90^o) =' + \\\n",
    "             sym.latex(sym.Matrix(R).n(chop=True, prec=3))))"
   ]
  },
  {
   "cell_type": "markdown",
   "metadata": {
    "slideshow": {
     "slide_type": "slide"
    }
   },
   "source": [
    "Examining the matrix above and the correspondent previous figure, one can see they agree: the rotated $x$ axis (first column of the above matrix) has value -1 in the $\\mathbf{Z}$ direction $[0,0,-1]$, the rotated $y$ axis (second column) is at the $\\mathbf{Y}$ direction $[0,1,0]$, and the rotated $z$ axis (third column) is at the $\\mathbf{X}$ direction $[1,0,0]$.\n",
    "\n",
    "We also can calculate the sequence of elemental rotations around the $x$, $y$, $z$ axes of the rotating $xyz$ coordinate system illustrated in the next figure.  \n",
    "<br>\n",
    "<figure>\n",
    "<img src='./../images/rotations_xyz2.png' alt='rotations'/> <figcaption><center><i>Figure. Sequence of elemental rotations of a second $xyz$ local coordinate system around each axis, $x$, $y$, $z$, of the rotating $xyz$ coordinate system.</i></center></figcaption>\n",
    "</figure>\n",
    "\n",
    "Likewise, this sequence of elemental rotations (each one of the local coordinate system with respect to the rotating local coordinate system) is mathematically represented by a multiplication between the rotation matrices (which are the inverse of the matrices for the rotations around $\\mathbf{X,Y,Z}$ as we saw earlier):\n",
    "\n",
    "<span class=\"notranslate\">\n",
    "\\begin{equation}\n",
    "\\begin{array}{l l}\n",
    "\\mathbf{R}_{\\mathbf{lG},\\,xyz} & = \\mathbf{R_{z}} \\mathbf{R_{y}} \\mathbf{R_{x}} \\\\\n",
    "\\\\\n",
    "& = \\begin{bmatrix}\n",
    "\\cos\\gamma & \\sin\\gamma & 0\\\\\n",
    "-\\sin\\gamma & \\cos\\gamma & 0 \\\\\n",
    "0 & 0 & 1\n",
    "\\end{bmatrix}\n",
    "\\begin{bmatrix}\n",
    "\\cos\\beta & 0 & -\\sin\\beta \\\\\n",
    "0 & 1 & 0 \\\\\n",
    "\\sin\\beta & 0 & \\cos\\beta\n",
    "\\end{bmatrix}\n",
    "\\begin{bmatrix}\n",
    "1 & 0 & 0 \\\\\n",
    "0 & \\cos\\alpha & \\sin\\alpha \\\\\n",
    "0 & -\\sin\\alpha & \\cos\\alpha\n",
    "\\end{bmatrix} \\\\\n",
    "\\\\\n",
    "& =\n",
    "\\begin{bmatrix}\n",
    "\\cos\\beta\\:\\cos\\gamma \\;&\\;\n",
    "\\sin\\alpha\\:\\sin\\beta\\:\\cos\\gamma+\\cos\\alpha\\:\\sin\\gamma \\;&\\;\n",
    "\\cos\\alpha\\:\\sin\\beta\\:\\cos\\gamma-\\sin\\alpha\\:\\sin\\gamma \\;\\;\\; \\\\\n",
    "-\\cos\\beta\\:\\sin\\gamma \\;&\\;\n",
    "-\\sin\\alpha\\:\\sin\\beta\\:\\sin\\gamma+\\cos\\alpha\\:\\cos\\gamma \\;&\\;\n",
    "\\cos\\alpha\\:\\sin\\beta\\:\\sin\\gamma+\\sin\\alpha\\:\\cos\\gamma \\;\\;\\;  \\\\\n",
    "\\sin\\beta \\;&\\; -\\sin\\alpha\\:\\cos\\beta \\;&\\; \\cos\\alpha\\:\\cos\\beta \\;\\;\\;\n",
    "\\end{bmatrix} \n",
    "\\end{array}\n",
    "\\end{equation}\n",
    "</span>\n",
    "\n",
    "As before, the order of the matrices is from right to left.   \n",
    "\n",
    "Once again, we can check this matrix multiplication using [Sympy](http://sympy.org/en/index.html):"
   ]
  },
  {
   "cell_type": "code",
   "execution_count": 6,
   "metadata": {
    "ExecuteTime": {
     "end_time": "2016-10-24T20:17:16.363769",
     "start_time": "2016-10-24T20:17:16.350780"
    },
    "slideshow": {
     "slide_type": "fragment"
    }
   },
   "outputs": [
    {
     "data": {
      "text/latex": [
       "$\\displaystyle \\mathbf{R}_{\\mathbf{lG},\\,xyz}=\\left[\\begin{matrix}\\cos{\\left(\\beta \\right)} \\cos{\\left(\\gamma \\right)} & \\sin{\\left(\\alpha \\right)} \\sin{\\left(\\beta \\right)} \\cos{\\left(\\gamma \\right)} + \\sin{\\left(\\gamma \\right)} \\cos{\\left(\\alpha \\right)} & \\sin{\\left(\\alpha \\right)} \\sin{\\left(\\gamma \\right)} - \\sin{\\left(\\beta \\right)} \\cos{\\left(\\alpha \\right)} \\cos{\\left(\\gamma \\right)}\\\\- \\sin{\\left(\\gamma \\right)} \\cos{\\left(\\beta \\right)} & - \\sin{\\left(\\alpha \\right)} \\sin{\\left(\\beta \\right)} \\sin{\\left(\\gamma \\right)} + \\cos{\\left(\\alpha \\right)} \\cos{\\left(\\gamma \\right)} & \\sin{\\left(\\alpha \\right)} \\cos{\\left(\\gamma \\right)} + \\sin{\\left(\\beta \\right)} \\sin{\\left(\\gamma \\right)} \\cos{\\left(\\alpha \\right)}\\\\\\sin{\\left(\\beta \\right)} & - \\sin{\\left(\\alpha \\right)} \\cos{\\left(\\beta \\right)} & \\cos{\\left(\\alpha \\right)} \\cos{\\left(\\beta \\right)}\\end{matrix}\\right]$"
      ],
      "text/plain": [
       "<IPython.core.display.Math object>"
      ]
     },
     "execution_count": 6,
     "metadata": {},
     "output_type": "execute_result"
    }
   ],
   "source": [
    "a, b, g = sym.symbols('alpha, beta, gamma')\n",
    "# Elemental rotation matrices of xyz (local):\n",
    "Rx = sym.Matrix([[1, 0, 0], [0, cos(a), sin(a)], [0, -sin(a), cos(a)]])\n",
    "Ry = sym.Matrix([[cos(b), 0, -sin(b)], [0, 1, 0], [sin(b), 0, cos(b)]])\n",
    "Rz = sym.Matrix([[cos(g), sin(g), 0], [-sin(g), cos(g), 0], [0, 0, 1]])\n",
    "# Rotation matrix of xyz' in relation to xyz:\n",
    "Rxyz = Rz*Ry*Rx\n",
    "Math(sym.latex(r'\\mathbf{R}_{\\mathbf{lG},\\,xyz}=') + sym.latex(Rxyz, mat_str='matrix'))"
   ]
  },
  {
   "cell_type": "markdown",
   "metadata": {
    "slideshow": {
     "slide_type": "fragment"
    }
   },
   "source": [
    "For instance, let's calculate the numerical rotation matrix for these sequential elemental rotations by $90^o$ around $x,y,z$:"
   ]
  },
  {
   "cell_type": "code",
   "execution_count": 7,
   "metadata": {
    "ExecuteTime": {
     "end_time": "2016-10-24T20:17:17.209854",
     "start_time": "2016-10-24T20:17:17.197846"
    },
    "scrolled": true,
    "slideshow": {
     "slide_type": "fragment"
    }
   },
   "outputs": [
    {
     "data": {
      "text/latex": [
       "$\\displaystyle \\mathbf{R}_{\\mathbf{lG},\\,xyz\\,}(90^o, 90^o, 90^o) =\\left[\\begin{matrix}0 & 0 & 1.0\\\\0 & -1.0 & 0\\\\1.0 & 0 & 0\\end{matrix}\\right]$"
      ],
      "text/plain": [
       "<IPython.core.display.Math object>"
      ]
     },
     "metadata": {},
     "output_type": "display_data"
    }
   ],
   "source": [
    "R = sym.lambdify((a, b, g), Rxyz, 'numpy')\n",
    "R = R(np.pi/2, np.pi/2, np.pi/2)\n",
    "display(Math(r'\\mathbf{R}_{\\mathbf{lG},\\,xyz\\,}(90^o, 90^o, 90^o) =' + \\\n",
    "             sym.latex(sym.Matrix(R).n(chop=True, prec=3))))"
   ]
  },
  {
   "cell_type": "markdown",
   "metadata": {
    "slideshow": {
     "slide_type": "slide"
    }
   },
   "source": [
    "Once again, let's compare the above matrix and the correspondent previous figure to see if it makes sense. But remember that this matrix is the Global-to-local rotation matrix, $\\mathbf{R}_{\\mathbf{lG},\\,xyz}$, where the coordinates of the local basis' versors are rows, not columns, in this matrix. With this detail in mind, one can see that the previous figure and matrix also agree: the rotated $x$ axis (first row of the above matrix) is at the $\\mathbf{Z}$ direction $[0,0,1]$, the rotated $y$ axis (second row) is at the $\\mathbf{-Y}$ direction $[0,-1,0]$, and the rotated $z$ axis (third row) is at the $\\mathbf{X}$ direction $[1,0,0]$.\n",
    "\n",
    "In fact, this example didn't serve to distinguish versors as rows or columns because the $\\mathbf{R}_{\\mathbf{lG},\\,xyz}$ matrix above is symmetric!  \n",
    "Let's look on the resultant matrix for the example above after only the first two rotations, $\\mathbf{R}_{\\mathbf{lG},\\,xy}$ to understand this difference: "
   ]
  },
  {
   "cell_type": "code",
   "execution_count": 8,
   "metadata": {
    "slideshow": {
     "slide_type": "fragment"
    }
   },
   "outputs": [
    {
     "data": {
      "text/latex": [
       "$\\displaystyle \\mathbf{R}_{\\mathbf{lG},\\,xy\\,}(90^o, 90^o) =\\left[\\begin{matrix}0 & 1.0 & 0\\\\0 & 0 & 1.0\\\\1.0 & 0 & 0\\end{matrix}\\right]$"
      ],
      "text/plain": [
       "<IPython.core.display.Math object>"
      ]
     },
     "metadata": {},
     "output_type": "display_data"
    }
   ],
   "source": [
    "Rxy = Ry*Rx\n",
    "R = sym.lambdify((a, b), Rxy, 'numpy')\n",
    "R = R(np.pi/2, np.pi/2)\n",
    "display(Math(r'\\mathbf{R}_{\\mathbf{lG},\\,xy\\,}(90^o, 90^o) =' + \\\n",
    "             sym.latex(sym.Matrix(R).n(chop=True, prec=3))))"
   ]
  },
  {
   "cell_type": "markdown",
   "metadata": {
    "slideshow": {
     "slide_type": "slide"
    }
   },
   "source": [
    "Comparing this matrix with the third plot in the figure, we see that the coordinates of versor $x$ in the Global coordinate system are $[0,1,0]$, i.e., local axis $x$ is aligned with Global axis $Y$, and this versor is indeed the first row, not first column, of the matrix above. Confer the other two rows.  \n",
    "\n",
    "What are then in the columns of the local-to-Global rotation matrix?  \n",
    "The columns are the coordinates of Global basis' versors in the local coordinate system! For example, the first column of the matrix above is the coordinates of $X$, which is aligned with $z$: $[0,0,1]$."
   ]
  },
  {
   "cell_type": "markdown",
   "metadata": {
    "slideshow": {
     "slide_type": "slide"
    }
   },
   "source": [
    "Below you can test any sequence of rotation, either around the global or the local coordinates. Just change the matrix R, and the angles of the variables $\\alpha$, $\\beta$ and $\\gamma$. In the example below is the rotation around the global basis, in the sequence x,y,z, with the angles $\\alpha=\\pi/3$ rad, $\\beta=\\pi/4$ rad and $\\gamma=\\pi/2$ rad."
   ]
  },
  {
   "cell_type": "code",
   "execution_count": 34,
   "metadata": {
    "slideshow": {
     "slide_type": "fragment"
    }
   },
   "outputs": [
    {
     "data": {
      "application/javascript": [
       "/* Put everything inside the global mpl namespace */\n",
       "window.mpl = {};\n",
       "\n",
       "\n",
       "mpl.get_websocket_type = function() {\n",
       "    if (typeof(WebSocket) !== 'undefined') {\n",
       "        return WebSocket;\n",
       "    } else if (typeof(MozWebSocket) !== 'undefined') {\n",
       "        return MozWebSocket;\n",
       "    } else {\n",
       "        alert('Your browser does not have WebSocket support. ' +\n",
       "              'Please try Chrome, Safari or Firefox ≥ 6. ' +\n",
       "              'Firefox 4 and 5 are also supported but you ' +\n",
       "              'have to enable WebSockets in about:config.');\n",
       "    };\n",
       "}\n",
       "\n",
       "mpl.figure = function(figure_id, websocket, ondownload, parent_element) {\n",
       "    this.id = figure_id;\n",
       "\n",
       "    this.ws = websocket;\n",
       "\n",
       "    this.supports_binary = (this.ws.binaryType != undefined);\n",
       "\n",
       "    if (!this.supports_binary) {\n",
       "        var warnings = document.getElementById(\"mpl-warnings\");\n",
       "        if (warnings) {\n",
       "            warnings.style.display = 'block';\n",
       "            warnings.textContent = (\n",
       "                \"This browser does not support binary websocket messages. \" +\n",
       "                    \"Performance may be slow.\");\n",
       "        }\n",
       "    }\n",
       "\n",
       "    this.imageObj = new Image();\n",
       "\n",
       "    this.context = undefined;\n",
       "    this.message = undefined;\n",
       "    this.canvas = undefined;\n",
       "    this.rubberband_canvas = undefined;\n",
       "    this.rubberband_context = undefined;\n",
       "    this.format_dropdown = undefined;\n",
       "\n",
       "    this.image_mode = 'full';\n",
       "\n",
       "    this.root = $('<div/>');\n",
       "    this._root_extra_style(this.root)\n",
       "    this.root.attr('style', 'display: inline-block');\n",
       "\n",
       "    $(parent_element).append(this.root);\n",
       "\n",
       "    this._init_header(this);\n",
       "    this._init_canvas(this);\n",
       "    this._init_toolbar(this);\n",
       "\n",
       "    var fig = this;\n",
       "\n",
       "    this.waiting = false;\n",
       "\n",
       "    this.ws.onopen =  function () {\n",
       "            fig.send_message(\"supports_binary\", {value: fig.supports_binary});\n",
       "            fig.send_message(\"send_image_mode\", {});\n",
       "            if (mpl.ratio != 1) {\n",
       "                fig.send_message(\"set_dpi_ratio\", {'dpi_ratio': mpl.ratio});\n",
       "            }\n",
       "            fig.send_message(\"refresh\", {});\n",
       "        }\n",
       "\n",
       "    this.imageObj.onload = function() {\n",
       "            if (fig.image_mode == 'full') {\n",
       "                // Full images could contain transparency (where diff images\n",
       "                // almost always do), so we need to clear the canvas so that\n",
       "                // there is no ghosting.\n",
       "                fig.context.clearRect(0, 0, fig.canvas.width, fig.canvas.height);\n",
       "            }\n",
       "            fig.context.drawImage(fig.imageObj, 0, 0);\n",
       "        };\n",
       "\n",
       "    this.imageObj.onunload = function() {\n",
       "        fig.ws.close();\n",
       "    }\n",
       "\n",
       "    this.ws.onmessage = this._make_on_message_function(this);\n",
       "\n",
       "    this.ondownload = ondownload;\n",
       "}\n",
       "\n",
       "mpl.figure.prototype._init_header = function() {\n",
       "    var titlebar = $(\n",
       "        '<div class=\"ui-dialog-titlebar ui-widget-header ui-corner-all ' +\n",
       "        'ui-helper-clearfix\"/>');\n",
       "    var titletext = $(\n",
       "        '<div class=\"ui-dialog-title\" style=\"width: 100%; ' +\n",
       "        'text-align: center; padding: 3px;\"/>');\n",
       "    titlebar.append(titletext)\n",
       "    this.root.append(titlebar);\n",
       "    this.header = titletext[0];\n",
       "}\n",
       "\n",
       "\n",
       "\n",
       "mpl.figure.prototype._canvas_extra_style = function(canvas_div) {\n",
       "\n",
       "}\n",
       "\n",
       "\n",
       "mpl.figure.prototype._root_extra_style = function(canvas_div) {\n",
       "\n",
       "}\n",
       "\n",
       "mpl.figure.prototype._init_canvas = function() {\n",
       "    var fig = this;\n",
       "\n",
       "    var canvas_div = $('<div/>');\n",
       "\n",
       "    canvas_div.attr('style', 'position: relative; clear: both; outline: 0');\n",
       "\n",
       "    function canvas_keyboard_event(event) {\n",
       "        return fig.key_event(event, event['data']);\n",
       "    }\n",
       "\n",
       "    canvas_div.keydown('key_press', canvas_keyboard_event);\n",
       "    canvas_div.keyup('key_release', canvas_keyboard_event);\n",
       "    this.canvas_div = canvas_div\n",
       "    this._canvas_extra_style(canvas_div)\n",
       "    this.root.append(canvas_div);\n",
       "\n",
       "    var canvas = $('<canvas/>');\n",
       "    canvas.addClass('mpl-canvas');\n",
       "    canvas.attr('style', \"left: 0; top: 0; z-index: 0; outline: 0\")\n",
       "\n",
       "    this.canvas = canvas[0];\n",
       "    this.context = canvas[0].getContext(\"2d\");\n",
       "\n",
       "    var backingStore = this.context.backingStorePixelRatio ||\n",
       "\tthis.context.webkitBackingStorePixelRatio ||\n",
       "\tthis.context.mozBackingStorePixelRatio ||\n",
       "\tthis.context.msBackingStorePixelRatio ||\n",
       "\tthis.context.oBackingStorePixelRatio ||\n",
       "\tthis.context.backingStorePixelRatio || 1;\n",
       "\n",
       "    mpl.ratio = (window.devicePixelRatio || 1) / backingStore;\n",
       "\n",
       "    var rubberband = $('<canvas/>');\n",
       "    rubberband.attr('style', \"position: absolute; left: 0; top: 0; z-index: 1;\")\n",
       "\n",
       "    var pass_mouse_events = true;\n",
       "\n",
       "    canvas_div.resizable({\n",
       "        start: function(event, ui) {\n",
       "            pass_mouse_events = false;\n",
       "        },\n",
       "        resize: function(event, ui) {\n",
       "            fig.request_resize(ui.size.width, ui.size.height);\n",
       "        },\n",
       "        stop: function(event, ui) {\n",
       "            pass_mouse_events = true;\n",
       "            fig.request_resize(ui.size.width, ui.size.height);\n",
       "        },\n",
       "    });\n",
       "\n",
       "    function mouse_event_fn(event) {\n",
       "        if (pass_mouse_events)\n",
       "            return fig.mouse_event(event, event['data']);\n",
       "    }\n",
       "\n",
       "    rubberband.mousedown('button_press', mouse_event_fn);\n",
       "    rubberband.mouseup('button_release', mouse_event_fn);\n",
       "    // Throttle sequential mouse events to 1 every 20ms.\n",
       "    rubberband.mousemove('motion_notify', mouse_event_fn);\n",
       "\n",
       "    rubberband.mouseenter('figure_enter', mouse_event_fn);\n",
       "    rubberband.mouseleave('figure_leave', mouse_event_fn);\n",
       "\n",
       "    canvas_div.on(\"wheel\", function (event) {\n",
       "        event = event.originalEvent;\n",
       "        event['data'] = 'scroll'\n",
       "        if (event.deltaY < 0) {\n",
       "            event.step = 1;\n",
       "        } else {\n",
       "            event.step = -1;\n",
       "        }\n",
       "        mouse_event_fn(event);\n",
       "    });\n",
       "\n",
       "    canvas_div.append(canvas);\n",
       "    canvas_div.append(rubberband);\n",
       "\n",
       "    this.rubberband = rubberband;\n",
       "    this.rubberband_canvas = rubberband[0];\n",
       "    this.rubberband_context = rubberband[0].getContext(\"2d\");\n",
       "    this.rubberband_context.strokeStyle = \"#000000\";\n",
       "\n",
       "    this._resize_canvas = function(width, height) {\n",
       "        // Keep the size of the canvas, canvas container, and rubber band\n",
       "        // canvas in synch.\n",
       "        canvas_div.css('width', width)\n",
       "        canvas_div.css('height', height)\n",
       "\n",
       "        canvas.attr('width', width * mpl.ratio);\n",
       "        canvas.attr('height', height * mpl.ratio);\n",
       "        canvas.attr('style', 'width: ' + width + 'px; height: ' + height + 'px;');\n",
       "\n",
       "        rubberband.attr('width', width);\n",
       "        rubberband.attr('height', height);\n",
       "    }\n",
       "\n",
       "    // Set the figure to an initial 600x600px, this will subsequently be updated\n",
       "    // upon first draw.\n",
       "    this._resize_canvas(600, 600);\n",
       "\n",
       "    // Disable right mouse context menu.\n",
       "    $(this.rubberband_canvas).bind(\"contextmenu\",function(e){\n",
       "        return false;\n",
       "    });\n",
       "\n",
       "    function set_focus () {\n",
       "        canvas.focus();\n",
       "        canvas_div.focus();\n",
       "    }\n",
       "\n",
       "    window.setTimeout(set_focus, 100);\n",
       "}\n",
       "\n",
       "mpl.figure.prototype._init_toolbar = function() {\n",
       "    var fig = this;\n",
       "\n",
       "    var nav_element = $('<div/>');\n",
       "    nav_element.attr('style', 'width: 100%');\n",
       "    this.root.append(nav_element);\n",
       "\n",
       "    // Define a callback function for later on.\n",
       "    function toolbar_event(event) {\n",
       "        return fig.toolbar_button_onclick(event['data']);\n",
       "    }\n",
       "    function toolbar_mouse_event(event) {\n",
       "        return fig.toolbar_button_onmouseover(event['data']);\n",
       "    }\n",
       "\n",
       "    for(var toolbar_ind in mpl.toolbar_items) {\n",
       "        var name = mpl.toolbar_items[toolbar_ind][0];\n",
       "        var tooltip = mpl.toolbar_items[toolbar_ind][1];\n",
       "        var image = mpl.toolbar_items[toolbar_ind][2];\n",
       "        var method_name = mpl.toolbar_items[toolbar_ind][3];\n",
       "\n",
       "        if (!name) {\n",
       "            // put a spacer in here.\n",
       "            continue;\n",
       "        }\n",
       "        var button = $('<button/>');\n",
       "        button.addClass('ui-button ui-widget ui-state-default ui-corner-all ' +\n",
       "                        'ui-button-icon-only');\n",
       "        button.attr('role', 'button');\n",
       "        button.attr('aria-disabled', 'false');\n",
       "        button.click(method_name, toolbar_event);\n",
       "        button.mouseover(tooltip, toolbar_mouse_event);\n",
       "\n",
       "        var icon_img = $('<span/>');\n",
       "        icon_img.addClass('ui-button-icon-primary ui-icon');\n",
       "        icon_img.addClass(image);\n",
       "        icon_img.addClass('ui-corner-all');\n",
       "\n",
       "        var tooltip_span = $('<span/>');\n",
       "        tooltip_span.addClass('ui-button-text');\n",
       "        tooltip_span.html(tooltip);\n",
       "\n",
       "        button.append(icon_img);\n",
       "        button.append(tooltip_span);\n",
       "\n",
       "        nav_element.append(button);\n",
       "    }\n",
       "\n",
       "    var fmt_picker_span = $('<span/>');\n",
       "\n",
       "    var fmt_picker = $('<select/>');\n",
       "    fmt_picker.addClass('mpl-toolbar-option ui-widget ui-widget-content');\n",
       "    fmt_picker_span.append(fmt_picker);\n",
       "    nav_element.append(fmt_picker_span);\n",
       "    this.format_dropdown = fmt_picker[0];\n",
       "\n",
       "    for (var ind in mpl.extensions) {\n",
       "        var fmt = mpl.extensions[ind];\n",
       "        var option = $(\n",
       "            '<option/>', {selected: fmt === mpl.default_extension}).html(fmt);\n",
       "        fmt_picker.append(option);\n",
       "    }\n",
       "\n",
       "    // Add hover states to the ui-buttons\n",
       "    $( \".ui-button\" ).hover(\n",
       "        function() { $(this).addClass(\"ui-state-hover\");},\n",
       "        function() { $(this).removeClass(\"ui-state-hover\");}\n",
       "    );\n",
       "\n",
       "    var status_bar = $('<span class=\"mpl-message\"/>');\n",
       "    nav_element.append(status_bar);\n",
       "    this.message = status_bar[0];\n",
       "}\n",
       "\n",
       "mpl.figure.prototype.request_resize = function(x_pixels, y_pixels) {\n",
       "    // Request matplotlib to resize the figure. Matplotlib will then trigger a resize in the client,\n",
       "    // which will in turn request a refresh of the image.\n",
       "    this.send_message('resize', {'width': x_pixels, 'height': y_pixels});\n",
       "}\n",
       "\n",
       "mpl.figure.prototype.send_message = function(type, properties) {\n",
       "    properties['type'] = type;\n",
       "    properties['figure_id'] = this.id;\n",
       "    this.ws.send(JSON.stringify(properties));\n",
       "}\n",
       "\n",
       "mpl.figure.prototype.send_draw_message = function() {\n",
       "    if (!this.waiting) {\n",
       "        this.waiting = true;\n",
       "        this.ws.send(JSON.stringify({type: \"draw\", figure_id: this.id}));\n",
       "    }\n",
       "}\n",
       "\n",
       "\n",
       "mpl.figure.prototype.handle_save = function(fig, msg) {\n",
       "    var format_dropdown = fig.format_dropdown;\n",
       "    var format = format_dropdown.options[format_dropdown.selectedIndex].value;\n",
       "    fig.ondownload(fig, format);\n",
       "}\n",
       "\n",
       "\n",
       "mpl.figure.prototype.handle_resize = function(fig, msg) {\n",
       "    var size = msg['size'];\n",
       "    if (size[0] != fig.canvas.width || size[1] != fig.canvas.height) {\n",
       "        fig._resize_canvas(size[0], size[1]);\n",
       "        fig.send_message(\"refresh\", {});\n",
       "    };\n",
       "}\n",
       "\n",
       "mpl.figure.prototype.handle_rubberband = function(fig, msg) {\n",
       "    var x0 = msg['x0'] / mpl.ratio;\n",
       "    var y0 = (fig.canvas.height - msg['y0']) / mpl.ratio;\n",
       "    var x1 = msg['x1'] / mpl.ratio;\n",
       "    var y1 = (fig.canvas.height - msg['y1']) / mpl.ratio;\n",
       "    x0 = Math.floor(x0) + 0.5;\n",
       "    y0 = Math.floor(y0) + 0.5;\n",
       "    x1 = Math.floor(x1) + 0.5;\n",
       "    y1 = Math.floor(y1) + 0.5;\n",
       "    var min_x = Math.min(x0, x1);\n",
       "    var min_y = Math.min(y0, y1);\n",
       "    var width = Math.abs(x1 - x0);\n",
       "    var height = Math.abs(y1 - y0);\n",
       "\n",
       "    fig.rubberband_context.clearRect(\n",
       "        0, 0, fig.canvas.width / mpl.ratio, fig.canvas.height / mpl.ratio);\n",
       "\n",
       "    fig.rubberband_context.strokeRect(min_x, min_y, width, height);\n",
       "}\n",
       "\n",
       "mpl.figure.prototype.handle_figure_label = function(fig, msg) {\n",
       "    // Updates the figure title.\n",
       "    fig.header.textContent = msg['label'];\n",
       "}\n",
       "\n",
       "mpl.figure.prototype.handle_cursor = function(fig, msg) {\n",
       "    var cursor = msg['cursor'];\n",
       "    switch(cursor)\n",
       "    {\n",
       "    case 0:\n",
       "        cursor = 'pointer';\n",
       "        break;\n",
       "    case 1:\n",
       "        cursor = 'default';\n",
       "        break;\n",
       "    case 2:\n",
       "        cursor = 'crosshair';\n",
       "        break;\n",
       "    case 3:\n",
       "        cursor = 'move';\n",
       "        break;\n",
       "    }\n",
       "    fig.rubberband_canvas.style.cursor = cursor;\n",
       "}\n",
       "\n",
       "mpl.figure.prototype.handle_message = function(fig, msg) {\n",
       "    fig.message.textContent = msg['message'];\n",
       "}\n",
       "\n",
       "mpl.figure.prototype.handle_draw = function(fig, msg) {\n",
       "    // Request the server to send over a new figure.\n",
       "    fig.send_draw_message();\n",
       "}\n",
       "\n",
       "mpl.figure.prototype.handle_image_mode = function(fig, msg) {\n",
       "    fig.image_mode = msg['mode'];\n",
       "}\n",
       "\n",
       "mpl.figure.prototype.updated_canvas_event = function() {\n",
       "    // Called whenever the canvas gets updated.\n",
       "    this.send_message(\"ack\", {});\n",
       "}\n",
       "\n",
       "// A function to construct a web socket function for onmessage handling.\n",
       "// Called in the figure constructor.\n",
       "mpl.figure.prototype._make_on_message_function = function(fig) {\n",
       "    return function socket_on_message(evt) {\n",
       "        if (evt.data instanceof Blob) {\n",
       "            /* FIXME: We get \"Resource interpreted as Image but\n",
       "             * transferred with MIME type text/plain:\" errors on\n",
       "             * Chrome.  But how to set the MIME type?  It doesn't seem\n",
       "             * to be part of the websocket stream */\n",
       "            evt.data.type = \"image/png\";\n",
       "\n",
       "            /* Free the memory for the previous frames */\n",
       "            if (fig.imageObj.src) {\n",
       "                (window.URL || window.webkitURL).revokeObjectURL(\n",
       "                    fig.imageObj.src);\n",
       "            }\n",
       "\n",
       "            fig.imageObj.src = (window.URL || window.webkitURL).createObjectURL(\n",
       "                evt.data);\n",
       "            fig.updated_canvas_event();\n",
       "            fig.waiting = false;\n",
       "            return;\n",
       "        }\n",
       "        else if (typeof evt.data === 'string' && evt.data.slice(0, 21) == \"data:image/png;base64\") {\n",
       "            fig.imageObj.src = evt.data;\n",
       "            fig.updated_canvas_event();\n",
       "            fig.waiting = false;\n",
       "            return;\n",
       "        }\n",
       "\n",
       "        var msg = JSON.parse(evt.data);\n",
       "        var msg_type = msg['type'];\n",
       "\n",
       "        // Call the  \"handle_{type}\" callback, which takes\n",
       "        // the figure and JSON message as its only arguments.\n",
       "        try {\n",
       "            var callback = fig[\"handle_\" + msg_type];\n",
       "        } catch (e) {\n",
       "            console.log(\"No handler for the '\" + msg_type + \"' message type: \", msg);\n",
       "            return;\n",
       "        }\n",
       "\n",
       "        if (callback) {\n",
       "            try {\n",
       "                // console.log(\"Handling '\" + msg_type + \"' message: \", msg);\n",
       "                callback(fig, msg);\n",
       "            } catch (e) {\n",
       "                console.log(\"Exception inside the 'handler_\" + msg_type + \"' callback:\", e, e.stack, msg);\n",
       "            }\n",
       "        }\n",
       "    };\n",
       "}\n",
       "\n",
       "// from http://stackoverflow.com/questions/1114465/getting-mouse-location-in-canvas\n",
       "mpl.findpos = function(e) {\n",
       "    //this section is from http://www.quirksmode.org/js/events_properties.html\n",
       "    var targ;\n",
       "    if (!e)\n",
       "        e = window.event;\n",
       "    if (e.target)\n",
       "        targ = e.target;\n",
       "    else if (e.srcElement)\n",
       "        targ = e.srcElement;\n",
       "    if (targ.nodeType == 3) // defeat Safari bug\n",
       "        targ = targ.parentNode;\n",
       "\n",
       "    // jQuery normalizes the pageX and pageY\n",
       "    // pageX,Y are the mouse positions relative to the document\n",
       "    // offset() returns the position of the element relative to the document\n",
       "    var x = e.pageX - $(targ).offset().left;\n",
       "    var y = e.pageY - $(targ).offset().top;\n",
       "\n",
       "    return {\"x\": x, \"y\": y};\n",
       "};\n",
       "\n",
       "/*\n",
       " * return a copy of an object with only non-object keys\n",
       " * we need this to avoid circular references\n",
       " * http://stackoverflow.com/a/24161582/3208463\n",
       " */\n",
       "function simpleKeys (original) {\n",
       "  return Object.keys(original).reduce(function (obj, key) {\n",
       "    if (typeof original[key] !== 'object')\n",
       "        obj[key] = original[key]\n",
       "    return obj;\n",
       "  }, {});\n",
       "}\n",
       "\n",
       "mpl.figure.prototype.mouse_event = function(event, name) {\n",
       "    var canvas_pos = mpl.findpos(event)\n",
       "\n",
       "    if (name === 'button_press')\n",
       "    {\n",
       "        this.canvas.focus();\n",
       "        this.canvas_div.focus();\n",
       "    }\n",
       "\n",
       "    var x = canvas_pos.x * mpl.ratio;\n",
       "    var y = canvas_pos.y * mpl.ratio;\n",
       "\n",
       "    this.send_message(name, {x: x, y: y, button: event.button,\n",
       "                             step: event.step,\n",
       "                             guiEvent: simpleKeys(event)});\n",
       "\n",
       "    /* This prevents the web browser from automatically changing to\n",
       "     * the text insertion cursor when the button is pressed.  We want\n",
       "     * to control all of the cursor setting manually through the\n",
       "     * 'cursor' event from matplotlib */\n",
       "    event.preventDefault();\n",
       "    return false;\n",
       "}\n",
       "\n",
       "mpl.figure.prototype._key_event_extra = function(event, name) {\n",
       "    // Handle any extra behaviour associated with a key event\n",
       "}\n",
       "\n",
       "mpl.figure.prototype.key_event = function(event, name) {\n",
       "\n",
       "    // Prevent repeat events\n",
       "    if (name == 'key_press')\n",
       "    {\n",
       "        if (event.which === this._key)\n",
       "            return;\n",
       "        else\n",
       "            this._key = event.which;\n",
       "    }\n",
       "    if (name == 'key_release')\n",
       "        this._key = null;\n",
       "\n",
       "    var value = '';\n",
       "    if (event.ctrlKey && event.which != 17)\n",
       "        value += \"ctrl+\";\n",
       "    if (event.altKey && event.which != 18)\n",
       "        value += \"alt+\";\n",
       "    if (event.shiftKey && event.which != 16)\n",
       "        value += \"shift+\";\n",
       "\n",
       "    value += 'k';\n",
       "    value += event.which.toString();\n",
       "\n",
       "    this._key_event_extra(event, name);\n",
       "\n",
       "    this.send_message(name, {key: value,\n",
       "                             guiEvent: simpleKeys(event)});\n",
       "    return false;\n",
       "}\n",
       "\n",
       "mpl.figure.prototype.toolbar_button_onclick = function(name) {\n",
       "    if (name == 'download') {\n",
       "        this.handle_save(this, null);\n",
       "    } else {\n",
       "        this.send_message(\"toolbar_button\", {name: name});\n",
       "    }\n",
       "};\n",
       "\n",
       "mpl.figure.prototype.toolbar_button_onmouseover = function(tooltip) {\n",
       "    this.message.textContent = tooltip;\n",
       "};\n",
       "mpl.toolbar_items = [[\"Home\", \"Reset original view\", \"fa fa-home icon-home\", \"home\"], [\"Back\", \"Back to previous view\", \"fa fa-arrow-left icon-arrow-left\", \"back\"], [\"Forward\", \"Forward to next view\", \"fa fa-arrow-right icon-arrow-right\", \"forward\"], [\"\", \"\", \"\", \"\"], [\"Pan\", \"Pan axes with left mouse, zoom with right\", \"fa fa-arrows icon-move\", \"pan\"], [\"Zoom\", \"Zoom to rectangle\", \"fa fa-square-o icon-check-empty\", \"zoom\"], [\"\", \"\", \"\", \"\"], [\"Download\", \"Download plot\", \"fa fa-floppy-o icon-save\", \"download\"]];\n",
       "\n",
       "mpl.extensions = [\"eps\", \"jpeg\", \"pdf\", \"png\", \"ps\", \"raw\", \"svg\", \"tif\"];\n",
       "\n",
       "mpl.default_extension = \"png\";var comm_websocket_adapter = function(comm) {\n",
       "    // Create a \"websocket\"-like object which calls the given IPython comm\n",
       "    // object with the appropriate methods. Currently this is a non binary\n",
       "    // socket, so there is still some room for performance tuning.\n",
       "    var ws = {};\n",
       "\n",
       "    ws.close = function() {\n",
       "        comm.close()\n",
       "    };\n",
       "    ws.send = function(m) {\n",
       "        //console.log('sending', m);\n",
       "        comm.send(m);\n",
       "    };\n",
       "    // Register the callback with on_msg.\n",
       "    comm.on_msg(function(msg) {\n",
       "        //console.log('receiving', msg['content']['data'], msg);\n",
       "        // Pass the mpl event to the overridden (by mpl) onmessage function.\n",
       "        ws.onmessage(msg['content']['data'])\n",
       "    });\n",
       "    return ws;\n",
       "}\n",
       "\n",
       "mpl.mpl_figure_comm = function(comm, msg) {\n",
       "    // This is the function which gets called when the mpl process\n",
       "    // starts-up an IPython Comm through the \"matplotlib\" channel.\n",
       "\n",
       "    var id = msg.content.data.id;\n",
       "    // Get hold of the div created by the display call when the Comm\n",
       "    // socket was opened in Python.\n",
       "    var element = $(\"#\" + id);\n",
       "    var ws_proxy = comm_websocket_adapter(comm)\n",
       "\n",
       "    function ondownload(figure, format) {\n",
       "        window.open(figure.imageObj.src);\n",
       "    }\n",
       "\n",
       "    var fig = new mpl.figure(id, ws_proxy,\n",
       "                           ondownload,\n",
       "                           element.get(0));\n",
       "\n",
       "    // Call onopen now - mpl needs it, as it is assuming we've passed it a real\n",
       "    // web socket which is closed, not our websocket->open comm proxy.\n",
       "    ws_proxy.onopen();\n",
       "\n",
       "    fig.parent_element = element.get(0);\n",
       "    fig.cell_info = mpl.find_output_cell(\"<div id='\" + id + \"'></div>\");\n",
       "    if (!fig.cell_info) {\n",
       "        console.error(\"Failed to find cell for figure\", id, fig);\n",
       "        return;\n",
       "    }\n",
       "\n",
       "    var output_index = fig.cell_info[2]\n",
       "    var cell = fig.cell_info[0];\n",
       "\n",
       "};\n",
       "\n",
       "mpl.figure.prototype.handle_close = function(fig, msg) {\n",
       "    var width = fig.canvas.width/mpl.ratio\n",
       "    fig.root.unbind('remove')\n",
       "\n",
       "    // Update the output cell to use the data from the current canvas.\n",
       "    fig.push_to_output();\n",
       "    var dataURL = fig.canvas.toDataURL();\n",
       "    // Re-enable the keyboard manager in IPython - without this line, in FF,\n",
       "    // the notebook keyboard shortcuts fail.\n",
       "    IPython.keyboard_manager.enable()\n",
       "    $(fig.parent_element).html('<img src=\"' + dataURL + '\" width=\"' + width + '\">');\n",
       "    fig.close_ws(fig, msg);\n",
       "}\n",
       "\n",
       "mpl.figure.prototype.close_ws = function(fig, msg){\n",
       "    fig.send_message('closing', msg);\n",
       "    // fig.ws.close()\n",
       "}\n",
       "\n",
       "mpl.figure.prototype.push_to_output = function(remove_interactive) {\n",
       "    // Turn the data on the canvas into data in the output cell.\n",
       "    var width = this.canvas.width/mpl.ratio\n",
       "    var dataURL = this.canvas.toDataURL();\n",
       "    this.cell_info[1]['text/html'] = '<img src=\"' + dataURL + '\" width=\"' + width + '\">';\n",
       "}\n",
       "\n",
       "mpl.figure.prototype.updated_canvas_event = function() {\n",
       "    // Tell IPython that the notebook contents must change.\n",
       "    IPython.notebook.set_dirty(true);\n",
       "    this.send_message(\"ack\", {});\n",
       "    var fig = this;\n",
       "    // Wait a second, then push the new image to the DOM so\n",
       "    // that it is saved nicely (might be nice to debounce this).\n",
       "    setTimeout(function () { fig.push_to_output() }, 1000);\n",
       "}\n",
       "\n",
       "mpl.figure.prototype._init_toolbar = function() {\n",
       "    var fig = this;\n",
       "\n",
       "    var nav_element = $('<div/>');\n",
       "    nav_element.attr('style', 'width: 100%');\n",
       "    this.root.append(nav_element);\n",
       "\n",
       "    // Define a callback function for later on.\n",
       "    function toolbar_event(event) {\n",
       "        return fig.toolbar_button_onclick(event['data']);\n",
       "    }\n",
       "    function toolbar_mouse_event(event) {\n",
       "        return fig.toolbar_button_onmouseover(event['data']);\n",
       "    }\n",
       "\n",
       "    for(var toolbar_ind in mpl.toolbar_items){\n",
       "        var name = mpl.toolbar_items[toolbar_ind][0];\n",
       "        var tooltip = mpl.toolbar_items[toolbar_ind][1];\n",
       "        var image = mpl.toolbar_items[toolbar_ind][2];\n",
       "        var method_name = mpl.toolbar_items[toolbar_ind][3];\n",
       "\n",
       "        if (!name) { continue; };\n",
       "\n",
       "        var button = $('<button class=\"btn btn-default\" href=\"#\" title=\"' + name + '\"><i class=\"fa ' + image + ' fa-lg\"></i></button>');\n",
       "        button.click(method_name, toolbar_event);\n",
       "        button.mouseover(tooltip, toolbar_mouse_event);\n",
       "        nav_element.append(button);\n",
       "    }\n",
       "\n",
       "    // Add the status bar.\n",
       "    var status_bar = $('<span class=\"mpl-message\" style=\"text-align:right; float: right;\"/>');\n",
       "    nav_element.append(status_bar);\n",
       "    this.message = status_bar[0];\n",
       "\n",
       "    // Add the close button to the window.\n",
       "    var buttongrp = $('<div class=\"btn-group inline pull-right\"></div>');\n",
       "    var button = $('<button class=\"btn btn-mini btn-primary\" href=\"#\" title=\"Stop Interaction\"><i class=\"fa fa-power-off icon-remove icon-large\"></i></button>');\n",
       "    button.click(function (evt) { fig.handle_close(fig, {}); } );\n",
       "    button.mouseover('Stop Interaction', toolbar_mouse_event);\n",
       "    buttongrp.append(button);\n",
       "    var titlebar = this.root.find($('.ui-dialog-titlebar'));\n",
       "    titlebar.prepend(buttongrp);\n",
       "}\n",
       "\n",
       "mpl.figure.prototype._root_extra_style = function(el){\n",
       "    var fig = this\n",
       "    el.on(\"remove\", function(){\n",
       "\tfig.close_ws(fig, {});\n",
       "    });\n",
       "}\n",
       "\n",
       "mpl.figure.prototype._canvas_extra_style = function(el){\n",
       "    // this is important to make the div 'focusable\n",
       "    el.attr('tabindex', 0)\n",
       "    // reach out to IPython and tell the keyboard manager to turn it's self\n",
       "    // off when our div gets focus\n",
       "\n",
       "    // location in version 3\n",
       "    if (IPython.notebook.keyboard_manager) {\n",
       "        IPython.notebook.keyboard_manager.register_events(el);\n",
       "    }\n",
       "    else {\n",
       "        // location in version 2\n",
       "        IPython.keyboard_manager.register_events(el);\n",
       "    }\n",
       "\n",
       "}\n",
       "\n",
       "mpl.figure.prototype._key_event_extra = function(event, name) {\n",
       "    var manager = IPython.notebook.keyboard_manager;\n",
       "    if (!manager)\n",
       "        manager = IPython.keyboard_manager;\n",
       "\n",
       "    // Check for shift+enter\n",
       "    if (event.shiftKey && event.which == 13) {\n",
       "        this.canvas_div.blur();\n",
       "        event.shiftKey = false;\n",
       "        // Send a \"J\" for go to next cell\n",
       "        event.which = 74;\n",
       "        event.keyCode = 74;\n",
       "        manager.command_mode();\n",
       "        manager.handle_keydown(event);\n",
       "    }\n",
       "}\n",
       "\n",
       "mpl.figure.prototype.handle_save = function(fig, msg) {\n",
       "    fig.ondownload(fig, null);\n",
       "}\n",
       "\n",
       "\n",
       "mpl.find_output_cell = function(html_output) {\n",
       "    // Return the cell and output element which can be found *uniquely* in the notebook.\n",
       "    // Note - this is a bit hacky, but it is done because the \"notebook_saving.Notebook\"\n",
       "    // IPython event is triggered only after the cells have been serialised, which for\n",
       "    // our purposes (turning an active figure into a static one), is too late.\n",
       "    var cells = IPython.notebook.get_cells();\n",
       "    var ncells = cells.length;\n",
       "    for (var i=0; i<ncells; i++) {\n",
       "        var cell = cells[i];\n",
       "        if (cell.cell_type === 'code'){\n",
       "            for (var j=0; j<cell.output_area.outputs.length; j++) {\n",
       "                var data = cell.output_area.outputs[j];\n",
       "                if (data.data) {\n",
       "                    // IPython >= 3 moved mimebundle to data attribute of output\n",
       "                    data = data.data;\n",
       "                }\n",
       "                if (data['text/html'] == html_output) {\n",
       "                    return [cell, data, j];\n",
       "                }\n",
       "            }\n",
       "        }\n",
       "    }\n",
       "}\n",
       "\n",
       "// Register the function which deals with the matplotlib target/channel.\n",
       "// The kernel may be null if the page has been refreshed.\n",
       "if (IPython.notebook.kernel != null) {\n",
       "    IPython.notebook.kernel.comm_manager.register_target('matplotlib', mpl.mpl_figure_comm);\n",
       "}\n"
      ],
      "text/plain": [
       "<IPython.core.display.Javascript object>"
      ]
     },
     "metadata": {},
     "output_type": "display_data"
    },
    {
     "data": {
      "text/html": [
       "<img src=\"data:image/png;base64,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\" width=\"500\">"
      ],
      "text/plain": [
       "<IPython.core.display.HTML object>"
      ]
     },
     "metadata": {},
     "output_type": "display_data"
    },
    {
     "name": "stdout",
     "output_type": "stream",
     "text": [
      "3\n",
      "[[ 0.      0.7071 -0.7071]\n",
      " [-0.5     0.6124  0.6124]\n",
      " [ 0.866   0.3536  0.3536]]\n"
     ]
    },
    {
     "data": {
      "text/plain": [
       "<CCSbasis.CCSbasis at 0x7f7c7f039ef0>"
      ]
     },
     "execution_count": 34,
     "metadata": {},
     "output_type": "execute_result"
    }
   ],
   "source": [
    "sys.path.insert(1, r'./../functions')  # add to pythonpath\n",
    "%matplotlib notebook\n",
    "from CCSbasis import CCSbasis\n",
    "\n",
    "R = RZ*RY*RX\n",
    "R = sym.lambdify((a, b, g), R, 'numpy')\n",
    "\n",
    "alpha = np.pi/3\n",
    "beta = np.pi/4\n",
    "gamma = np.pi/2\n",
    "\n",
    "R = R(alpha, beta, gamma)\n",
    "\n",
    "e1 = np.array([[1,0,0]])\n",
    "e2 = np.array([[0,1,0]])\n",
    "e3 = np.array([[0,0,1]])\n",
    "\n",
    "basis = np.vstack((e1,e2,e3))\n",
    "basisRot = R@basis\n",
    "CCSbasis(Oijk=np.array([0,0,0]), Oxyz=np.array([0,0,0]), ijk=basis.T, xyz=basisRot.T, vector=False)"
   ]
  },
  {
   "cell_type": "markdown",
   "metadata": {
    "slideshow": {
     "slide_type": "slide"
    }
   },
   "source": [
    "#### Rotations in a coordinate system is equivalent to minus rotations in the other coordinate system\n",
    "\n",
    "Remember that we saw for the elemental rotations that it's equivalent to instead of rotating the local coordinate system, $xyz$, by $\\alpha, \\beta, \\gamma$ in relation to axes of the Global coordinate system, to rotate the Global coordinate system, $\\mathbf{XYZ}$, by $-\\alpha, -\\beta, -\\gamma$ in relation to the axes of the local coordinate system. The same property applies to a sequence of rotations: rotations of $xyz$ in relation to $\\mathbf{XYZ}$ by $\\alpha, \\beta, \\gamma$ result in the same matrix as rotations of $\\mathbf{XYZ}$ in relation to $xyz$ by $-\\alpha, -\\beta, -\\gamma$:   \n",
    "\n",
    "$$ \\begin{array}{l l}\n",
    "\\mathbf{R_{Gl,\\,XYZ\\,}}(\\alpha,\\beta,\\gamma) & = \\mathbf{R_{Gl,\\,Z}}(\\gamma)\\, \\mathbf{R_{Gl,\\,Y}}(\\beta)\\, \\mathbf{R_{Gl,\\,X}}(\\alpha) \\\\\n",
    "& = \\mathbf{R}_{\\mathbf{lG},\\,z\\,}(-\\gamma)\\, \\mathbf{R}_{\\mathbf{lG},\\,y\\,}(-\\beta)\\, \\mathbf{R}_{\\mathbf{lG},\\,x\\,}(-\\alpha) \\\\\n",
    "& = \\mathbf{R}_{\\mathbf{lG},\\,xyz\\,}(-\\alpha,-\\beta,-\\gamma)\n",
    "\\end{array}\n",
    "$$\n",
    "\n",
    "Confer that by examining the $\\mathbf{R_{Gl,\\,XYZ}}$ and $\\mathbf{R}_{\\mathbf{lG},\\,xyz}$ matrices above.\n",
    "\n",
    "Let's verify this property with Sympy:"
   ]
  },
  {
   "cell_type": "code",
   "execution_count": 10,
   "metadata": {
    "ExecuteTime": {
     "end_time": "2016-10-24T20:17:18.696398",
     "start_time": "2016-10-24T20:17:18.674364"
    },
    "slideshow": {
     "slide_type": "fragment"
    }
   },
   "outputs": [
    {
     "data": {
      "text/latex": [
       "$\\displaystyle \\mathbf{R_{Gl,\\,XYZ\\,}}(\\alpha,\\beta,\\gamma) =$"
      ],
      "text/plain": [
       "<IPython.core.display.Math object>"
      ]
     },
     "metadata": {},
     "output_type": "display_data"
    },
    {
     "data": {
      "text/latex": [
       "$\\displaystyle \\left[\\begin{matrix}\\cos{\\left(\\beta \\right)} \\cos{\\left(\\gamma \\right)} & \\sin{\\left(\\alpha \\right)} \\sin{\\left(\\beta \\right)} \\cos{\\left(\\gamma \\right)} - \\sin{\\left(\\gamma \\right)} \\cos{\\left(\\alpha \\right)} & \\sin{\\left(\\alpha \\right)} \\sin{\\left(\\gamma \\right)} + \\sin{\\left(\\beta \\right)} \\cos{\\left(\\alpha \\right)} \\cos{\\left(\\gamma \\right)}\\\\\\sin{\\left(\\gamma \\right)} \\cos{\\left(\\beta \\right)} & \\sin{\\left(\\alpha \\right)} \\sin{\\left(\\beta \\right)} \\sin{\\left(\\gamma \\right)} + \\cos{\\left(\\alpha \\right)} \\cos{\\left(\\gamma \\right)} & - \\sin{\\left(\\alpha \\right)} \\cos{\\left(\\gamma \\right)} + \\sin{\\left(\\beta \\right)} \\sin{\\left(\\gamma \\right)} \\cos{\\left(\\alpha \\right)}\\\\- \\sin{\\left(\\beta \\right)} & \\sin{\\left(\\alpha \\right)} \\cos{\\left(\\beta \\right)} & \\cos{\\left(\\alpha \\right)} \\cos{\\left(\\beta \\right)}\\end{matrix}\\right]$"
      ],
      "text/plain": [
       "<IPython.core.display.Math object>"
      ]
     },
     "metadata": {},
     "output_type": "display_data"
    },
    {
     "data": {
      "text/latex": [
       "$\\displaystyle \\mathbf{R}_{\\mathbf{lG},\\,xyz\\,}(-\\alpha,-\\beta,-\\gamma) =$"
      ],
      "text/plain": [
       "<IPython.core.display.Math object>"
      ]
     },
     "metadata": {},
     "output_type": "display_data"
    },
    {
     "data": {
      "text/latex": [
       "$\\displaystyle \\left[\\begin{matrix}\\cos{\\left(\\beta \\right)} \\cos{\\left(\\gamma \\right)} & \\sin{\\left(\\alpha \\right)} \\sin{\\left(\\beta \\right)} \\cos{\\left(\\gamma \\right)} - \\sin{\\left(\\gamma \\right)} \\cos{\\left(\\alpha \\right)} & \\sin{\\left(\\alpha \\right)} \\sin{\\left(\\gamma \\right)} + \\sin{\\left(\\beta \\right)} \\cos{\\left(\\alpha \\right)} \\cos{\\left(\\gamma \\right)}\\\\\\sin{\\left(\\gamma \\right)} \\cos{\\left(\\beta \\right)} & \\sin{\\left(\\alpha \\right)} \\sin{\\left(\\beta \\right)} \\sin{\\left(\\gamma \\right)} + \\cos{\\left(\\alpha \\right)} \\cos{\\left(\\gamma \\right)} & - \\sin{\\left(\\alpha \\right)} \\cos{\\left(\\gamma \\right)} + \\sin{\\left(\\beta \\right)} \\sin{\\left(\\gamma \\right)} \\cos{\\left(\\alpha \\right)}\\\\- \\sin{\\left(\\beta \\right)} & \\sin{\\left(\\alpha \\right)} \\cos{\\left(\\beta \\right)} & \\cos{\\left(\\alpha \\right)} \\cos{\\left(\\beta \\right)}\\end{matrix}\\right]$"
      ],
      "text/plain": [
       "<IPython.core.display.Math object>"
      ]
     },
     "metadata": {},
     "output_type": "display_data"
    },
    {
     "data": {
      "text/latex": [
       "$\\displaystyle \\mathbf{R_{Gl,\\,XYZ\\,}}(\\alpha,\\beta,\\gamma) \\;==\\;\\mathbf{R}_{\\mathbf{lG},\\,xyz\\,}(-\\alpha,-\\beta,-\\gamma)$"
      ],
      "text/plain": [
       "<IPython.core.display.Math object>"
      ]
     },
     "metadata": {},
     "output_type": "display_data"
    },
    {
     "data": {
      "text/plain": [
       "True"
      ]
     },
     "execution_count": 10,
     "metadata": {},
     "output_type": "execute_result"
    }
   ],
   "source": [
    "RXYZ = RZ*RY*RX\n",
    "# Rotation matrix of xyz in relation to XYZ:\n",
    "display(Math(sym.latex(r'\\mathbf{R_{Gl,\\,XYZ\\,}}(\\alpha,\\beta,\\gamma) =')))\n",
    "display(Math(sym.latex(RXYZ, mat_str='matrix')))\n",
    "\n",
    "# Elemental rotation matrices of XYZ in relation to xyz and negate all angles:\n",
    "Rx_neg = sym.Matrix([[1, 0, 0], [0, cos(-a), -sin(-a)], [0, sin(-a), cos(-a)]]).T\n",
    "Ry_neg = sym.Matrix([[cos(-b), 0, sin(-b)], [0, 1, 0], [-sin(-b), 0, cos(-b)]]).T\n",
    "Rz_neg = sym.Matrix([[cos(-g), -sin(-g), 0], [sin(-g), cos(-g), 0], [0, 0, 1]]).T\n",
    "\n",
    "# Rotation matrix of XYZ in relation to xyz:\n",
    "Rxyz_neg = Rz_neg*Ry_neg*Rx_neg\n",
    "display(Math(sym.latex(r'\\mathbf{R}_{\\mathbf{lG},\\,xyz\\,}(-\\alpha,-\\beta,-\\gamma) =')))\n",
    "display(Math(sym.latex(Rxyz_neg, mat_str='matrix')))\n",
    "\n",
    "# Check that the two matrices are equal:\n",
    "display(Math(sym.latex(r'\\mathbf{R_{Gl,\\,XYZ\\,}}(\\alpha,\\beta,\\gamma) \\;==\\;' + \\\n",
    "                       r'\\mathbf{R}_{\\mathbf{lG},\\,xyz\\,}(-\\alpha,-\\beta,-\\gamma)')))\n",
    "RXYZ == Rxyz_neg"
   ]
  },
  {
   "cell_type": "markdown",
   "metadata": {
    "slideshow": {
     "slide_type": "slide"
    }
   },
   "source": [
    "#### Rotations in a coordinate system is the transpose of inverse order of rotations in the other coordinate system\n",
    "\n",
    "There is another property of the rotation matrices for the different coordinate systems: the rotation matrix, for example from the Global to the local coordinate system for the $xyz$ sequence, is just the transpose of the rotation matrix for the inverse operation (from the local to the Global coordinate system) of the inverse sequence ($\\mathbf{ZYX}$) and vice-versa:\n",
    "\n",
    "$$ \\begin{array}{l l}\n",
    "\\mathbf{R}_{\\mathbf{lG},\\,xyz}(\\alpha,\\beta,\\gamma) & = \\mathbf{R}_{\\mathbf{lG},\\,z\\,} \\mathbf{R}_{\\mathbf{lG},\\,y\\,} \\mathbf{R}_{\\mathbf{lG},\\,x} \\\\\n",
    "& = \\mathbf{R_{Gl,\\,Z\\,}^{-1}} \\mathbf{R_{Gl,\\,Y\\,}^{-1}} \\mathbf{R_{Gl,\\,X\\,}^{-1}} \\\\\n",
    "& = \\mathbf{R_{Gl,\\,Z\\,}^{T}} \\mathbf{R_{Gl,\\,Y\\,}^{T}} \\mathbf{R_{Gl,\\,X\\,}^{T}} \\\\\n",
    "& = (\\mathbf{R_{Gl,\\,X\\,}} \\mathbf{R_{Gl,\\,Y\\,}} \\mathbf{R_{Gl,\\,Z}})^\\mathbf{T} \\\\\n",
    "& = \\mathbf{R_{Gl,\\,ZYX\\,}^{T}}(\\gamma,\\beta,\\alpha)\n",
    "\\end{array}\n",
    "$$\n",
    "\n",
    "Where we used the properties that the inverse of the rotation matrix (which is orthonormal) is its transpose and that the transpose of a product of matrices is equal to the product of their transposes in reverse order.\n",
    "\n",
    "Let's verify this property with Sympy:"
   ]
  },
  {
   "cell_type": "code",
   "execution_count": 11,
   "metadata": {
    "ExecuteTime": {
     "end_time": "2016-10-24T20:17:19.606590",
     "start_time": "2016-10-24T20:17:19.602587"
    },
    "slideshow": {
     "slide_type": "fragment"
    }
   },
   "outputs": [
    {
     "data": {
      "text/latex": [
       "$\\displaystyle \\mathbf{R_{Gl,\\,ZYX\\,}^T}=\\left[\\begin{matrix}\\cos{\\left(\\beta \\right)} \\cos{\\left(\\gamma \\right)} & \\sin{\\left(\\alpha \\right)} \\sin{\\left(\\beta \\right)} \\cos{\\left(\\gamma \\right)} + \\sin{\\left(\\gamma \\right)} \\cos{\\left(\\alpha \\right)} & \\sin{\\left(\\alpha \\right)} \\sin{\\left(\\gamma \\right)} - \\sin{\\left(\\beta \\right)} \\cos{\\left(\\alpha \\right)} \\cos{\\left(\\gamma \\right)}\\\\- \\sin{\\left(\\gamma \\right)} \\cos{\\left(\\beta \\right)} & - \\sin{\\left(\\alpha \\right)} \\sin{\\left(\\beta \\right)} \\sin{\\left(\\gamma \\right)} + \\cos{\\left(\\alpha \\right)} \\cos{\\left(\\gamma \\right)} & \\sin{\\left(\\alpha \\right)} \\cos{\\left(\\gamma \\right)} + \\sin{\\left(\\beta \\right)} \\sin{\\left(\\gamma \\right)} \\cos{\\left(\\alpha \\right)}\\\\\\sin{\\left(\\beta \\right)} & - \\sin{\\left(\\alpha \\right)} \\cos{\\left(\\beta \\right)} & \\cos{\\left(\\alpha \\right)} \\cos{\\left(\\beta \\right)}\\end{matrix}\\right]$"
      ],
      "text/plain": [
       "<IPython.core.display.Math object>"
      ]
     },
     "metadata": {},
     "output_type": "display_data"
    },
    {
     "data": {
      "text/latex": [
       "$\\displaystyle \\mathbf{R}_{\\mathbf{lG},\\,xyz\\,}(\\alpha,\\beta,\\gamma) \\,==\\,\\mathbf{R_{Gl,\\,ZYX\\,}^T}(\\gamma,\\beta,\\alpha)$"
      ],
      "text/plain": [
       "<IPython.core.display.Math object>"
      ]
     },
     "metadata": {},
     "output_type": "display_data"
    },
    {
     "data": {
      "text/plain": [
       "True"
      ]
     },
     "execution_count": 11,
     "metadata": {},
     "output_type": "execute_result"
    }
   ],
   "source": [
    "RZYX = RX*RY*RZ\n",
    "Rxyz = Rz*Ry*Rx\n",
    "display(Math(sym.latex(r'\\mathbf{R_{Gl,\\,ZYX\\,}^T}=') + sym.latex(RZYX.T, mat_str='matrix')))\n",
    "display(Math(sym.latex(r'\\mathbf{R}_{\\mathbf{lG},\\,xyz\\,}(\\alpha,\\beta,\\gamma) \\,==\\,' + \\\n",
    "                       r'\\mathbf{R_{Gl,\\,ZYX\\,}^T}(\\gamma,\\beta,\\alpha)')))\n",
    "Rxyz == RZYX.T"
   ]
  },
  {
   "cell_type": "markdown",
   "metadata": {
    "slideshow": {
     "slide_type": "slide"
    }
   },
   "source": [
    "#### Sequence of rotations of a Vector\n",
    "\n",
    "We saw in the notebook [Rigid-body transformations in a plane (2D)](http://nbviewer.jupyter.org/github/BMClab/bmc/blob/master/notebooks/Transformation2D.ipynb#Rotation-of-a-Vector) that the rotation matrix can also be used to rotate a vector (in fact, a point, image, solid, etc.) by a given angle around an axis of the coordinate system. Let's investigate that for the 3D case using the example earlier where a book was rotated in different orders and around the Global and local coordinate systems.  \n",
    "\n",
    "Before any rotation, the point shown in that figure as a round black dot on the spine of the book has coordinates $\\mathbf{P}=[0, 1, 2]$ (the book has thickness 0, width 1, and height 2). \n",
    "\n",
    "After the first sequence of rotations shown in the figure (rotated around $X$ and $Y$ by $90^0$ each time), $\\mathbf{P}$ has coordinates $\\mathbf{P}=[1, -2, 0]$ in the global coordinate system. Let's verify that:"
   ]
  },
  {
   "cell_type": "code",
   "execution_count": 12,
   "metadata": {
    "slideshow": {
     "slide_type": "slide"
    }
   },
   "outputs": [
    {
     "name": "stdout",
     "output_type": "stream",
     "text": [
      "P1 = [[ 1. -2.  0.]]\n"
     ]
    }
   ],
   "source": [
    "P = np.array([[0, 1, 2]]).T\n",
    "\n",
    "RXY = RY*RX\n",
    "R = sym.lambdify((a, b), RXY, 'numpy')\n",
    "R = R(np.pi/2, np.pi/2)\n",
    "P1 = np.dot(R, P)\n",
    "print('P1 =', P1.T)"
   ]
  },
  {
   "cell_type": "markdown",
   "metadata": {
    "slideshow": {
     "slide_type": "slide"
    }
   },
   "source": [
    "As expected.  \n",
    "The reader is invited to deduce the position of point $\\mathbf{P}$ after the inverse order of rotations, but still around the Global coordinate system.\n",
    "\n",
    "Although we are performing vector rotation, where we don't need the concept of transformation between coordinate systems, in the example above we used the local-to-Global rotation matrix, $\\mathbf{R_{Gl}}$. As we saw in the notebook for the 2D transformation, when we use this matrix, it performs a counter-clockwise (positive) rotation.  \n",
    "If we want to rotate the vector in the clockwise (negative) direction, we can use the very same rotation matrix entering a negative angle or we can use the inverse rotation matrix, the Global-to-local rotation matrix, $\\mathbf{R_{lG}}$ and a positive (negative of negative) angle, because $\\mathbf{R_{Gl}}(\\alpha) = \\mathbf{R_{lG}}(-\\alpha)$, but bear in mind that even in this latter case we are rotating around the Global coordinate system!  \n",
    "\n",
    "Consider now that we want to deduce algebraically the position of the point $\\mathbf{P}$ after the rotations around the local coordinate system as shown in the second set of examples in the figure with the sequence of book rotations. The point has the same initial position, $\\mathbf{P}=[0, 1, 2]$, and after the rotations around $x$ and $y$ by $90^0$ each time, what is the position of this point?  \n",
    "It's implicit in this question that the new desired position is in the Global coordinate system because the local coordinate system rotates with the book and the point never changes its position in the local coordinate system. So, by inspection of the figure, the new position of the point is $\\mathbf{P1}=[2, 0, 1]$.  \n",
    "Let's naively try to deduce this position by repeating the steps as before:"
   ]
  },
  {
   "cell_type": "code",
   "execution_count": 13,
   "metadata": {
    "slideshow": {
     "slide_type": "fragment"
    }
   },
   "outputs": [
    {
     "name": "stdout",
     "output_type": "stream",
     "text": [
      "P1 = [[ 1.  2. -0.]]\n"
     ]
    }
   ],
   "source": [
    "Rxy = Ry*Rx\n",
    "R = sym.lambdify((a, b), Rxy, 'numpy')\n",
    "R = R(np.pi/2, np.pi/2)\n",
    "P1 = np.dot(R, P)\n",
    "print('P1 =', P1.T)"
   ]
  },
  {
   "cell_type": "markdown",
   "metadata": {
    "slideshow": {
     "slide_type": "slide"
    }
   },
   "source": [
    "The wrong answer.  \n",
    "The problem is that we defined the rotation of a vector using the local-to-Global rotation matrix. One correction solution for this problem is to continuing using the multiplication of the Global-to-local rotation matrices, $\\mathbf{R}_{xy} = \\mathbf{R}_y\\,\\mathbf{R}_x$, transpose $\\mathbf{R}_{xy}$ to get the Global-to-local coordinate system, $\\mathbf{R_{XY}}=\\mathbf{R^T}_{xy}$, and then rotate the vector using this matrix:"
   ]
  },
  {
   "cell_type": "code",
   "execution_count": 14,
   "metadata": {
    "slideshow": {
     "slide_type": "fragment"
    }
   },
   "outputs": [
    {
     "name": "stdout",
     "output_type": "stream",
     "text": [
      "P1 = [[ 2. -0.  1.]]\n"
     ]
    }
   ],
   "source": [
    "Rxy = Ry*Rx\n",
    "RXY = Rxy.T\n",
    "R = sym.lambdify((a, b), RXY, 'numpy')\n",
    "R = R(np.pi/2, np.pi/2)\n",
    "P1 = np.dot(R, P)\n",
    "print('P1 =', P1.T)"
   ]
  },
  {
   "cell_type": "markdown",
   "metadata": {
    "slideshow": {
     "slide_type": "fragment"
    }
   },
   "source": [
    "The correct answer.\n",
    "\n",
    "Another solution is to understand that when using the Global-to-local rotation matrix, counter-clockwise rotations (as performed with the book the figure) are negative, not positive, and that when dealing with rotations with the Global-to-local rotation matrix the order of matrix multiplication is inverted, for example, it should be $\\mathbf{R\\_}_{xyz} = \\mathbf{R}_x\\,\\mathbf{R}_y\\,\\mathbf{R}_z$ (an added underscore to remind us this is not the convention adopted here)."
   ]
  },
  {
   "cell_type": "code",
   "execution_count": 15,
   "metadata": {
    "slideshow": {
     "slide_type": "fragment"
    }
   },
   "outputs": [
    {
     "name": "stdout",
     "output_type": "stream",
     "text": [
      "P1 = [[ 2. -0.  1.]]\n"
     ]
    }
   ],
   "source": [
    "R_xy = Rx*Ry\n",
    "R = sym.lambdify((a, b), R_xy, 'numpy')\n",
    "R = R(-np.pi/2, -np.pi/2)\n",
    "P1 = np.dot(R, P)\n",
    "print('P1 =', P1.T)"
   ]
  },
  {
   "cell_type": "markdown",
   "metadata": {
    "slideshow": {
     "slide_type": "fragment"
    }
   },
   "source": [
    "The correct answer.  \n",
    "The reader is invited to deduce the position of point $\\mathbf{P}$ after the inverse order of rotations, around the local coordinate system.\n",
    "\n",
    "In fact, you will find elsewhere texts about rotations in 3D adopting this latter convention as the standard, i.e., they introduce the Global-to-local rotation matrix and describe sequence of rotations algebraically as matrix multiplication in the direct order, $\\mathbf{R\\_}_{xyz} = \\mathbf{R}_x\\,\\mathbf{R}_y\\,\\mathbf{R}_z$, the inverse we have done in this text. It's all a matter of convention, just that."
   ]
  },
  {
   "cell_type": "markdown",
   "metadata": {
    "slideshow": {
     "slide_type": "slide"
    }
   },
   "source": [
    "#### The 12 different sequences of Euler angles\n",
    "\n",
    "The Euler angles are defined in terms of rotations around a rotating local coordinate system. As we saw for the sequence of rotations around $x, y, z$, the axes of the local rotated coordinate system are not fixed in space because after the first elemental rotation, the other two axes rotate. \n",
    "\n",
    "Other sequences of rotations could be produced without combining axes of the two different coordinate systems (Global and local) for the definition of the rotation axes. There is a total of 12 different sequences of three elemental rotations that are valid and may be used for describing the rotation of a coordinate system with respect to another coordinate system:\n",
    "\n",
    "$$ xyz \\quad xzy \\quad yzx \\quad yxz \\quad zxy \\quad zyx  $$\n",
    "\n",
    "$$ xyx \\quad xzx \\quad yzy \\quad yxy \\quad zxz \\quad zyz  $$\n",
    "\n",
    "The first six sequences (first row) are all around different axes, they are usually referred as Cardan or Tait–Bryan angles. The other six sequences (second row) have the first and third rotations around the same axis, but keep in mind that the axis for the third rotation is not at the same place anymore because it changed its orientation after the second rotation. The sequences with repeated axes are known as proper or classic Euler angles.\n",
    "\n",
    "Which order to use it is a matter of convention, but because the order affects the results, it's fundamental to follow a convention and report it. In Engineering Mechanics (including Biomechanics), the $xyz$ order is more common; in Physics the $zxz$ order is more common (but the letters chosen to refer to the axes are arbitrary, what matters is the directions they represent). In Biomechanics, the order for the Cardan angles is most often based on the angle of most interest or of most reliable measurement. Accordingly, the axis of flexion/extension is typically selected as the first axis, the axis for abduction/adduction is the second, and the axis for internal/external rotation is the last one. We will see about this order later. The $zyx$ order is commonly used to describe the orientation of a ship or aircraft and the rotations are known as the nautical angles: yaw, pitch and roll, respectively (see next figure).  \n",
    "<br>\n",
    "<figure><img src='https://upload.wikimedia.org/wikipedia/commons/thumb/1/16/Yaw_Axis.svg/319px-Yaw_Axis.svg.png' alt='translation and rotation 3D'/> <figcaption><center><i>Figure. The principal axes of an aircraft and the names for the rotations around these axes (<a href=\"https://en.wikipedia.org/wiki/Euler_angles\">image from Wikipedia</a>).</i></center></figcaption> </figure>\n",
    "\n",
    "If instead of rotations around the rotating local coordinate system we perform rotations around the fixed Global coordinate system, we will have other 12 different sequences of three elemental rotations, these are called simply rotation angles. So, in total there are 24 possible different sequences of three elemental rotations, but the 24 orders are not independent; with the 12 different sequences of Euler angles at the local coordinate system we can obtain the other 12 sequences at the Global coordinate system.\n",
    "\n",
    "The Python function `euler_rotmat.py` (code at the end of this text) determines the rotation matrix in algebraic form for any of the 24 different sequences (and sequences with only one or two axes can be inputed). This function also determines the rotation matrix in numeric form if a list of up to three angles are inputed.\n",
    "\n",
    "For instance, the rotation matrix in algebraic form for the $zxz$ order of Euler angles at the local coordinate system and the correspondent rotation matrix in numeric form after three elemental rotations by $90^o$ each are:"
   ]
  },
  {
   "cell_type": "code",
   "execution_count": 16,
   "metadata": {
    "ExecuteTime": {
     "end_time": "2016-10-24T20:17:21.315459",
     "start_time": "2016-10-24T20:17:21.311457"
    },
    "slideshow": {
     "slide_type": "fragment"
    }
   },
   "outputs": [],
   "source": [
    "from euler_rotmat import euler_rotmat"
   ]
  },
  {
   "cell_type": "code",
   "execution_count": 18,
   "metadata": {
    "ExecuteTime": {
     "end_time": "2016-10-24T20:17:22.895509",
     "start_time": "2016-10-24T20:17:22.872478"
    },
    "slideshow": {
     "slide_type": "fragment"
    }
   },
   "outputs": [
    {
     "data": {
      "text/latex": [
       "$\\displaystyle \\mathbf{R}_{local}( z:\\alpha,x:\\beta,z:\\gamma) =\\left[\\begin{matrix}- \\sin{\\left(\\alpha \\right)} \\sin{\\left(\\gamma \\right)} \\cos{\\left(\\beta \\right)} + \\cos{\\left(\\alpha \\right)} \\cos{\\left(\\gamma \\right)} & \\sin{\\left(\\alpha \\right)} \\cos{\\left(\\gamma \\right)} + \\sin{\\left(\\gamma \\right)} \\cos{\\left(\\alpha \\right)} \\cos{\\left(\\beta \\right)} & \\sin{\\left(\\beta \\right)} \\sin{\\left(\\gamma \\right)}\\\\- \\sin{\\left(\\alpha \\right)} \\cos{\\left(\\beta \\right)} \\cos{\\left(\\gamma \\right)} - \\sin{\\left(\\gamma \\right)} \\cos{\\left(\\alpha \\right)} & - \\sin{\\left(\\alpha \\right)} \\sin{\\left(\\gamma \\right)} + \\cos{\\left(\\alpha \\right)} \\cos{\\left(\\beta \\right)} \\cos{\\left(\\gamma \\right)} & \\sin{\\left(\\beta \\right)} \\cos{\\left(\\gamma \\right)}\\\\\\sin{\\left(\\alpha \\right)} \\sin{\\left(\\beta \\right)} & - \\sin{\\left(\\beta \\right)} \\cos{\\left(\\alpha \\right)} & \\cos{\\left(\\beta \\right)}\\end{matrix}\\right]$"
      ],
      "text/plain": [
       "<IPython.core.display.Math object>"
      ]
     },
     "metadata": {},
     "output_type": "display_data"
    },
    {
     "data": {
      "text/latex": [
       "$\\displaystyle \\mathbf{R}_{local}(z:\\alpha=90^o,\\;x:\\beta=90^o,\\;z:\\gamma=90^o)=\\left[\\begin{matrix}0 & 0 & 1.0\\\\0 & -1.0 & 0\\\\1.0 & 0 & 0\\end{matrix}\\right]$"
      ],
      "text/plain": [
       "<IPython.core.display.Math object>"
      ]
     },
     "metadata": {},
     "output_type": "display_data"
    }
   ],
   "source": [
    "Ra, Rn = euler_rotmat(order='zxz', frame='local', angles=[90, 90, 90])"
   ]
  },
  {
   "cell_type": "markdown",
   "metadata": {},
   "source": [
    "#### Line of nodes\n",
    "\n",
    "The second axis of rotation in the rotating coordinate system is also referred as the nodal axis or line of nodes; this axis coincides with the intersection of two perpendicular planes, one from each Global (fixed) and local (rotating) coordinate systems. The figure below shows an example of rotations and the nodal axis for the $xyz$ sequence of the Cardan angles.\n",
    "\n",
    "<div class='center-align'><figure><img src='./../images/Node.png' alt='rotations'/> <figcaption><center><i>Figure. First row: example of rotations for the $xyz$ sequence of the Cardan angles. The Global (fixed) $XYZ$ coordinate system is shown in green, the local (rotating) $xyz$ coordinate system is shown in blue. The nodal axis (<b>N</b>, shown in red) is defined by the intersection of the $YZ$ and $xy$ planes and all rotations can be described in relation to this nodal axis or to a perpendicular axis to it. Second row: starting from no rotation, the local coordinate system is rotated by $\\alpha$ around the $x$ axis, then by $\\beta$ around the rotated $y$ axis, and finally by $\\gamma$ around the twice rotated $z$ axis. Note that the line of nodes coincides with the $y$ axis for the second rotation. </i></center></figcaption> </figure></div>"
   ]
  },
  {
   "cell_type": "markdown",
   "metadata": {},
   "source": [
    "### Determination of the Euler angles\n",
    "\n",
    "Once a convention is adopted, the corresponding three Euler angles of rotation can be found.   \n",
    "For example, for the $\\mathbf{R}_{xyz}$ rotation matrix:"
   ]
  },
  {
   "cell_type": "code",
   "execution_count": 24,
   "metadata": {
    "ExecuteTime": {
     "end_time": "2016-10-24T20:17:25.196654",
     "start_time": "2016-10-24T20:17:24.769850"
    }
   },
   "outputs": [
    {
     "data": {
      "text/latex": [
       "$\\displaystyle \\mathbf{R}_{local}( x:\\alpha,y:\\beta,z:\\gamma) =\\left[\\begin{matrix}\\cos{\\left(\\beta \\right)} \\cos{\\left(\\gamma \\right)} & \\sin{\\left(\\alpha \\right)} \\sin{\\left(\\beta \\right)} \\cos{\\left(\\gamma \\right)} + \\sin{\\left(\\gamma \\right)} \\cos{\\left(\\alpha \\right)} & \\sin{\\left(\\alpha \\right)} \\sin{\\left(\\gamma \\right)} - \\sin{\\left(\\beta \\right)} \\cos{\\left(\\alpha \\right)} \\cos{\\left(\\gamma \\right)}\\\\- \\sin{\\left(\\gamma \\right)} \\cos{\\left(\\beta \\right)} & - \\sin{\\left(\\alpha \\right)} \\sin{\\left(\\beta \\right)} \\sin{\\left(\\gamma \\right)} + \\cos{\\left(\\alpha \\right)} \\cos{\\left(\\gamma \\right)} & \\sin{\\left(\\alpha \\right)} \\cos{\\left(\\gamma \\right)} + \\sin{\\left(\\beta \\right)} \\sin{\\left(\\gamma \\right)} \\cos{\\left(\\alpha \\right)}\\\\\\sin{\\left(\\beta \\right)} & - \\sin{\\left(\\alpha \\right)} \\cos{\\left(\\beta \\right)} & \\cos{\\left(\\alpha \\right)} \\cos{\\left(\\beta \\right)}\\end{matrix}\\right]$"
      ],
      "text/plain": [
       "<IPython.core.display.Math object>"
      ]
     },
     "metadata": {},
     "output_type": "display_data"
    }
   ],
   "source": [
    "R = euler_rotmat(order='xyz', frame='local')"
   ]
  },
  {
   "cell_type": "markdown",
   "metadata": {
    "slideshow": {
     "slide_type": "fragment"
    }
   },
   "source": [
    "The corresponding Cardan angles for the `xyz` sequence can be given by:\n",
    "\n",
    "<span class=\"notranslate\">\n",
    "\\begin{equation}\n",
    "\\begin{array}{}\n",
    "\\alpha = \\arctan\\left(\\dfrac{\\sin(\\alpha)}{\\cos(\\alpha)}\\right) = \\arctan\\left(\\dfrac{-\\mathbf{R}_{21}}{\\;\\;\\;\\mathbf{R}_{22}}\\right) \\\\\n",
    "\\\\\n",
    "\\beta = \\arctan\\left(\\dfrac{\\sin(\\beta)}{\\cos(\\beta)}\\right) = \\arctan\\left(\\dfrac{\\mathbf{R}_{20}}{\\sqrt{\\mathbf{R}_{00}^2+\\mathbf{R}_{10}^2}}\\right) \\\\  \n",
    "\\\\\n",
    "\\gamma = \\arctan\\left(\\dfrac{\\sin(\\gamma)}{\\cos(\\gamma)}\\right) = \\arctan\\left(\\dfrac{-\\mathbf{R}_{10}}{\\;\\;\\;\\mathbf{R}_{00}}\\right)\n",
    "\\end{array}\n",
    "\\end{equation}\n",
    "</span>\n",
    "\n",
    "Note that we prefer to use the mathematical function `arctan2` rather than simply `arcsin`, `arccos` or `arctan` because the latter cannot for example distinguish $45^o$ from $135^o$ and also for better numerical accuracy. See the text [Angular kinematics in a plane (2D)](https://nbviewer.jupyter.org/github/BMClab/bmc/blob/master/notebooks/KinematicsAngular2D.ipynb) for more on these issues.\n",
    "\n",
    "And here is a Python function to compute the Euler angles of rotations from the Global to the local coordinate system for the $xyz$ Cardan sequence: "
   ]
  },
  {
   "cell_type": "code",
   "execution_count": 25,
   "metadata": {
    "ExecuteTime": {
     "end_time": "2016-10-24T20:17:26.234161",
     "start_time": "2016-10-24T20:17:26.226139"
    }
   },
   "outputs": [],
   "source": [
    "def euler_angles_from_rot_xyz(rot_matrix, unit='deg'):\n",
    "    \"\"\" Compute Euler angles from rotation matrix in the xyz sequence.\"\"\"\n",
    "    \n",
    "    import numpy as np\n",
    "\n",
    "    R = np.array(rot_matrix, copy=False).astype(np.float64)[:3, :3]\n",
    "    angles = np.zeros(3)\n",
    "    \n",
    "    angles[0] = np.arctan2(-R[2, 1], R[2, 2])\n",
    "    angles[1] = np.arctan2( R[2, 0], np.sqrt(R[0, 0]**2 + R[1, 0]**2))\n",
    "    angles[2] = np.arctan2(-R[1, 0], R[0, 0])\n",
    "\n",
    "    if unit[:3].lower() == 'deg': # convert from rad to degree\n",
    "        angles = np.rad2deg(angles)\n",
    "\n",
    "    return angles"
   ]
  },
  {
   "cell_type": "markdown",
   "metadata": {},
   "source": [
    "For instance, consider sequential rotations of 45$^o$ around $x,y,z$. The resultant rotation matrix is:"
   ]
  },
  {
   "cell_type": "code",
   "execution_count": 26,
   "metadata": {
    "ExecuteTime": {
     "end_time": "2016-10-24T20:17:27.949673",
     "start_time": "2016-10-24T20:17:27.935647"
    }
   },
   "outputs": [
    {
     "data": {
      "text/latex": [
       "$\\displaystyle \\mathbf{R}_{local}(x:\\alpha=45^o,\\;y:\\beta=45^o,\\;z:\\gamma=45^o)=\\left[\\begin{matrix}0.5 & 0.8536 & 0.1464\\\\-0.5 & 0.1464 & 0.8536\\\\0.7071 & -0.5 & 0.5\\end{matrix}\\right]$"
      ],
      "text/plain": [
       "<IPython.core.display.Math object>"
      ]
     },
     "metadata": {},
     "output_type": "display_data"
    }
   ],
   "source": [
    "Ra, Rn = euler_rotmat(order='xyz', frame='local', angles=[45, 45, 45], showA=False)"
   ]
  },
  {
   "cell_type": "markdown",
   "metadata": {},
   "source": [
    "Let's check that calculating back the Cardan angles from this rotation matrix using the `euler_angles_from_rot_xyz()` function:"
   ]
  },
  {
   "cell_type": "code",
   "execution_count": 27,
   "metadata": {
    "ExecuteTime": {
     "end_time": "2016-10-24T20:17:29.328203",
     "start_time": "2016-10-24T20:17:29.324184"
    }
   },
   "outputs": [
    {
     "data": {
      "text/plain": [
       "array([45., 45., 45.])"
      ]
     },
     "execution_count": 27,
     "metadata": {},
     "output_type": "execute_result"
    }
   ],
   "source": [
    "euler_angles_from_rot_xyz(Rn, unit='deg')"
   ]
  },
  {
   "cell_type": "markdown",
   "metadata": {},
   "source": [
    "We could implement a function to calculate the Euler angles for any of the 12 sequences (in fact, plus another 12 sequences if we consider all the rotations from and to the two coordinate systems), but this is tedious. There is a smarter solution using the concept of [quaternion](http://en.wikipedia.org/wiki/Quaternion), but we will not see that now.  \n",
    "\n",
    "Let's see a problem with using Euler angles known as gimbal lock."
   ]
  },
  {
   "cell_type": "markdown",
   "metadata": {},
   "source": [
    "### Gimbal lock\n",
    "\n",
    "[Gimbal lock](http://en.wikipedia.org/wiki/Gimbal_lock) is the loss of one degree of freedom in a three-dimensional coordinate system that occurs when an axis of rotation is placed parallel with another previous axis of rotation and two of the three rotations will be around the same direction given a certain convention of the Euler angles. This \"locks\" the system into rotations in a degenerate two-dimensional space. The system is not really locked in the sense it can't be moved or reach the other degree of freedom, but it will need an extra rotation for that.  \n",
    "For instance, let's look at the $zxz$ sequence of rotations by the angles $\\alpha, \\beta, \\gamma$:\n",
    "\n",
    "<span class=\"notranslate\">\n",
    "\\begin{equation}\n",
    "\\begin{array}{l l}\n",
    "\\mathbf{R}_{zxz} & = \\mathbf{R_{z}} \\mathbf{R_{x}} \\mathbf{R_{z}} \\\\ \n",
    "\\\\\n",
    "& = \n",
    "\\begin{bmatrix}\n",
    "\\cos\\gamma & \\sin\\gamma & 0\\\\\n",
    "-\\sin\\gamma & \\cos\\gamma & 0 \\\\\n",
    "0 & 0 & 1\n",
    "\\end{bmatrix}\n",
    "\\begin{bmatrix}\n",
    "1 & 0 & 0 \\\\\n",
    "0 & \\cos\\beta & \\sin\\beta \\\\\n",
    "0 & -\\sin\\beta & \\cos\\beta\n",
    "\\end{bmatrix}\n",
    "\\begin{bmatrix}\n",
    "\\cos\\alpha & \\sin\\alpha & 0\\\\\n",
    "-\\sin\\alpha & \\cos\\alpha & 0 \\\\\n",
    "0 & 0 & 1\n",
    "\\end{bmatrix}\n",
    "\\end{array}\n",
    "\\end{equation}\n",
    "</span>\n",
    "\n",
    "Which results in:"
   ]
  },
  {
   "cell_type": "code",
   "execution_count": 28,
   "metadata": {
    "ExecuteTime": {
     "end_time": "2016-10-24T20:17:32.879366",
     "start_time": "2016-10-24T20:17:32.862854"
    }
   },
   "outputs": [
    {
     "data": {
      "text/latex": [
       "$\\displaystyle \\mathbf{R}_{zxz}=\\left[\\begin{matrix}- \\sin{\\left(\\alpha \\right)} \\sin{\\left(\\gamma \\right)} \\cos{\\left(\\beta \\right)} + \\cos{\\left(\\alpha \\right)} \\cos{\\left(\\gamma \\right)} & \\sin{\\left(\\alpha \\right)} \\cos{\\left(\\gamma \\right)} + \\sin{\\left(\\gamma \\right)} \\cos{\\left(\\alpha \\right)} \\cos{\\left(\\beta \\right)} & \\sin{\\left(\\beta \\right)} \\sin{\\left(\\gamma \\right)}\\\\- \\sin{\\left(\\alpha \\right)} \\cos{\\left(\\beta \\right)} \\cos{\\left(\\gamma \\right)} - \\sin{\\left(\\gamma \\right)} \\cos{\\left(\\alpha \\right)} & - \\sin{\\left(\\alpha \\right)} \\sin{\\left(\\gamma \\right)} + \\cos{\\left(\\alpha \\right)} \\cos{\\left(\\beta \\right)} \\cos{\\left(\\gamma \\right)} & \\sin{\\left(\\beta \\right)} \\cos{\\left(\\gamma \\right)}\\\\\\sin{\\left(\\alpha \\right)} \\sin{\\left(\\beta \\right)} & - \\sin{\\left(\\beta \\right)} \\cos{\\left(\\alpha \\right)} & \\cos{\\left(\\beta \\right)}\\end{matrix}\\right]$"
      ],
      "text/plain": [
       "<IPython.core.display.Math object>"
      ]
     },
     "execution_count": 28,
     "metadata": {},
     "output_type": "execute_result"
    }
   ],
   "source": [
    "a, b, g = sym.symbols('alpha, beta, gamma')\n",
    "# Elemental rotation matrices of xyz (local):\n",
    "Rz = sym.Matrix([[cos(a), sin(a), 0], [-sin(a), cos(a), 0], [0, 0, 1]])\n",
    "Rx = sym.Matrix([[1, 0, 0], [0, cos(b), sin(b)], [0, -sin(b), cos(b)]])\n",
    "Rz2 = sym.Matrix([[cos(g), sin(g), 0], [-sin(g), cos(g), 0], [0, 0, 1]])\n",
    "# Rotation matrix for the zxz sequence:\n",
    "Rzxz = Rz2*Rx*Rz\n",
    "Math(sym.latex(r'\\mathbf{R}_{zxz}=') + sym.latex(Rzxz, mat_str='matrix'))"
   ]
  },
  {
   "cell_type": "markdown",
   "metadata": {},
   "source": [
    "\n",
    "Let's examine what happens with this rotation matrix when the rotation around the second axis ($x$) by $\\beta$ is zero:\n",
    "\n",
    "<span class=\"notranslate\">\n",
    "\\begin{equation}\n",
    "\\begin{array}{l l}\n",
    "\\mathbf{R}_{zxz}(\\alpha, \\beta=0, \\gamma) = \n",
    "\\begin{bmatrix}\n",
    "\\cos\\gamma & \\sin\\gamma & 0\\\\\n",
    "-\\sin\\gamma & \\cos\\gamma & 0 \\\\\n",
    "0 & 0 & 1\n",
    "\\end{bmatrix}\n",
    "\\begin{bmatrix}\n",
    "1 & 0 & 0 \\\\\n",
    "0 & 1 & 0 \\\\\n",
    "0 & 0 & 1\n",
    "\\end{bmatrix}\n",
    "\\begin{bmatrix}\n",
    "\\cos\\alpha & \\sin\\alpha & 0\\\\\n",
    "-\\sin\\alpha & \\cos\\alpha & 0 \\\\\n",
    "0 & 0 & 1\n",
    "\\end{bmatrix}\n",
    "\\end{array}\n",
    "\\end{equation}\n",
    "</span>\n",
    "\n",
    "The second matrix is the identity matrix and has no effect on the product of the matrices, which will be:"
   ]
  },
  {
   "cell_type": "code",
   "execution_count": 29,
   "metadata": {
    "ExecuteTime": {
     "end_time": "2016-10-24T20:17:34.626239",
     "start_time": "2016-10-24T20:17:34.619752"
    }
   },
   "outputs": [
    {
     "data": {
      "text/latex": [
       "$\\displaystyle \\mathbf{R}_{xyz}(\\alpha, \\beta=0, \\gamma)=\\left[\\begin{matrix}- \\sin{\\left(\\alpha \\right)} \\sin{\\left(\\gamma \\right)} + \\cos{\\left(\\alpha \\right)} \\cos{\\left(\\gamma \\right)} & \\sin{\\left(\\alpha \\right)} \\cos{\\left(\\gamma \\right)} + \\sin{\\left(\\gamma \\right)} \\cos{\\left(\\alpha \\right)} & 0\\\\- \\sin{\\left(\\alpha \\right)} \\cos{\\left(\\gamma \\right)} - \\sin{\\left(\\gamma \\right)} \\cos{\\left(\\alpha \\right)} & - \\sin{\\left(\\alpha \\right)} \\sin{\\left(\\gamma \\right)} + \\cos{\\left(\\alpha \\right)} \\cos{\\left(\\gamma \\right)} & 0\\\\0 & 0 & 1\\end{matrix}\\right]$"
      ],
      "text/plain": [
       "<IPython.core.display.Math object>"
      ]
     },
     "execution_count": 29,
     "metadata": {},
     "output_type": "execute_result"
    }
   ],
   "source": [
    "Rzxz = Rz2*Rz\n",
    "Math(sym.latex(r'\\mathbf{R}_{xyz}(\\alpha, \\beta=0, \\gamma)=') + \\\n",
    "     sym.latex(Rzxz, mat_str='matrix'))"
   ]
  },
  {
   "cell_type": "markdown",
   "metadata": {},
   "source": [
    "Which simplifies to:"
   ]
  },
  {
   "cell_type": "code",
   "execution_count": 30,
   "metadata": {
    "ExecuteTime": {
     "end_time": "2016-10-24T20:17:36.064705",
     "start_time": "2016-10-24T20:17:35.904096"
    }
   },
   "outputs": [
    {
     "data": {
      "text/latex": [
       "$\\displaystyle \\mathbf{R}_{xyz}(\\alpha, \\beta=0, \\gamma)=\\left[\\begin{matrix}\\cos{\\left(\\alpha + \\gamma \\right)} & \\sin{\\left(\\alpha + \\gamma \\right)} & 0\\\\- \\sin{\\left(\\alpha + \\gamma \\right)} & \\cos{\\left(\\alpha + \\gamma \\right)} & 0\\\\0 & 0 & 1\\end{matrix}\\right]$"
      ],
      "text/plain": [
       "<IPython.core.display.Math object>"
      ]
     },
     "execution_count": 30,
     "metadata": {},
     "output_type": "execute_result"
    }
   ],
   "source": [
    "Rzxz = sym.simplify(Rzxz)\n",
    "Math(sym.latex(r'\\mathbf{R}_{xyz}(\\alpha, \\beta=0, \\gamma)=') + \\\n",
    "     sym.latex(Rzxz, mat_str='matrix'))"
   ]
  },
  {
   "cell_type": "markdown",
   "metadata": {},
   "source": [
    "Despite different values of $\\alpha$ and $\\gamma$ the result is a single rotation around the $z$ axis given by the sum $\\alpha+\\gamma$. In this case, of the three degrees of freedom one was lost (the other degree of freedom was set by $\\beta=0$). For movement analysis, this means for example that one angle will be undetermined because everything we know is the sum of the two angles obtained from the rotation matrix. We can set the unknown angle to zero but this is arbitrary.\n",
    "\n",
    "In fact, we already dealt with another example of gimbal lock when we looked at the $xyz$ sequence with rotations by $90^o$. See the figure representing these rotations again and perceive that the first and third rotations were around the same axis because the second rotation was by $90^o$. Let's do the matrix multiplication replacing only the second angle by $90^o$ (and let's use the `euler_rotmat.py`:"
   ]
  },
  {
   "cell_type": "code",
   "execution_count": 31,
   "metadata": {
    "ExecuteTime": {
     "end_time": "2016-10-24T20:17:37.692359",
     "start_time": "2016-10-24T20:17:37.427170"
    }
   },
   "outputs": [
    {
     "data": {
      "text/latex": [
       "$\\displaystyle \\mathbf{R}_{local}(x:\\alpha,\\;y:\\beta=90^o,\\;z:\\gamma)=\\left[\\begin{matrix}0 & \\sin{\\left(\\alpha + \\gamma \\right)} & - \\cos{\\left(\\alpha + \\gamma \\right)}\\\\0 & \\cos{\\left(\\alpha + \\gamma \\right)} & \\sin{\\left(\\alpha + \\gamma \\right)}\\\\1.0 & 0 & 0\\end{matrix}\\right]$"
      ],
      "text/plain": [
       "<IPython.core.display.Math object>"
      ]
     },
     "metadata": {},
     "output_type": "display_data"
    }
   ],
   "source": [
    "Ra, Rn = euler_rotmat(order='xyz', frame='local', angles=[None, 90., None], showA=False)"
   ]
  },
  {
   "cell_type": "markdown",
   "metadata": {
    "slideshow": {
     "slide_type": "slide"
    }
   },
   "source": [
    "Once again, one degree of freedom was lost and we will not be able to uniquely determine the three angles for the given rotation matrix and sequence.\n",
    "\n",
    "Possible solutions to avoid the gimbal lock are: choose a different sequence; do not rotate the system by the angle that puts the system in gimbal lock (in the examples above, avoid $\\beta=90^o$); or add an extra fourth parameter in the description of the rotation angles.   \n",
    "\n",
    "But if we have a physical system where we measure or specify exactly three Euler angles in a fixed sequence to describe or control it, and we can't avoid the system to assume certain angles, then we might have to say \"Houston, we have a problem\".   \n",
    "A famous situation where such a problem occurred was during the Apollo 13 mission. This is an actual conversation between crew and mission control during the Apollo 13 mission (Corke, 2011):\n",
    "\n",
    ">`Mission clock: 02 08 12 47`      \n",
    "**Flight**: *Go, Guidance.*    \n",
    "**Guido**: *He’s getting close to gimbal lock there.*    \n",
    "**Flight**: *Roger. CapCom, recommend he bring up C3, C4, B3, B4, C1 and C2 thrusters, and advise he’s getting close to gimbal lock.*   \n",
    "**CapCom**: *Roger.*    \n",
    "\n",
    "*Of note, it was not a gimbal lock that caused the accident with the the Apollo 13 mission, the problem was an oxygen tank explosion.*"
   ]
  },
  {
   "cell_type": "markdown",
   "metadata": {
    "slideshow": {
     "slide_type": "slide"
    }
   },
   "source": [
    "## Determination of the rotation matrix\n",
    "\n",
    "A typical way to determine the rotation matrix for a rigid body in biomechanics is to use motion analysis to measure the position of at least three non-collinear markers placed on the rigid body, and then calculate a basis with these positions, analogue to what we have described in the notebook [Rigid-body transformations in a plane (2D)](http://nbviewer.ipython.org/github/BMClab/bmc/blob/master/notebooks/Transformation2D.ipynb).\n",
    "\n",
    "### Basis\n",
    "\n",
    "If we have the position of three markers: **m1**, **m2**, **m3**, a basis (formed by three orthogonal versors) can be found as:   \n",
    "\n",
    " - First axis, **v1**, the vector **m2-m1**;   \n",
    " - Second axis, **v2**, the cross product between the vectors **v1** and **m3-m1**;   \n",
    " - Third axis, **v3**, the cross product between the vectors **v1** and **v2**.  \n",
    " \n",
    "Then, each of these vectors are normalized resulting in three orthogonal versors.   \n",
    "\n",
    "For example, given the positions m1 = [1,0,0], m2 = [0,1,0], m3 = [0,0,1], a basis can be found:"
   ]
  },
  {
   "cell_type": "code",
   "execution_count": 35,
   "metadata": {
    "ExecuteTime": {
     "end_time": "2016-10-24T20:17:39.650877",
     "start_time": "2016-10-24T20:17:39.638872"
    }
   },
   "outputs": [
    {
     "name": "stdout",
     "output_type": "stream",
     "text": [
      "Versors:\n",
      "v1 = [-0.7071  0.7071  0.    ]\n",
      "v2 = [0.5774 0.5774 0.5774]\n",
      "v3 = [ 0.4082  0.4082 -0.8165]\n",
      "\n",
      "Norm of each versor:\n",
      " 1.0 1.0 1.0000000000000002\n"
     ]
    }
   ],
   "source": [
    "m1 = np.array([1, 0, 0])\n",
    "m2 = np.array([0, 1, 0])\n",
    "m3 = np.array([0, 0, 1])\n",
    "\n",
    "v1 = m2 - m1\n",
    "v2 = np.cross(v1, m3 - m1)\n",
    "v3 = np.cross(v1, v2)\n",
    "\n",
    "print('Versors:')\n",
    "v1 = v1/np.linalg.norm(v1)\n",
    "print('v1 =', v1)\n",
    "\n",
    "v2 = v2/np.linalg.norm(v2)\n",
    "print('v2 =', v2)\n",
    "\n",
    "v3 = v3/np.linalg.norm(v3)\n",
    "print('v3 =', v3)\n",
    "\n",
    "print('\\nNorm of each versor:\\n',\n",
    "      np.linalg.norm(np.cross(v1, v2)),\n",
    "      np.linalg.norm(np.cross(v1, v3)),\n",
    "      np.linalg.norm(np.cross(v2, v3)))"
   ]
  },
  {
   "cell_type": "markdown",
   "metadata": {
    "slideshow": {
     "slide_type": "slide"
    }
   },
   "source": [
    "Remember from the text [Rigid-body transformations in a plane (2D)](http://nbviewer.ipython.org/github/BMClab/bmc/blob/master/notebooks/Transformation2D.ipynb) that the versors of this basis are the columns of the $\\mathbf{R_{Gl}}$ and the rows of the $\\mathbf{R_{lG}}$ rotation matrices, for instance:"
   ]
  },
  {
   "cell_type": "code",
   "execution_count": 36,
   "metadata": {
    "ExecuteTime": {
     "end_time": "2016-10-24T20:17:40.955871",
     "start_time": "2016-10-24T20:17:40.951848"
    },
    "slideshow": {
     "slide_type": "fragment"
    }
   },
   "outputs": [
    {
     "name": "stdout",
     "output_type": "stream",
     "text": [
      "Rotation matrix from Global to local coordinate system:\n",
      " [[-0.7071  0.7071  0.    ]\n",
      " [ 0.5774  0.5774  0.5774]\n",
      " [ 0.4082  0.4082 -0.8165]]\n"
     ]
    }
   ],
   "source": [
    "RlG = np.array([v1, v2, v3])\n",
    "print('Rotation matrix from Global to local coordinate system:\\n', RlG)"
   ]
  },
  {
   "cell_type": "markdown",
   "metadata": {
    "slideshow": {
     "slide_type": "fragment"
    }
   },
   "source": [
    "And the corresponding angles of rotation using the $xyz$ sequence are:"
   ]
  },
  {
   "cell_type": "code",
   "execution_count": 37,
   "metadata": {
    "ExecuteTime": {
     "end_time": "2016-10-24T20:17:42.018103",
     "start_time": "2016-10-24T20:17:42.014100"
    },
    "slideshow": {
     "slide_type": "fragment"
    }
   },
   "outputs": [
    {
     "data": {
      "text/plain": [
       "array([-153.4349,   24.0948, -140.7685])"
      ]
     },
     "execution_count": 37,
     "metadata": {},
     "output_type": "execute_result"
    }
   ],
   "source": [
    "euler_angles_from_rot_xyz(RlG)"
   ]
  },
  {
   "cell_type": "markdown",
   "metadata": {
    "slideshow": {
     "slide_type": "fragment"
    }
   },
   "source": [
    "These angles don't mean anything now because they are angles of the axes of the arbitrary basis we computed. In biomechanics, if we want an anatomical interpretation of the coordinate system orientation, we define the versors of the basis oriented with anatomical axes (e.g., for the shoulder, one versor would be aligned with the long axis of the upper arm) as seen [in this notebook about reference frames](https://nbviewer.jupyter.org/github/BMClab/bmc/blob/master/notebooks/ReferenceFrame.ipynb).  "
   ]
  },
  {
   "cell_type": "markdown",
   "metadata": {
    "slideshow": {
     "slide_type": "slide"
    }
   },
   "source": [
    "## Determination of the rotation matrix between two local coordinate systems\n",
    "\n",
    "Similarly to the [bidimensional case](https://nbviewer.jupyter.org/github/bmclab/bmc/blob/master/notebooks/Transformation2D.ipynb), to compute the rotation matrix between two local coordinate systems we can use the rotation matrices of both coordinate systems:\n",
    "\n",
    "<span class=\"notranslate\">\n",
    "\\begin{equation}\n",
    "    R_{l_1l_2} = R_{Gl_1}^TR_{Gl_2}\n",
    "\\end{equation}\n",
    "</span>\n",
    "\n",
    "After this, the Euler angles between both coordinate systems can be found using the `arctan2` function as shown previously. "
   ]
  },
  {
   "cell_type": "markdown",
   "metadata": {
    "slideshow": {
     "slide_type": "slide"
    }
   },
   "source": [
    "## Translation and Rotation\n",
    "\n",
    "Consider the case where the local coordinate system is translated and rotated in relation to the Global coordinate system as illustrated in the next figure.  \n",
    "<br>\n",
    "<figure><img src='./../images/transrot3D.png' alt='translation and rotation 3D'/> <figcaption><center><i>Figure. A point in three-dimensional space represented in two coordinate systems, with one system translated and rotated.</i></center></figcaption> </figure>\n",
    "\n",
    "The position of point $\\mathbf{P}$ originally described in the local coordinate system, but now described in the Global coordinate system in vector form is:\n",
    "\n",
    "$$ \\mathbf{P_G} = \\mathbf{L_G} + \\mathbf{R_{Gl}}\\mathbf{P_l} $$\n",
    "\n",
    "This means that we first *disrotate* the local coordinate system and then correct for the translation between the two coordinate systems. Note that we can't invert this order: the point position is expressed in the local coordinate system and we can't add this vector to another vector expressed in the Global coordinate system, first we have to convert the vectors to the same coordinate system.\n",
    "\n",
    "If now we want to find the position of a point at the local coordinate system given its position in the Global coordinate system, the rotation matrix and the translation vector, we have to invert the expression above:\n",
    "\n",
    "$$ \\begin{array}{l l}\n",
    "\\mathbf{P_G} = \\mathbf{L_G} + \\mathbf{R_{Gl}}\\mathbf{P_l} \\implies \\\\\n",
    "\\\\\n",
    "\\mathbf{R_{Gl}^{-1}}\\cdot\\mathbf{P_G} = \\mathbf{R_{Gl}^{-1}}\\left(\\mathbf{L_G} + \\mathbf{R_{Gl}}\\mathbf{P_l}\\right) \\implies \\\\\n",
    "\\\\\n",
    "\\mathbf{R_{Gl}^{-1}}\\mathbf{P_G} = \\mathbf{R_{Gl}^{-1}}\\mathbf{L_G} + \\mathbf{R_{Gl}^{-1}}\\mathbf{R_{Gl}}\\mathbf{P_l} \\implies \\\\\n",
    "\\\\\n",
    "\\mathbf{P_l} = \\mathbf{R_{Gl}^{-1}}\\left(\\mathbf{P_G}-\\mathbf{L_G}\\right) =  \\mathbf{R_{Gl}^T}\\left(\\mathbf{P_G}-\\mathbf{L_G}\\right) \\;\\;\\;\\;\\; \\text{or} \\;\\;\\;\\;\\; \\mathbf{P_l} = \\mathbf{R_{lG}}\\left(\\mathbf{P_G}-\\mathbf{L_G}\\right) \n",
    "\\end{array} $$\n",
    "\n",
    "The expression above indicates that to perform the inverse operation, to go from the Global to the local coordinate system, we first translate and then rotate the coordinate system."
   ]
  },
  {
   "cell_type": "markdown",
   "metadata": {},
   "source": [
    "### Transformation matrix\n",
    "\n",
    "It is possible to combine the translation and rotation operations in only one matrix, called the transformation matrix:\n",
    "\n",
    "<span class=\"notranslate\">\n",
    "\\begin{equation}\n",
    "\\begin{bmatrix}\n",
    "\\mathbf{P_X} \\\\\n",
    "\\mathbf{P_Y} \\\\\n",
    "\\mathbf{P_Z} \\\\\n",
    "1\n",
    "\\end{bmatrix} =\n",
    "\\begin{bmatrix}\n",
    ". & . & . & \\mathbf{L_{X}} \\\\\n",
    ". & \\mathbf{R_{Gl}} & .  & \\mathbf{L_{Y}} \\\\\n",
    ". & . & .  & \\mathbf{L_{Z}} \\\\\n",
    "0 & 0 & 0 & 1\n",
    "\\end{bmatrix}\n",
    "\\begin{bmatrix}\n",
    "\\mathbf{P}_x \\\\\n",
    "\\mathbf{P}_y \\\\\n",
    "\\mathbf{P}_z \\\\\n",
    "1\n",
    "\\end{bmatrix}\n",
    "\\end{equation}\n",
    "</span>\n",
    "\n",
    "Or simply:\n",
    "\n",
    "$$ \\mathbf{P_G} = \\mathbf{T_{Gl}}\\mathbf{P_l} $$\n",
    "\n",
    "Remember that in general the transformation matrix is not orthonormal, i.e., its inverse is not equal to its transpose.\n",
    "\n",
    "The inverse operation, to express the position at the local coordinate system in terms of the Global reference system, is:\n",
    "\n",
    "$$ \\mathbf{P_l} = \\mathbf{T_{Gl}^{-1}}\\mathbf{P_G} $$\n",
    "\n",
    "And in matrix form:\n",
    "\n",
    "<span class=\"notranslate\">\n",
    "\\begin{equation}\n",
    "\\begin{bmatrix}\n",
    "\\mathbf{P_x} \\\\\n",
    "\\mathbf{P_y} \\\\\n",
    "\\mathbf{P_z} \\\\\n",
    "1\n",
    "\\end{bmatrix} =\n",
    "\\begin{bmatrix}\n",
    "\\cdot & \\cdot & \\cdot & \\cdot \\\\\n",
    "\\cdot & \\mathbf{R^{-1}_{Gl}} & \\cdot  & -\\mathbf{R^{-1}_{Gl}}\\:\\mathbf{L_G} \\\\\n",
    "\\cdot & \\cdot & \\cdot  & \\cdot \\\\\n",
    "0 & 0 & 0 & 1\n",
    "\\end{bmatrix}\n",
    "\\begin{bmatrix}\n",
    "\\mathbf{P_X} \\\\\n",
    "\\mathbf{P_Y} \\\\\n",
    "\\mathbf{P_Z} \\\\\n",
    "1\n",
    "\\end{bmatrix}\n",
    "\\end{equation}\n",
    "</span>"
   ]
  },
  {
   "cell_type": "markdown",
   "metadata": {},
   "source": [
    "### Example with actual motion analysis data \n",
    "\n",
    "*The data for this example is taken from page 183 of David Winter's book.*  \n",
    "Consider the following marker positions placed on a leg (described in the laboratory coordinate system with coordinates $x, y, z$ in cm, the $x$ axis points forward and the $y$ axes points upward): lateral malleolus (**lm** = [2.92, 10.10, 18.85]), medial malleolus (**mm** = [2.71, 10.22, 26.52]), fibular head (**fh** = [5.05, 41.90, 15.41]), and medial condyle (**mc** = [8.29, 41.88, 26.52]). Define the ankle joint center as the centroid between the **lm** and **mm** markers and the knee joint center as the centroid between the **fh** and **mc** markers. An anatomical coordinate system for the leg can be defined as: the quasi-vertical axis ($y$) passes through the ankle and knee joint centers; a temporary medio-lateral axis ($z$) passes through the two markers on the malleolus, an anterior-posterior as the cross product between the two former calculated orthogonal axes, and the origin at the ankle joint center.   \n",
    " a) Calculate the anatomical coordinate system for the leg as described above.   \n",
    " b) Calculate the rotation matrix and the translation vector for the transformation from the anatomical to the laboratory coordinate system.   \n",
    " c) Calculate the position of each marker and of each joint center at the anatomical coordinate system.  \n",
    " d) Calculate the Cardan angles using the $zxy$ sequence for the orientation of the leg with respect to the laboratory (but remember that the letters chosen to refer to axes are arbitrary, what matters is the directions they represent)."
   ]
  },
  {
   "cell_type": "code",
   "execution_count": 38,
   "metadata": {
    "ExecuteTime": {
     "end_time": "2016-10-24T20:30:33.506746",
     "start_time": "2016-10-24T20:30:33.500768"
    }
   },
   "outputs": [
    {
     "name": "stdout",
     "output_type": "stream",
     "text": [
      "Poition of the ankle joint center: [ 2.815 10.16  22.685]\n",
      "Poition of the knee joint center: [ 6.67  41.89  20.965]\n"
     ]
    }
   ],
   "source": [
    "# calculation of the joint centers\n",
    "mm = np.array([2.71, 10.22, 26.52])\n",
    "lm = np.array([2.92, 10.10, 18.85])\n",
    "fh = np.array([5.05, 41.90, 15.41])\n",
    "mc = np.array([8.29, 41.88, 26.52])\n",
    "ajc = (mm + lm)/2\n",
    "kjc = (fh + mc)/2\n",
    "print('Poition of the ankle joint center:', ajc)\n",
    "print('Poition of the knee joint center:', kjc)"
   ]
  },
  {
   "cell_type": "code",
   "execution_count": 39,
   "metadata": {
    "ExecuteTime": {
     "end_time": "2016-10-24T20:30:34.087086",
     "start_time": "2016-10-24T20:30:34.080081"
    }
   },
   "outputs": [
    {
     "name": "stdout",
     "output_type": "stream",
     "text": [
      "Versors:\n",
      "x = [ 0.9925 -0.119   0.029 ]\n",
      "y = [ 0.1204  0.9913 -0.0537]\n",
      "z = [-0.0224  0.0568  0.9981]\n",
      "\n",
      "Origin = [ 2.815 10.16  22.685]\n"
     ]
    }
   ],
   "source": [
    "# calculation of the anatomical coordinate system axes (basis)\n",
    "y = kjc - ajc\n",
    "x = np.cross(y, mm - lm)\n",
    "z = np.cross(x, y)\n",
    "print('Versors:')\n",
    "x = x/np.linalg.norm(x)\n",
    "y = y/np.linalg.norm(y)\n",
    "z = z/np.linalg.norm(z)\n",
    "print('x =', x)\n",
    "print('y =', y)\n",
    "print('z =', z)\n",
    "Oleg = ajc\n",
    "print('\\nOrigin =', Oleg)"
   ]
  },
  {
   "cell_type": "code",
   "execution_count": 40,
   "metadata": {
    "ExecuteTime": {
     "end_time": "2016-10-24T20:30:34.600135",
     "start_time": "2016-10-24T20:30:34.596116"
    }
   },
   "outputs": [
    {
     "name": "stdout",
     "output_type": "stream",
     "text": [
      "Rotation matrix from the anatomical to the laboratory coordinate system:\n",
      " [[ 0.9925  0.1204 -0.0224]\n",
      " [-0.119   0.9913  0.0568]\n",
      " [ 0.029  -0.0537  0.9981]]\n",
      "\n",
      "Rotation matrix from the laboratory to the anatomical coordinate system:\n",
      " [[ 0.9925 -0.119   0.029 ]\n",
      " [ 0.1204  0.9913 -0.0537]\n",
      " [-0.0224  0.0568  0.9981]]\n"
     ]
    }
   ],
   "source": [
    "# Rotation matrices\n",
    "RGl = np.array([x, y , z]).T\n",
    "print('Rotation matrix from the anatomical to the laboratory coordinate system:\\n', RGl)\n",
    "RlG = RGl.T\n",
    "print('\\nRotation matrix from the laboratory to the anatomical coordinate system:\\n', RlG)"
   ]
  },
  {
   "cell_type": "code",
   "execution_count": 41,
   "metadata": {
    "ExecuteTime": {
     "end_time": "2016-10-24T20:30:35.200099",
     "start_time": "2016-10-24T20:30:35.196096"
    }
   },
   "outputs": [
    {
     "name": "stdout",
     "output_type": "stream",
     "text": [
      "Translational vector from the anatomical to the laboratory coordinate system:\n",
      " [ 2.815 10.16  22.685]\n"
     ]
    }
   ],
   "source": [
    "# Translational vector\n",
    "OG = np.array([0, 0, 0])  # Laboratory coordinate system origin\n",
    "LG = Oleg - OG\n",
    "print('Translational vector from the anatomical to the laboratory coordinate system:\\n', LG)"
   ]
  },
  {
   "cell_type": "markdown",
   "metadata": {
    "slideshow": {
     "slide_type": "slide"
    }
   },
   "source": [
    "To get the coordinates from the laboratory (global) coordinate system to the anatomical (local) coordinate system:\n",
    "\n",
    "$$ \\mathbf{P_l} = \\mathbf{R_{lG}}\\left(\\mathbf{P_G}-\\mathbf{L_G}\\right) $$"
   ]
  },
  {
   "cell_type": "code",
   "execution_count": null,
   "metadata": {
    "ExecuteTime": {
     "end_time": "2016-10-24T20:30:36.664497",
     "start_time": "2016-10-24T20:30:36.655976"
    },
    "slideshow": {
     "slide_type": "slide"
    }
   },
   "outputs": [],
   "source": [
    "# position of each marker and of each joint center at the anatomical coordinate system\n",
    "mml  = np.dot(RlG, (mm - LG))  # equivalent to the algebraic expression RlG*(mm - LG).T\n",
    "lml  = np.dot(RlG, (lm - LG))\n",
    "fhl = np.dot(RlG, (fh - LG))\n",
    "mcl = np.dot(RlG, (mc - LG))\n",
    "ajcl = np.dot(RlG, (ajc - LG))\n",
    "kjcl = np.dot(RlG, (kjc - LG))\n",
    "print('Coordinates of mm in the anatomical system:\\n', mml)\n",
    "print('Coordinates of lm in the anatomical system:\\n', lml)\n",
    "print('Coordinates of fh in the anatomical system:\\n', fhl)\n",
    "print('Coordinates of mc in the anatomical system:\\n', mcl)\n",
    "print('Coordinates of kjc in the anatomical system:\\n', kjcl)\n",
    "print('Coordinates of ajc in the anatomical system (origin):\\n', ajcl)"
   ]
  },
  {
   "cell_type": "markdown",
   "metadata": {
    "slideshow": {
     "slide_type": "slide"
    }
   },
   "source": [
    "## Problems\n",
    "\n",
    "1. For the example about how the order of rotations of a rigid body affects the orientation shown in a figure above, deduce the rotation matrices for each of the 4 cases shown in the figure. For the first two cases, deduce the rotation matrices from the global to the local coordinate system and for the other two examples, deduce the rotation matrices from the local to the global coordinate system.  \n",
    "\n",
    "2. Consider the data from problem 7 in the notebook [Frame of reference](http://nbviewer.ipython.org/github/BMClab/bmc/blob/master/notebooks/ReferenceFrame.ipynb) where the following anatomical landmark positions are given (units in meters): RASIS=[0.5,0.8,0.4], LASIS=[0.55,0.78,0.1], RPSIS=[0.3,0.85,0.2], and LPSIS=[0.29,0.78,0.3]. Deduce the rotation matrices for the global to anatomical coordinate system and for the anatomical to global coordinate system. \n",
    "\n",
    "3. For the data from the last example, calculate the Cardan angles using the $zxy$ sequence for the orientation of the leg with respect to the laboratory (but remember that the letters chosen to refer to axes are arbitrary, what matters is the directions they represent)."
   ]
  },
  {
   "cell_type": "markdown",
   "metadata": {},
   "source": [
    "## References\n",
    "\n",
    "- Corke P (2011) [Robotics, Vision and Control: Fundamental Algorithms in MATLAB](http://www.petercorke.com/RVC/). Springer-Verlag Berlin.  \n",
    "- Robertson G, Caldwell G, Hamill J, Kamen G (2013) [Research Methods in Biomechanics](http://books.google.com.br/books?id=gRn8AAAAQBAJ). 2nd Edition. Human Kinetics.  \n",
    "- [Maths - Euler Angles](http://www.euclideanspace.com/maths/geometry/rotations/euler/).  \n",
    "- Murray RM, Li Z, Sastry SS (1994) [A Mathematical Introduction to Robotic Manipulation](http://www.cds.caltech.edu/~murray/mlswiki/index.php/Main_Page). Boca Raton, CRC Press.  \n",
    "- Ruina A, Rudra P (2013) [Introduction to Statics and Dynamics](http://ruina.tam.cornell.edu/Book/index.html). Oxford University Press.  \n",
    "- Siciliano B, Sciavicco L, Villani L, Oriolo G (2009) [Robotics - Modelling, Planning and Control](http://books.google.com.br/books/about/Robotics.html?hl=pt-BR&id=jPCAFmE-logC). Springer-Verlag London.\n",
    "- Winter DA (2009) [Biomechanics and motor control of human movement](http://books.google.com.br/books?id=_bFHL08IWfwC). 4 ed. Hoboken, USA: Wiley.   \n",
    "- Zatsiorsky VM (1997) [Kinematics of Human Motion](http://books.google.com.br/books/about/Kinematics_of_Human_Motion.html?id=Pql_xXdbrMcC&redir_esc=y). Champaign, Human Kinetics."
   ]
  },
  {
   "cell_type": "markdown",
   "metadata": {},
   "source": [
    "## Function `euler_rotmatrix.py`"
   ]
  },
  {
   "cell_type": "code",
   "execution_count": null,
   "metadata": {
    "ExecuteTime": {
     "end_time": "2016-10-24T13:10:40.822340",
     "start_time": "2016-10-24T13:10:40.818341"
    }
   },
   "outputs": [],
   "source": [
    "# %load ./../functions/euler_rotmat.py\n",
    "#!/usr/bin/env python\n",
    "\n",
    "\"\"\"Euler rotation matrix given sequence, frame, and angles.\"\"\"\n",
    "\n",
    "from __future__ import division, print_function\n",
    "\n",
    "__author__ = 'Marcos Duarte, https://github.com/demotu/BMC'\n",
    "__version__ = 'euler_rotmat.py v.1 2014/03/10'\n",
    "\n",
    "\n",
    "def euler_rotmat(order='xyz', frame='local', angles=None, unit='deg',\n",
    "                 str_symbols=None, showA=True, showN=True):\n",
    "    \"\"\"Euler rotation matrix given sequence, frame, and angles.\n",
    "    \n",
    "    This function calculates the algebraic rotation matrix (3x3) for a given\n",
    "    sequence ('order' argument) of up to three elemental rotations of a given\n",
    "    coordinate system ('frame' argument) around another coordinate system, the\n",
    "    Euler (or Eulerian) angles [1]_.\n",
    "\n",
    "    This function also calculates the numerical values of the rotation matrix\n",
    "    when numerical values for the angles are inputed for each rotation axis.\n",
    "    Use None as value if the rotation angle for the particular axis is unknown.\n",
    "\n",
    "    The symbols for the angles are: alpha, beta, and gamma for the first,\n",
    "    second, and third rotations, respectively.\n",
    "    The matrix product is calulated from right to left and in the specified\n",
    "    sequence for the Euler angles. The first letter will be the first rotation.\n",
    "    \n",
    "    The function will print and return the algebraic rotation matrix and the\n",
    "    numerical rotation matrix if angles were inputed.\n",
    "\n",
    "    Parameters\n",
    "    ----------\n",
    "    order  : string, optional (default = 'xyz')\n",
    "             Sequence for the Euler angles, any combination of the letters\n",
    "             x, y, and z with 1 to 3 letters is accepted to denote the\n",
    "             elemental rotations. The first letter will be the first rotation.\n",
    "\n",
    "    frame  : string, optional (default = 'local')\n",
    "             Coordinate system for which the rotations are calculated.\n",
    "             Valid values are 'local' or 'global'.\n",
    "\n",
    "    angles : list, array, or bool, optional (default = None)\n",
    "             Numeric values of the rotation angles ordered as the 'order'\n",
    "             parameter. Enter None for a rotation whith unknown value.\n",
    "\n",
    "    unit   : str, optional (default = 'deg')\n",
    "             Unit of the input angles.\n",
    "    \n",
    "    str_symbols : list of strings, optional (default = None)\n",
    "             New symbols for the angles, for instance, ['theta', 'phi', 'psi']\n",
    "             \n",
    "    showA  : bool, optional (default = True)\n",
    "             True (1) displays the Algebraic rotation matrix in rich format.\n",
    "             False (0) to not display.\n",
    "\n",
    "    showN  : bool, optional (default = True)\n",
    "             True (1) displays the Numeric rotation matrix in rich format.\n",
    "             False (0) to not display.\n",
    "             \n",
    "    Returns\n",
    "    -------\n",
    "    R     :  Matrix Sympy object\n",
    "             Rotation matrix (3x3) in algebraic format.\n",
    "\n",
    "    Rn    :  Numpy array or Matrix Sympy object (only if angles are inputed)\n",
    "             Numeric rotation matrix (if values for all angles were inputed) or\n",
    "             a algebraic matrix with some of the algebraic angles substituted\n",
    "             by the corresponding inputed numeric values.\n",
    "\n",
    "    Notes\n",
    "    -----\n",
    "    This code uses Sympy, the Python library for symbolic mathematics, to\n",
    "    calculate the algebraic rotation matrix and shows this matrix in latex form\n",
    "    possibly for using with the IPython Notebook, see [1]_.\n",
    "\n",
    "    References\n",
    "    ----------\n",
    "    .. [1] http://nbviewer.ipython.org/github/duartexyz/BMC/blob/master/Transformation3D.ipynb\n",
    "\n",
    "    Examples\n",
    "    --------\n",
    "    >>> # import function\n",
    "    >>> from euler_rotmat import euler_rotmat\n",
    "    >>> # Default options: xyz sequence, local frame and show matrix\n",
    "    >>> R = euler_rotmat()\n",
    "    >>> # XYZ sequence (around global (fixed) coordinate system)\n",
    "    >>> R = euler_rotmat(frame='global')\n",
    "    >>> # Enter numeric values for all angles and show both matrices\n",
    "    >>> R, Rn = euler_rotmat(angles=[90, 90, 90])\n",
    "    >>> # show what is returned\n",
    "    >>> euler_rotmat(angles=[90, 90, 90])\n",
    "    >>> # show only the rotation matrix for the elemental rotation at x axis\n",
    "    >>> R = euler_rotmat(order='x')\n",
    "    >>> # zxz sequence and numeric value for only one angle\n",
    "    >>> R, Rn = euler_rotmat(order='zxz', angles=[None, 0, None])\n",
    "    >>> # input values in radians:\n",
    "    >>> import numpy as np\n",
    "    >>> R, Rn = euler_rotmat(order='zxz', angles=[None, np.pi, None], unit='rad')\n",
    "    >>> # shows only the numeric matrix\n",
    "    >>> R, Rn = euler_rotmat(order='zxz', angles=[90, 0, None], showA='False')\n",
    "    >>> # Change the angles' symbols\n",
    "    >>> R = euler_rotmat(order='zxz', str_symbols=['theta', 'phi', 'psi'])\n",
    "    >>> # Negativate the angles' symbols\n",
    "    >>> R = euler_rotmat(order='zxz', str_symbols=['-theta', '-phi', '-psi'])\n",
    "    >>> # all algebraic matrices for all possible sequences for the local frame\n",
    "    >>> s=['xyz','xzy','yzx','yxz','zxy','zyx','xyx','xzx','yzy','yxy','zxz','zyz']\n",
    "    >>> for seq in s: R = euler_rotmat(order=seq)\n",
    "    >>> # all algebraic matrices for all possible sequences for the global frame\n",
    "    >>> for seq in s: R = euler_rotmat(order=seq, frame='global')\n",
    "    \"\"\"\n",
    "\n",
    "    import numpy as np\n",
    "    import sympy as sym\n",
    "    try:\n",
    "        from IPython.core.display import Math, display\n",
    "        ipython = True\n",
    "    except:\n",
    "        ipython = False\n",
    "\n",
    "    angles = np.asarray(np.atleast_1d(angles), dtype=np.float64)\n",
    "    if ~np.isnan(angles).all():        \n",
    "        if len(order) != angles.size:\n",
    "            raise ValueError(\"Parameters 'order' and 'angles' (when \" + \n",
    "                             \"different from None) must have the same size.\")\n",
    "\n",
    "    x, y, z = sym.symbols('x, y, z')\n",
    "    sig = [1, 1, 1]\n",
    "    if str_symbols is None:\n",
    "        a, b, g = sym.symbols('alpha, beta, gamma')\n",
    "    else:\n",
    "        s = str_symbols\n",
    "        if s[0][0] == '-': s[0] = s[0][1:]; sig[0] = -1\n",
    "        if s[1][0] == '-': s[1] = s[1][1:]; sig[1] = -1\n",
    "        if s[2][0] == '-': s[2] = s[2][1:]; sig[2] = -1        \n",
    "        a, b, g = sym.symbols(s)\n",
    "\n",
    "    var = {'x': x, 'y': y, 'z': z, 0: a, 1: b, 2: g}\n",
    "    # Elemental rotation matrices for xyz (local)\n",
    "    cos, sin = sym.cos, sym.sin\n",
    "    Rx = sym.Matrix([[1, 0, 0], [0, cos(x), sin(x)], [0, -sin(x), cos(x)]])\n",
    "    Ry = sym.Matrix([[cos(y), 0, -sin(y)], [0, 1, 0], [sin(y), 0, cos(y)]])\n",
    "    Rz = sym.Matrix([[cos(z), sin(z), 0], [-sin(z), cos(z), 0], [0, 0, 1]])\n",
    "\n",
    "    if frame.lower() == 'global':\n",
    "        Rs = {'x': Rx.T, 'y': Ry.T, 'z': Rz.T}\n",
    "        order = order.upper()\n",
    "    else:\n",
    "        Rs = {'x': Rx, 'y': Ry, 'z': Rz}\n",
    "        order = order.lower()\n",
    "\n",
    "    R = Rn = sym.Matrix(sym.Identity(3))\n",
    "    str1 = r'\\mathbf{R}_{%s}( ' %frame  # last space needed for order=''\n",
    "    #str2 = [r'\\%s'%var[0], r'\\%s'%var[1], r'\\%s'%var[2]]\n",
    "    str2 = [1, 1, 1]        \n",
    "    for i in range(len(order)):\n",
    "        Ri = Rs[order[i].lower()].subs(var[order[i].lower()], sig[i] * var[i]) \n",
    "        R = Ri * R\n",
    "        if sig[i] > 0:\n",
    "            str2[i] = '%s:%s' %(order[i], sym.latex(var[i]))\n",
    "        else:\n",
    "            str2[i] = '%s:-%s' %(order[i], sym.latex(var[i]))\n",
    "        str1 = str1 + str2[i] + ','\n",
    "        if ~np.isnan(angles).all() and ~np.isnan(angles[i]):\n",
    "            if unit[:3].lower() == 'deg':\n",
    "                angles[i] = np.deg2rad(angles[i])\n",
    "            Rn = Ri.subs(var[i], angles[i]) * Rn\n",
    "            #Rn = sym.lambdify(var[i], Ri, 'numpy')(angles[i]) * Rn\n",
    "            str2[i] = str2[i] + '=%.0f^o' %np.around(np.rad2deg(angles[i]), 0)\n",
    "        else:\n",
    "            Rn = Ri * Rn\n",
    "\n",
    "    Rn = sym.simplify(Rn)  # for trigonometric relations\n",
    "\n",
    "    try:\n",
    "        # nsimplify only works if there are symbols\n",
    "        Rn2 = sym.latex(sym.nsimplify(Rn, tolerance=1e-8).n(chop=True, prec=4))\n",
    "    except:\n",
    "        Rn2 = sym.latex(Rn.n(chop=True, prec=4))\n",
    "        # there are no symbols, pass it as Numpy array\n",
    "        Rn = np.asarray(Rn)\n",
    "    \n",
    "    if showA and ipython:\n",
    "        display(Math(str1[:-1] + ') =' + sym.latex(R, mat_str='matrix')))\n",
    "\n",
    "    if showN and ~np.isnan(angles).all() and ipython:\n",
    "            str2 = ',\\;'.join(str2[:angles.size])\n",
    "            display(Math(r'\\mathbf{R}_{%s}(%s)=%s' %(frame, str2, Rn2)))\n",
    "\n",
    "    if np.isnan(angles).all():\n",
    "        return R\n",
    "    else:\n",
    "        return R, Rn\n"
   ]
  }
 ],
 "metadata": {
  "anaconda-cloud": {},
  "celltoolbar": "Slideshow",
  "hide_input": false,
  "kernelspec": {
   "display_name": "Python 3",
   "language": "python",
   "name": "python3"
  },
  "language_info": {
   "codemirror_mode": {
    "name": "ipython",
    "version": 3
   },
   "file_extension": ".py",
   "mimetype": "text/x-python",
   "name": "python",
   "nbconvert_exporter": "python",
   "pygments_lexer": "ipython3",
   "version": "3.6.9"
  },
  "latex_envs": {
   "LaTeX_envs_menu_present": true,
   "autoclose": false,
   "autocomplete": true,
   "bibliofile": "biblio.bib",
   "cite_by": "apalike",
   "current_citInitial": 1,
   "eqLabelWithNumbers": true,
   "eqNumInitial": 1,
   "hotkeys": {
    "equation": "Ctrl-E",
    "itemize": "Ctrl-I"
   },
   "labels_anchors": false,
   "latex_user_defs": false,
   "report_style_numbering": false,
   "user_envs_cfg": false
  },
  "nbTranslate": {
   "displayLangs": [
    "*"
   ],
   "hotkey": "alt-t",
   "langInMainMenu": true,
   "sourceLang": "en",
   "targetLang": "fr",
   "useGoogleTranslate": true
  },
  "toc": {
   "nav_menu": {},
   "number_sections": true,
   "sideBar": true,
   "skip_h1_title": false,
   "toc_cell": false,
   "toc_position": {},
   "toc_section_display": "block",
   "toc_window_display": false
  },
  "varInspector": {
   "cols": {
    "lenName": 16,
    "lenType": 16,
    "lenVar": 40
   },
   "kernels_config": {
    "python": {
     "delete_cmd_postfix": "",
     "delete_cmd_prefix": "del ",
     "library": "var_list.py",
     "varRefreshCmd": "print(var_dic_list())"
    },
    "r": {
     "delete_cmd_postfix": ") ",
     "delete_cmd_prefix": "rm(",
     "library": "var_list.r",
     "varRefreshCmd": "cat(var_dic_list()) "
    }
   },
   "types_to_exclude": [
    "module",
    "function",
    "builtin_function_or_method",
    "instance",
    "_Feature"
   ],
   "window_display": false
  }
 },
 "nbformat": 4,
 "nbformat_minor": 1
}
