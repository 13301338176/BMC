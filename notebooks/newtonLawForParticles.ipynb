{
 "cells": [
  {
   "cell_type": "markdown",
   "metadata": {
    "colab_type": "text",
    "id": "ZhJwhjmOM8ie",
    "slideshow": {
     "slide_type": "slide"
    }
   },
   "source": [
    "# Motion of a particle - Newtonian approach\n",
    "\n",
    "> Renato Naville Watanabe, Marcos Duarte  \n",
    "> [Laboratory of Biomechanics and Motor Control](http://pesquisa.ufabc.edu.br/bmclab)  \n",
    "> Federal University of ABC, Brazil"
   ]
  },
  {
   "cell_type": "markdown",
   "metadata": {},
   "source": [
    "## Study of motion\n",
    "\n",
    "In Mechanics we are interested in the study of motion (including deformation) and forces (and the relation between them) of anything in nature.  \n",
    "\n",
    "As a good rule of thumb, we model the phenomenon of interest as simple as possible, with just enough complexity to understand the phenomenon. \n",
    "\n",
    "For example, we could model a person jumping as a particle (the center of gravity, with no size) moving in one direction (the vertical) if all we want is to estimate the jump height and relate that to the external forces to the human body. So, mechanics of a particle might be all we need. \n",
    "\n",
    "However, if the person jumps and performs a somersault, to understand this last part of the motion we have to model the human body as one of more objects which displaces and rotates in two or three dimensions. In this case, we would need what is called mechanics of rigid bodies.\n",
    "\n",
    "If, besides the gross motions of the segments of the body, we are interested in understanding the deformation in the the human body segments and tissues, now we would have to describe the mechanical behavior of the body (e.g., how it deforms) under the action of forces. In this case we would have to include some constitutive laws describing the mechanical properties of the body."
   ]
  },
  {
   "cell_type": "markdown",
   "metadata": {},
   "source": [
    "## The development of the laws of motion of bodies  \n",
    "\n",
    "\"The theoretical development of the laws of motion of bodies is a problem of such interest and importance that it has engaged the attention of all the most eminent mathematicians since the invention of dynamics as a mathematical science by Galileo, and especially since the wonderful extension which was given to that science by Newton.\"\n",
    "\n",
    "\"Among the successors of those illustrious men, Lagrange has perhaps done more than any other analyst to give extent and harmony to such deductive researches, by showing that the most varied consequences respecting the motions of systems of bodies may be derived from one radical formula; the beauty of the methods so suiting the dignity of the results as to make of his great work a kind of scientific poem.\"  \n",
    "\n",
    "&#8212; Hamilton, 1834 (apud Taylor, 2005)."
   ]
  },
  {
   "cell_type": "markdown",
   "metadata": {},
   "source": [
    "## Newton's laws of motion\n",
    "\n",
    "**Let's start with the study of the forces and motion in Mechanics looking at the motion of a particle using the Newtonian approach.**\n",
    "\n",
    "The Newton's laws of motion describe the relationship between the forces acting on a body and the resultant linear motion due to those forces:\n",
    "\n",
    "- **First law**: An object will remain at rest or in uniform motion in a straight line unless an external force acts on the body.\n",
    "- **Second law**: The acceleration of an object is directly proportional to the net force acting on the object and inversely proportional to the mass of the object: $\\mathbf{F} = m\\mathbf{a}.$\n",
    "- **Third law**: Whenever an object exerts a force $\\mathbf{F}_1$ (action) on a second object, this second object simultaneously exerts a force $\\mathbf{F}_2$ on the first object with the same magnitude but opposite direction (reaction): $\\mathbf{F}_2 = −\\mathbf{F}_1.$\n",
    "\n",
    "These three statements are astonishing in their simplicity and how much of knowledge they empower.   \n",
    "Isaac Newton was born in 1943 and his works that resulted in these equations and other discoveries were mostly done in the years of 1666 and 1667, when he was only 24 years old! However, these works were only published in 1687, twenty years later.  \n",
    "\n",
    "Here are these three laws in Newton's own words (from page 83 of Book I in the first American edition of the [*Philosophiæ Naturalis Principia Mathematica*](http://archive.org/details/newtonspmathema00newtrich):\n",
    "\n",
    "> LAW I.    \n",
    "> *Every body perseveres in its state of rest, or of uniform motion in a right line, unless it is compelled to change that state by forces impressed thereon.*   \n",
    "> LAW II.    \n",
    "> *The alteration of motion is ever proportional to the motive force impressed; and is made in the direction of the right line in which that force is impressed.*   \n",
    "> LAW III.   \n",
    "> *To every action there is always opposed an equal reaction: or the mutual actions of two bodies upon each other are always equal, and directed to contrary parts.*   \n",
    "\n",
    "And Newton carefully defined mass, motion, and force in the first page of the book I (page 73 of the [*Principia*](http://archive.org/details/newtonspmathema00newtrich)):  \n",
    "\n",
    "> DEFINITION I.   \n",
    "> *The quantity of matter is the measure of the same, arising from its density and bulk conjunctly.*   \n",
    "> ...It is this quantity that I mean hereafter everywhere under the name of body or mass.   \n",
    "> DEFINITION II.   \n",
    "> *The quantity of motion is the measure of the same, arising from the velocity and quantity of matter conjunctly.*    \n",
    "> The motion of the whole is the sum of the motions of all the parts; and therefore in a body double in quantity, with equal velocity, the motion is double; with twice the velocity, it is quadruple.   \n",
    "> DEFINITION IV.   \n",
    "> *An impressed force is an action exerted upon a body, in order to change its state, either of rest, or of moving uniformly forward in a right line.*"
   ]
  },
  {
   "cell_type": "markdown",
   "metadata": {
    "colab_type": "text",
    "id": "rnbQefDbM8iq",
    "lang": "en",
    "slideshow": {
     "slide_type": "slide"
    }
   },
   "source": [
    "## Steps to find the motion of a particle\n",
    "\n",
    "1. Draw a free body diagram of the particle. Draw all the forces being applied to the particle.  \n",
    "2. Write the expression of each force applied to the particle. For external forces (for example gravity and air friction) write the constitutive laws of the phenomena.  \n",
    "3. Write the second Newton Law $\\vec{\\bf{F}} = m \\vec{\\bf{a}}$, where $\\vec{\\bf{F}}$ is the sum of all forces applied to the particle and $\\vec{\\bf{a}}$ is the particle acceleration.  \n",
    "4. Separate the equation into the 3 cartesian components (or 2 components if the movement is bidimensional).  \n",
    "5. Solve the differential equations\n",
    " 1. If possible, solve the differential equations analytically.  \n",
    " 2. If not possible to solve the differential equations analytically, separate each equation into 2 first order differential equations and use some numerical method (e.g. Euler, Runge-Kutta) to solve the first order differential equations with the aid of a computer.   \n",
    "6. Use the solution to interpret the situation, or to find some error on your approach.  \n",
    "\n",
    "Later, we will study in details how to draw a free-body diagram.  \n",
    "Let's see now some examples on how to find the motion of a particle"
   ]
  },
  {
   "cell_type": "markdown",
   "metadata": {
    "colab_type": "text",
    "id": "HlV8bOoJM8ir",
    "slideshow": {
     "slide_type": "slide"
    }
   },
   "source": [
    "### Example of analytical solution\n",
    "\n",
    "A football is kicked with an angle of 30 degrees with the ground.  \n",
    "The mass of the ball is 0.43 kg. Consider the gravitational acceleration as 9.81 $m/s^2$. The initial speed of the ball is 20 m/s and the initial height is 0 m.  \n",
    "Find the motion of the ball. \n",
    "\n",
    "Solution:  \n",
    "We know that:  \n",
    "$$ x_0 = 0 m \\\\ y_0 = 0 m $$  \n",
    "As the angle of the velocity of the ball with the ground is 30 degrees:  \n",
    "$$ v_{x0} = 20 \\cos(30^\\circ) = 20\\frac{\\sqrt{3}}{2} = 10\\sqrt{3} m/s \\\\\n",
    "v_{y0} = 20 \\sin(30^\\circ) = 20 \\frac{1}{2} = 10 m/s $$ \n",
    "\n",
    "The free-body diagram of the ball is depicted below:\n",
    "   \n",
    "<figure><center><img src=\"../images/ballGrav.png\" alt=\"free-body diagram of the ball\" width=\"600\"/><figcaption><i>Figure. Free-body diagram of a ball under the influence of gravity.</i></figcaption></center></figure>"
   ]
  },
  {
   "cell_type": "markdown",
   "metadata": {
    "colab_type": "text",
    "id": "nOkZSRWyM8it",
    "slideshow": {
     "slide_type": "slide"
    }
   },
   "source": [
    "The only force acting on the ball is the gravitational force:\n",
    "\n",
    "$$ \\vec{\\bf{F}}_g = -mg \\; \\hat{\\bf{j}} $$ \n",
    "\n",
    "So, we write the Second Newton Law:\n",
    "\n",
    "$$ \\vec{\\bf{F}}_g = m \\frac{d^2\\vec{\\bf{r}}}{dt^2} \\quad \\rightarrow \\quad - mg \\; \\hat{\\bf{j}} = m \\frac{d^2\\vec{\\bf{r}}}{dt^2} \\quad \\rightarrow \\quad - g \\; \\hat{\\bf{j}} = \\frac{d^2\\vec{\\bf{r}}}{dt^2} $$\n",
    "\n",
    "Now, we can separate the equation in two components (x and y):\n",
    "\n",
    "$$ 0 = \\frac{d^2x}{dt^2} $$\n",
    "\n",
    "and\n",
    "\n",
    "$$ -g = \\frac{d^2y}{dt^2} $$"
   ]
  },
  {
   "cell_type": "code",
   "execution_count": 1,
   "metadata": {},
   "outputs": [],
   "source": [
    "import numpy as np\n",
    "import matplotlib.pyplot as plt\n",
    "import seaborn as sns\n",
    "%matplotlib inline\n",
    "sns.set_context('notebook', font_scale=1.1)"
   ]
  },
  {
   "cell_type": "code",
   "execution_count": 2,
   "metadata": {
    "colab": {},
    "colab_type": "code",
    "id": "h_GGqUuXM8it",
    "slideshow": {
     "slide_type": "slide"
    }
   },
   "outputs": [],
   "source": [
    "m   = 0.43           # [kg]\n",
    "x0  = 0              # [m]\n",
    "y0  = 0              # [m]\n",
    "vx0 = 10*np.sqrt(3)  # [m/s]\n",
    "vy0 = 10             # [m/s]\n",
    "g   = 9.81           # [m/s^2]"
   ]
  },
  {
   "cell_type": "markdown",
   "metadata": {
    "colab_type": "text",
    "id": "KlXsUdmkM8iy",
    "lang": "en",
    "slideshow": {
     "slide_type": "slide"
    }
   },
   "source": [
    "These equations can be easily solved  by integrating both sides of each equation:\n",
    "\n",
    "$$ 0 = \\frac{d^2x}{dt^2} \\quad \\rightarrow v_{x0} = \\frac{dx}{dt} \\quad \\rightarrow \\quad v_{x0}t + x_{0} = x(t) $$\n",
    "\n",
    "and\n",
    "\n",
    "$$ -g = \\frac{d^2y}{dt^2} \\quad \\rightarrow - gt + v_{y0} = \\frac{dy}{dt} \\quad \\rightarrow \\quad -\\frac{g}{2}t^2 +v_{y0}t + y_{0} = y(t) $$\n",
    "\n",
    "\n",
    "So the trajectory of the ball along time is:\n",
    "\n",
    "$$ x(t) = v_{x0}t $$\n",
    "\n",
    "and \n",
    "\n",
    "$$ y(t) =  -\\frac{g}{2} t^2 + v_{y0}t $$\n",
    "\n",
    "or \n",
    "\n",
    "$$ \\vec{\\bf{r}}(t) =  v_{x0}t \\; \\hat{\\bf{i}} + \\left(-\\frac{g}{2} t^2 + v_{y0}t \\right) \\; \\hat{\\bf{j}} $$"
   ]
  },
  {
   "cell_type": "code",
   "execution_count": 3,
   "metadata": {
    "colab": {},
    "colab_type": "code",
    "id": "03OWHJ_lM8iy",
    "outputId": "1f99c1f4-d870-4738-b25a-0d167b3eac84",
    "slideshow": {
     "slide_type": "slide"
    }
   },
   "outputs": [
    {
     "data": {
      "image/png": "[encoded data removed]",
      "text/plain": [
       "<Figure size 576x288 with 1 Axes>"
      ]
     },
     "metadata": {
      "needs_background": "light"
     },
     "output_type": "display_data"
    }
   ],
   "source": [
    "dt = 0.001  # [s]\n",
    "t = np.arange(0, 2.05, dt)\n",
    "plt.figure(figsize=(8, 4))\n",
    "plt.plot(vx0*t, -g/2*t**2 + vy0*t, lw=4)\n",
    "plt.xlim(0, 36)\n",
    "plt.ylim(0, 6)\n",
    "plt.title('Ball trajectory')\n",
    "plt.xlabel('x')\n",
    "plt.ylabel('y')\n",
    "plt.show()"
   ]
  },
  {
   "cell_type": "markdown",
   "metadata": {
    "colab_type": "text",
    "id": "XSH7-IM-M8i2",
    "slideshow": {
     "slide_type": "slide"
    }
   },
   "source": [
    "### Example of numerical solution\n",
    "\n",
    "Although we were able to solve this example analytically, we can solve it numerically and compare both solutions.\n",
    "\n",
    "We start from the differential equations of each coordinate, and then break them into two first-order differential equations:\n",
    "\n",
    "$$ 0 = \\frac{d^2x}{dt^2} $$\n",
    "\n",
    "and\n",
    "\n",
    "$$ - g = \\frac{d^2y}{dt^2} $$\n",
    "\n",
    "\n",
    "The first equation can be broken as:\n",
    "\n",
    "$$ \\frac{dv_x}{dt} = 0 $$\n",
    "\n",
    "$$ \\frac{dx}{dt} = v_x(t) $$\n",
    "\n",
    "And the second equation can be broken as:\n",
    "\n",
    "$$ \\frac{dv_y}{dt} = -g $$\n",
    "\n",
    "$$ \\frac{dy}{dt} = v_y(t) $$\n",
    "\n",
    "You can use any integration numerical method you want (Euler, Runge-Kutta, etc), but here we will use the Euler method. Below the Euler method will be exemplified with the $x(t)$ variable:\n",
    "\n",
    "The derivative of signal $x(t)$ is given by:\n",
    "\n",
    "$$ \\frac{dx}{dt} = \\lim\\limits_{\\Delta t \\rightarrow 0} \\frac{x(t+\\Delta t) - x(t)}{\\Delta t} $$\n",
    "\n",
    "This can be approximated by: \n",
    "\n",
    "$$ \\frac{dx}{dt} \\approx \\frac{x(t+\\Delta t) - x(t)}{\\Delta t} \\rightarrow x(t+\\Delta t) \\approx x(t) + \\Delta t \\frac{dx}{dt} $$\n",
    "\n",
    "So, with the initial conditions of all the variables, we can apply the equation above to find the values of the variables along time (for a revision of Ordinary Differential Equations, see [ODEs](https://nbviewer.jupyter.org/github/BMClab/bmc/blob/master/notebooks/OrdinaryDifferentialEquation.ipynb)).  \n",
    "In the cell below, we apply the Euler method for the four first-order differential equations."
   ]
  },
  {
   "cell_type": "code",
   "execution_count": 4,
   "metadata": {
    "colab": {},
    "colab_type": "code",
    "id": "dMNLst17M8i4",
    "slideshow": {
     "slide_type": "slide"
    }
   },
   "outputs": [],
   "source": [
    "x  = x0\n",
    "y  = y0\n",
    "vx = vx0\n",
    "vy = vy0\n",
    "r  = np.array([x, y])\n",
    "while y >= 0:\n",
    "    dxdt = vx\n",
    "    x = x + dt * dxdt\n",
    "    dydt = vy\n",
    "    y = y + dt * dydt\n",
    "    dvxdt = 0\n",
    "    vx = vx + dt * dvxdt\n",
    "    dvydt = -g\n",
    "    vy = vy + dt * dvydt\n",
    "    r = np.vstack((r, np.array([x,y])))"
   ]
  },
  {
   "cell_type": "code",
   "execution_count": 5,
   "metadata": {
    "colab": {},
    "colab_type": "code",
    "id": "RpDwAX9dM8i7",
    "outputId": "1b690a23-0e59-4ba0-9cc3-cda7f5b4e967",
    "slideshow": {
     "slide_type": "slide"
    }
   },
   "outputs": [
    {
     "data": {
      "image/png": "[encoded data removed]",
      "text/plain": [
       "<Figure size 576x288 with 1 Axes>"
      ]
     },
     "metadata": {
      "needs_background": "light"
     },
     "output_type": "display_data"
    }
   ],
   "source": [
    "plt.figure(figsize=(8, 4))\n",
    "plt.plot(r[:, 0],r[:, 1], lw=4)\n",
    "plt.xlim(0, 36)\n",
    "plt.ylim(0, 6)\n",
    "plt.title('Ball trajectory')\n",
    "plt.xlabel('x')\n",
    "plt.ylabel('y')\n",
    "plt.show()"
   ]
  },
  {
   "cell_type": "markdown",
   "metadata": {
    "colab_type": "text",
    "id": "nfEL9e-tM8jA",
    "slideshow": {
     "slide_type": "slide"
    }
   },
   "source": [
    "### An example a little bit more complex  \n",
    "\n",
    "Now, besides the gravity, we consider the drag due to the air resistance ($b$ = 0.006 Ns/m). First we will consider the drag force  proportional to the speed and opposite direction of the velocity vector.\n",
    "       \n",
    "<figure><center><img src=\"../images/ballGravLinearRes.png\" alt=\"free-body diagram of the ball\" width=\"600\"/><figcaption><i>Figure. Free-body diagram of a ball under the influence of gravity and drag.</i></figcaption></center></figure>\n",
    "\n",
    "So the forces being applied in the ball are:\n",
    "\n",
    "$$ \\vec{\\bf{F}} = -mg \\; \\hat{\\bf{j}} - b\\vec{\\bf{v}} = -mg \\; \\hat{\\bf{j}} - b\\frac{d\\vec{\\bf{r}}}{dt} = -mg \\;  \\hat{\\bf{j}} - b\\left(\\frac{dx}{dt} \\; \\hat{\\bf{i}}+\\frac{dy}{dt} \\; \\hat{\\bf{j}}\\right) = - b\\frac{dx}{dt} \\; \\hat{\\bf{i}} - \\left(mg + b\\frac{dy}{dt}\\right) \\; \\hat{\\bf{j}} $$\n",
    "\n",
    "Writing down the Second Newton Law:\n",
    "\n",
    "$$ \\vec{\\bf{F}} = m \\frac{d^2\\vec{\\bf{r}}}{dt^2} \\quad \\rightarrow \\quad - b\\frac{dx}{dt} \\; \\hat{\\bf{i}} - \\left(mg + b\\frac{dy}{dt}\\right) \\; \\hat{\\bf{j}} = m\\left(\\frac{d^2x}{dt^2} \\; \\hat{\\bf{i}}+\\frac{d^2y}{dt^2} \\; \\hat{\\bf{j}}\\right) $$\n",
    "\n",
    "Now, we can separate into one equation for each coordinate:\n",
    "\n",
    "$$ - b\\frac{dx}{dt} = m\\frac{d^2x}{dt^2} - \\quad \\rightarrow \\quad \\frac{d^2x}{dt^2} = -\\frac{b}{m} \\frac{dx}{dt} $$\n",
    "\n",
    "$$ -mg - b\\frac{dy}{dt} = m\\frac{d^2y}{dt^2} \\quad \\rightarrow \\quad \\frac{d^2y}{dt^2} = -\\frac{b}{m}\\frac{dy}{dt} - g $$ \n",
    "\n",
    "We can solve these equations analytically, for example, by using Laplace Transform or classical methods to solve linear differential equations."
   ]
  },
  {
   "cell_type": "markdown",
   "metadata": {
    "colab_type": "text",
    "id": "x41TfRSQM8jB",
    "slideshow": {
     "slide_type": "slide"
    }
   },
   "source": [
    "The solution of a linear differential equation can be found by finding the natural solution and the forced solution and then adding both solutions.\n",
    "\n",
    "First, we solve the first differential equation ($x$ coordinate). The characteristic polynomial of the equation is:\n",
    "\n",
    "$$ \\lambda^2 + \\frac{b}{m}\\lambda = 0 $$ \n",
    "\n",
    "The roots of this equation are $\\lambda = 0$ and $\\lambda = -\\frac{b}{m}$, and consequently, its natural modes are:\n",
    "\n",
    "$$ x_{n_1}(t) = Ae^{0t} = A \\\\\n",
    "x_{n_2}(t) = B e^{-\\frac{b}{m}t} $$ \n",
    "\n",
    "As there is no external forces in the $x$ direction, there is no forced solution. So, the motion of the ball in the $x$ coordinate is:\n",
    "\n",
    "$$ x(t) = A + Be^{-\\frac{b}{m}t} $$\n",
    "\n",
    "To find the values of the $A$ and $B$ constants, we must use the initial conditions $x(0)$ and $v_x(0)$.\n",
    "\n",
    "$$ x(0) = 0 = A + B $$\n",
    "\n",
    "$$ v_x(0) = v_{x0} = \\frac{dx(0)}{dt} = -\\frac{Bb}{m}e^{-\\frac{b}{m}0} \\quad \\rightarrow \\quad B = -\\frac{v_{x0}m}{b} \\quad \\rightarrow \\quad A = \\frac{v_{x0}m}{b} $$\n",
    "\n",
    "So:\n",
    "\n",
    "$$ x(t) = \\frac{v_{x0}m}{b} - \\frac{v_{x0}m}{b}e^{-\\frac{b}{m}t} = \\frac{v_{x0}m}{b}\\left(1-e^{-\\frac{b}{m}t} \\right) $$"
   ]
  },
  {
   "cell_type": "markdown",
   "metadata": {
    "colab_type": "text",
    "id": "RqJr2O4NM8jC",
    "slideshow": {
     "slide_type": "slide"
    }
   },
   "source": [
    "Now, we solve the differential equation for the $y$ coordinate. First, we will find the natural solution, which comprises the solution from the equation with no external forces, in this case. \n",
    "\n",
    "$$ \\frac{d^2y}{dt^2} = -\\frac{b}{m}\\frac{dy}{dt} $$\n",
    "\n",
    "The solution of this equation is the same from the $x$ coordinate:\n",
    "\n",
    "$$ y_n(t) = A + Be^{-\\frac{b}{m}t} $$\n",
    "\n",
    "The forced solution, due to external forces, happens when every derivative, with the exception of the derivative with the lowest order (in this case order 1 but it could be order 0, i.e. no derivative),  goes to zero. \n",
    "\n",
    "$$ \\cancelto{0}{\\frac{d^2y}{dt^2}} = -\\frac{b}{m}\\frac{dy_f}{dt} - g \\quad \\rightarrow \\quad \\frac{dy_f}{dt} = -\\frac{mg}{b} \\quad \\rightarrow \\quad y_f(t) = -\\frac{mg}{b}t $$"
   ]
  },
  {
   "cell_type": "markdown",
   "metadata": {
    "colab_type": "text",
    "id": "5EzIiZbUM8jE",
    "slideshow": {
     "slide_type": "slide"
    }
   },
   "source": [
    "The complete solution of the motion of the ball in the $y$ coordinate is the sum of the natural and forced solutions:\n",
    "\n",
    "$$ y(t) = A + Be^{-\\frac{b}{m}t} - \\frac{mg}{b}t $$\n",
    "\n",
    "To find the values of the constants A and B, we must use the initial conditions $y(0)$ and $v_y(0)$.\n",
    "\n",
    "$$ y(0) = 0 = A + B $$\n",
    "\n",
    "$$ v_y(0) = v_{y0} = \\frac{dy(0)}{dt} = - \\frac{Bb}{m} - \\frac{mg}{b} \\quad \\rightarrow \\quad = B = -\\frac{m^2g}{b^2} -\\frac{v_{y0}m}{b} \\quad \\rightarrow \\quad = A = \\frac{m^2g}{b^2} + \\frac{v_{y0}m}{b} $$\n",
    "\n",
    "So, the motion of the ball in the y coordinate is:\n",
    "\n",
    "$$ y(t) = \\left(\\frac{m^2g}{b^2} + \\frac{v_{y0}m}{b}\\right) - \\left(\\frac{m^2g}{b^2} + \\frac{v_{y0}m}{b}\\right)e^{-\\frac{b}{m}t} -\\frac{mg}{b}t = \\left(\\frac{m^2g}{b^2} + \\frac{v_{y0}m}{b}\\right)\\left(1 - e^{-\\frac{b}{m}t}\\right) - \\frac{mg}{b}t $$"
   ]
  },
  {
   "cell_type": "code",
   "execution_count": 6,
   "metadata": {
    "colab": {},
    "colab_type": "code",
    "id": "04ZSdYNWM8jF",
    "outputId": "9ea68054-1836-4455-f488-59e61bb184db",
    "slideshow": {
     "slide_type": "slide"
    }
   },
   "outputs": [
    {
     "data": {
      "image/png": "[encoded data removed]",
      "text/plain": [
       "<Figure size 576x288 with 1 Axes>"
      ]
     },
     "metadata": {
      "needs_background": "light"
     },
     "output_type": "display_data"
    }
   ],
   "source": [
    "b = 0.006  # [Ns/m]\n",
    "t = np.arange(0, 2.05, 0.01)\n",
    "plt.figure(figsize=(8, 4))\n",
    "plt.plot(vx0*m/b*(1-np.exp(-b/m*t)), (vy0*m/b + g*m**2/b**2)*(1 - np.exp(-b/m*t)) - g*m/b*t, lw=4)\n",
    "plt.xlim(0, 36)\n",
    "plt.ylim(0, 6)\n",
    "plt.title('Ball trajectory')\n",
    "plt.xlabel('x')\n",
    "plt.ylabel('y')\n",
    "plt.show()"
   ]
  },
  {
   "cell_type": "markdown",
   "metadata": {
    "colab_type": "text",
    "id": "fjWZclG7M8jK",
    "slideshow": {
     "slide_type": "slide"
    }
   },
   "source": [
    "Now, we will solve the same situation using a numerical method (Euler method). \n",
    "\n",
    "We start from the equations  in each coordinate previously found:\n",
    "\n",
    "$$ \\frac{d^2x}{dt^2} = -\\frac{b}{m} \\frac{dx}{dt} $$\n",
    "\n",
    "$$ \\frac{d^2y}{dt^2} = -\\frac{b}{m}\\frac{dy}{dt} - g $$\n",
    "\n",
    "We can separate each equation into two first order equations and apply the Euler method:\n",
    "\n",
    "$$ \\frac{dv_x}{dt} = -\\frac{b}{m} v_x $$\n",
    "\n",
    "$$ \\frac{dx}{dt} = v_x $$\n",
    "\n",
    "$$ \\frac{dv_y}{dt} = -\\frac{b}{m}v_y - g $$\n",
    "\n",
    "$$ \\frac{dy}{dt} = v_y $$\n",
    "\n"
   ]
  },
  {
   "cell_type": "code",
   "execution_count": 7,
   "metadata": {
    "colab": {},
    "colab_type": "code",
    "id": "YkEz1B5VM8jL",
    "slideshow": {
     "slide_type": "slide"
    }
   },
   "outputs": [],
   "source": [
    "x  = x0\n",
    "y  = y0\n",
    "vx = vx0\n",
    "vy = vy0\n",
    "r  = np.array([x, y])\n",
    "while y >= 0:\n",
    "    dxdt = vx\n",
    "    x = x + dt * dxdt\n",
    "    dydt = vy\n",
    "    y = y + dt * dydt\n",
    "    dvxdt = -b/m*vx\n",
    "    vx = vx + dt * dvxdt\n",
    "    dvydt = -g - b/m*vy\n",
    "    vy = vy + dt * dvydt\n",
    "    r = np.vstack((r, np.array([x, y])))"
   ]
  },
  {
   "cell_type": "code",
   "execution_count": 8,
   "metadata": {
    "colab": {},
    "colab_type": "code",
    "id": "-UgCUusuM8jO",
    "outputId": "27e3ee61-eb8a-4c9b-9ff1-69def6ce0b6a",
    "slideshow": {
     "slide_type": "slide"
    }
   },
   "outputs": [
    {
     "data": {
      "image/png": "[encoded data removed]",
      "text/plain": [
       "<Figure size 576x288 with 1 Axes>"
      ]
     },
     "metadata": {
      "needs_background": "light"
     },
     "output_type": "display_data"
    }
   ],
   "source": [
    "plt.figure(figsize=(8, 4))\n",
    "plt.plot(r[:, 0], r[:, 1], lw=4)\n",
    "plt.xlim(0, 36)\n",
    "plt.ylim(0, 6)\n",
    "plt.title('Ball trajectory')\n",
    "plt.xlabel('x')\n",
    "plt.ylabel('y')\n",
    "plt.show()"
   ]
  },
  {
   "cell_type": "markdown",
   "metadata": {
    "colab_type": "text",
    "id": "M_NMu46AM8jU",
    "slideshow": {
     "slide_type": "slide"
    }
   },
   "source": [
    "### A more complex example\n",
    "\n",
    "Now, we will consider the drag force due to the air resistance proportional to the **square of speed** and still in the **opposite direction of the velocity vector**. \n",
    "           \n",
    "<figure><center><img src=\"../images/ballGravSquareRes.png\" alt=\"free-body diagram of the ball\" width=\"600\"/><figcaption><i>Figure. Free-body diagram of a ball under the influence of gravity and drag proportional to the square of speed.</i></figcaption></center></figure>"
   ]
  },
  {
   "cell_type": "markdown",
   "metadata": {
    "colab_type": "text",
    "id": "36ViR3o1M8jU"
   },
   "source": [
    "So the forces being applied in the ball are (for a revision of Time-varying frames and the meaning of the $\\hat{\\bf{e_t}}$, see [Time-varying frames notebook](https://nbviewer.jupyter.org/github/BMClab/bmc/blob/master/notebooks/Time-varying%20frames.ipynb)):\n",
    "\n",
    "$$ \\vec{\\bf{F}} = -mg \\; \\hat{\\bf{j}} - bv^2\\hat{\\bf{e_t}} \\\\\n",
    "\\vec{\\bf{F}} = -mg \\; \\hat{\\bf{j}} - b (v_x^2+v_y^2) \\frac{v_x \\; \\hat{\\bf{i}} + v_y \\; \\hat{\\bf{j}}}{\\sqrt{v_x^2+v_y^2}} \\\\\n",
    "\\vec{\\bf{F}} = -mg \\; \\hat{\\bf{j}} - b \\sqrt{v_x^2+v_y^2} \\,(v_x \\; \\hat{\\bf{i}}+v_y \\; \\hat{\\bf{j}}) \\\\\n",
    "\\vec{\\bf{F}} = -mg \\; \\hat{\\bf{j}} - b \\sqrt{\\left(\\frac{dx}{dt} \\right)^2+\\left(\\frac{dy}{dt} \\right)^2} \\,\\left(\\frac{dx}{dt} \\hat{\\bf{i}} + \\frac{dy}{dt} \\; \\hat{\\bf{j}}\\right) $$\n",
    "\n",
    "Writing down the Second Newton Law:\n",
    "\n",
    "$$ \\vec{\\bf{F}} = m \\frac{d^2\\vec{\\bf{r}}}{dt^2} \\\\\n",
    "-mg \\; \\hat{\\bf{j}} - b \\sqrt{\\left(\\frac{dx}{dt} \\right)^2+\\left(\\frac{dy}{dt} \\right)^2} \\,\\left(\\frac{dx}{dt} \\hat{\\bf{i}}+\\frac{dy}{dt}\\hat{\\bf{j}}\\right) = m\\left(\\frac{d^2x}{dt^2}\\hat{\\bf{i}}+\\frac{d^2y}{dt^2}\\hat{\\bf{j}}\\right) $$\n",
    "\n",
    "Now, we can separate into one equation for each coordinate:\n",
    "\n",
    "$$ - b \\sqrt{\\left(\\frac{dx}{dt} \\right)^2+\\left(\\frac{dy}{dt} \\right)^2} \\,\\frac{dx}{dt} = m\\frac{d^2x}{dt^2} \\quad \\rightarrow \\\\\n",
    "\\frac{d^2x}{dt^2} = - \\frac{b}{m} \\sqrt{\\left(\\frac{dx}{dt} \\right)^2+\\left(\\frac{dy}{dt} \\right)^2} \\,\\frac{dx}{dt} $$\n",
    "\n",
    "$$ -mg - b \\sqrt{\\left(\\frac{dx}{dt} \\right)^2+\\left(\\frac{dy}{dt} \\right)^2} \\,\\frac{dy}{dt} = m\\frac{d^2y}{dt^2} \\quad \\rightarrow \\\\\n",
    "\\frac{d^2y}{dt^2} = - \\frac{b}{m} \\sqrt{\\left(\\frac{dx}{dt} \\right)^2 + \\left(\\frac{dy}{dt} \\right)^2} \\,\\frac{dy}{dt} -g $$\n",
    "\n",
    "These equations are very difficult to solve analytically, but they can be easily  solved by using numerical methods. Below we  will use the same numerical method (Euler method) to solve these equations.\n",
    "\n",
    "To do that, we must break each equation into two first-order differential equations:\n",
    "\n",
    "$$ \\frac{dv_x}{dt} = - \\frac{b}{m} \\sqrt{v_x^2+v_y^2} \\,v_x $$\n",
    "\n",
    "$$ \\frac{dx}{dt} = v_x $$\n",
    "\n",
    "$$ \\frac{dv_y}{dt} = - \\frac{b}{m} \\sqrt{v_x^2+v_y^2} \\,v_y -g $$\n",
    "\n",
    "$$ \\frac{dy}{dt} = v_y $$\n",
    "\n",
    "Now, we can apply the Euler method to find a solution. "
   ]
  },
  {
   "cell_type": "code",
   "execution_count": 9,
   "metadata": {
    "colab": {},
    "colab_type": "code",
    "id": "QyHkIliGM8jV",
    "outputId": "09a23149-de85-41e7-9282-169a7c0f158c",
    "slideshow": {
     "slide_type": "slide"
    }
   },
   "outputs": [
    {
     "data": {
      "image/png": "[encoded data removed]",
      "text/plain": [
       "<Figure size 576x288 with 1 Axes>"
      ]
     },
     "metadata": {
      "needs_background": "light"
     },
     "output_type": "display_data"
    }
   ],
   "source": [
    "x  = x0\n",
    "y  = y0\n",
    "vx = vx0\n",
    "vy = vy0\n",
    "r  = np.array([x, y])\n",
    "while y >= 0:\n",
    "    dxdt = vx\n",
    "    x = x + dt * dxdt\n",
    "    dydt = vy\n",
    "    y = y + dt * dydt\n",
    "    dvxdt = -b/m * np.sqrt(vx**2 + vy**2)*vx\n",
    "    vx = vx + dt * dvxdt\n",
    "    dvydt = -b/m * np.sqrt(vx**2 + vy**2)*vy - g\n",
    "    vy = vy + dt * dvydt\n",
    "    r = np.vstack((r, np.array([x, y])))\n",
    "\n",
    "plt.figure(figsize=(8, 4))\n",
    "plt.plot(r[:, 0], r[:, 1], lw=4)\n",
    "plt.xlim(0, 36)\n",
    "plt.ylim(0, 6)\n",
    "plt.title('Ball trajectory')\n",
    "plt.xlabel('x')\n",
    "plt.ylabel('y')\n",
    "plt.show()"
   ]
  },
  {
   "cell_type": "markdown",
   "metadata": {
    "colab_type": "text",
    "id": "R8JH_WGNM8ja",
    "slideshow": {
     "slide_type": "slide"
    }
   },
   "source": [
    "## Problems\n",
    "\n",
    "1. Solve exercises 11.1.16, 11.1.19, 11.1.24, 11.1.29, 11.1.30, 11.1.31(a, b, d) and 11.1.32 from Ruina and Pratap's book.  "
   ]
  },
  {
   "cell_type": "markdown",
   "metadata": {
    "colab_type": "text",
    "id": "3l-W0R08M8jb"
   },
   "source": [
    "## References\n",
    "\n",
    "- Ruina A, Rudra P (2013) [Introduction to Statics and Dynamics](http://ruina.tam.cornell.edu/Book/index.html). Oxford University Press.  \n",
    "- Taylor JR (2005) [Classical Mechanics](https://books.google.com.br/books?id=P1kCtNr-pJsC). University Science Books."
   ]
  }
 ],
 "metadata": {
  "colab": {
   "collapsed_sections": [],
   "name": "Copy of newtonLawForParticles.ipynb",
   "provenance": [],
   "version": "0.3.2"
  },
  "kernelspec": {
   "display_name": "Python 3",
   "language": "python",
   "name": "python3"
  },
  "language_info": {
   "codemirror_mode": {
    "name": "ipython",
    "version": 3
   },
   "file_extension": ".py",
   "mimetype": "text/x-python",
   "name": "python",
   "nbconvert_exporter": "python",
   "pygments_lexer": "ipython3",
   "version": "3.7.6"
  },
  "latex_envs": {
   "LaTeX_envs_menu_present": true,
   "autoclose": false,
   "autocomplete": true,
   "bibliofile": "biblio.bib",
   "cite_by": "apalike",
   "current_citInitial": 1,
   "eqLabelWithNumbers": true,
   "eqNumInitial": 1,
   "hotkeys": {
    "equation": "Ctrl-E",
    "itemize": "Ctrl-I"
   },
   "labels_anchors": false,
   "latex_user_defs": false,
   "report_style_numbering": false,
   "user_envs_cfg": false
  },
  "nbTranslate": {
   "displayLangs": [
    "*"
   ],
   "hotkey": "alt-t",
   "langInMainMenu": true,
   "sourceLang": "en",
   "targetLang": "fr",
   "useGoogleTranslate": true
  }
 },
 "nbformat": 4,
 "nbformat_minor": 4
}
