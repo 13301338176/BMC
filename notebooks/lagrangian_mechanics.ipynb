{
 "cells": [
  {
   "cell_type": "markdown",
   "metadata": {},
   "source": [
    "# Lagrangian mechanics\n",
    "\n",
    "> Marcos Duarte  \n",
    "> [Laboratory of Biomechanics and Motor Control](http://pesquisa.ufabc.edu.br/bmclab)  \n",
    "> Federal University of ABC, Brazil"
   ]
  },
  {
   "cell_type": "markdown",
   "metadata": {},
   "source": [
    "<center><div style=\"background-color:#f2f2f2;border:1px solid black;width:72%;padding:5px 10px 5px 10px;text-align:left;\">\n",
    "<i>\"The theoretical development of the laws of motion of bodies is a problem of such interest and importance, that it has engaged the attention of all the most eminent mathematicians, since the invention of dynamics as a mathematical science by <b>Galileo</b>, and especially since the wonderful extension which was given to that science by <b>Newton</b>. Among the successors of those illustrious men, <b>Lagrange</b> has perhaps done more than any other analyst, to give extent and harmony to such deductive researches, by showing that the most varied consequences respecting the motions of systems of bodies may be derived from one radical formula; the beauty of the method so suiting the dignity of the results, as to make of his great work a kind of scientific poem.\"</i> &nbsp; <b>Hamilton</b> (1834)\n",
    "</div></center>"
   ]
  },
  {
   "cell_type": "markdown",
   "metadata": {
    "toc": 1
   },
   "source": [
    "<h1>Contents<span class=\"tocSkip\"></span></h1>\n",
    "<div class=\"toc\"><ul class=\"toc-item\"><li><span><a href=\"#Introduction\" data-toc-modified-id=\"Introduction-1\"><span class=\"toc-item-num\">1&nbsp;&nbsp;</span>Introduction</a></span></li><li><span><a href=\"#Generalized-coordinates\" data-toc-modified-id=\"Generalized-coordinates-2\"><span class=\"toc-item-num\">2&nbsp;&nbsp;</span>Generalized coordinates</a></span></li><li><span><a href=\"#Euler–Lagrange-equations\" data-toc-modified-id=\"Euler–Lagrange-equations-3\"><span class=\"toc-item-num\">3&nbsp;&nbsp;</span>Euler–Lagrange equations</a></span><ul class=\"toc-item\"><li><span><a href=\"#Steps-to-deduce-the-Euler-Lagrange-equations\" data-toc-modified-id=\"Steps-to-deduce-the-Euler-Lagrange-equations-3.1\"><span class=\"toc-item-num\">3.1&nbsp;&nbsp;</span>Steps to deduce the Euler-Lagrange equations</a></span></li><li><span><a href=\"#Example:-Particle-moving-under-the-influence-of-a-conservative-force\" data-toc-modified-id=\"Example:-Particle-moving-under-the-influence-of-a-conservative-force-3.2\"><span class=\"toc-item-num\">3.2&nbsp;&nbsp;</span>Example: Particle moving under the influence of a conservative force</a></span></li><li><span><a href=\"#Example:-Ideal-mass-spring-system\" data-toc-modified-id=\"Example:-Ideal-mass-spring-system-3.3\"><span class=\"toc-item-num\">3.3&nbsp;&nbsp;</span>Example: Ideal mass-spring system</a></span></li><li><span><a href=\"#Example:-Simple-pendulum-under-the-influence-of-gravity\" data-toc-modified-id=\"Example:-Simple-pendulum-under-the-influence-of-gravity-3.4\"><span class=\"toc-item-num\">3.4&nbsp;&nbsp;</span>Example: Simple pendulum under the influence of gravity</a></span><ul class=\"toc-item\"><li><span><a href=\"#Numerical-solution-of-the-equation-of-motion-for-the-simple-pendulum\" data-toc-modified-id=\"Numerical-solution-of-the-equation-of-motion-for-the-simple-pendulum-3.4.1\"><span class=\"toc-item-num\">3.4.1&nbsp;&nbsp;</span>Numerical solution of the equation of motion for the simple pendulum</a></span></li></ul></li><li><span><a href=\"#Python-code-to-automate-the-calculation-of-the-Euler–Lagrange-equation\" data-toc-modified-id=\"Python-code-to-automate-the-calculation-of-the-Euler–Lagrange-equation-3.5\"><span class=\"toc-item-num\">3.5&nbsp;&nbsp;</span>Python code to automate the calculation of the Euler–Lagrange equation</a></span></li><li><span><a href=\"#Example:-Double-pendulum-under-the-influence-of-gravity\" data-toc-modified-id=\"Example:-Double-pendulum-under-the-influence-of-gravity-3.6\"><span class=\"toc-item-num\">3.6&nbsp;&nbsp;</span>Example: Double pendulum under the influence of gravity</a></span><ul class=\"toc-item\"><li><span><a href=\"#Numerical-solution-of-the-equation-of-motion-for-the-double-pendulum\" data-toc-modified-id=\"Numerical-solution-of-the-equation-of-motion-for-the-double-pendulum-3.6.1\"><span class=\"toc-item-num\">3.6.1&nbsp;&nbsp;</span>Numerical solution of the equation of motion for the double pendulum</a></span></li></ul></li><li><span><a href=\"#Example:-Double-compound-pendulum-under-the-influence-of-gravity\" data-toc-modified-id=\"Example:-Double-compound-pendulum-under-the-influence-of-gravity-3.7\"><span class=\"toc-item-num\">3.7&nbsp;&nbsp;</span>Example: Double compound pendulum under the influence of gravity</a></span></li><li><span><a href=\"#Example:-Double-compound-pendulum-in-joint-space\" data-toc-modified-id=\"Example:-Double-compound-pendulum-in-joint-space-3.8\"><span class=\"toc-item-num\">3.8&nbsp;&nbsp;</span>Example: Double compound pendulum in joint space</a></span></li><li><span><a href=\"#Example:-Mass-attached-to-a-spring-on-a-horizontal-plane\" data-toc-modified-id=\"Example:-Mass-attached-to-a-spring-on-a-horizontal-plane-3.9\"><span class=\"toc-item-num\">3.9&nbsp;&nbsp;</span>Example: Mass attached to a spring on a horizontal plane</a></span></li></ul></li><li><span><a href=\"#Generalized-forces\" data-toc-modified-id=\"Generalized-forces-4\"><span class=\"toc-item-num\">4&nbsp;&nbsp;</span>Generalized forces</a></span><ul class=\"toc-item\"><li><span><a href=\"#Example:-Simple-pendulum-on-moving-cart\" data-toc-modified-id=\"Example:-Simple-pendulum-on-moving-cart-4.1\"><span class=\"toc-item-num\">4.1&nbsp;&nbsp;</span>Example: Simple pendulum on moving cart</a></span></li><li><span><a href=\"#Example:-Two-masses-and-two-springs-under-the-influence-of-gravity\" data-toc-modified-id=\"Example:-Two-masses-and-two-springs-under-the-influence-of-gravity-4.2\"><span class=\"toc-item-num\">4.2&nbsp;&nbsp;</span>Example: Two masses and two springs under the influence of gravity</a></span></li><li><span><a href=\"#Example:-Mass-spring-damper-system-with-gravity\" data-toc-modified-id=\"Example:-Mass-spring-damper-system-with-gravity-4.3\"><span class=\"toc-item-num\">4.3&nbsp;&nbsp;</span>Example: Mass-spring-damper system with gravity</a></span><ul class=\"toc-item\"><li><span><a href=\"#Numerical-solution-of-the-equation-of-motion-for-mass-spring-damper-system\" data-toc-modified-id=\"Numerical-solution-of-the-equation-of-motion-for-mass-spring-damper-system-4.3.1\"><span class=\"toc-item-num\">4.3.1&nbsp;&nbsp;</span>Numerical solution of the equation of motion for mass-spring-damper system</a></span></li></ul></li></ul></li><li><span><a href=\"#Forces-of-constraint\" data-toc-modified-id=\"Forces-of-constraint-5\"><span class=\"toc-item-num\">5&nbsp;&nbsp;</span>Forces of constraint</a></span><ul class=\"toc-item\"><li><span><a href=\"#Example:-Force-of-constraint-in-a-simple-pendulum-under-the-influence-of-gravity\" data-toc-modified-id=\"Example:-Force-of-constraint-in-a-simple-pendulum-under-the-influence-of-gravity-5.1\"><span class=\"toc-item-num\">5.1&nbsp;&nbsp;</span>Example: Force of constraint in a simple pendulum under the influence of gravity</a></span></li></ul></li><li><span><a href=\"#Lagrangian-formalism-applied-to-non-mechanical-systems\" data-toc-modified-id=\"Lagrangian-formalism-applied-to-non-mechanical-systems-6\"><span class=\"toc-item-num\">6&nbsp;&nbsp;</span>Lagrangian formalism applied to non-mechanical systems</a></span><ul class=\"toc-item\"><li><span><a href=\"#Example:-Lagrangian-formalism-for-RLC-eletrical-circuits\" data-toc-modified-id=\"Example:-Lagrangian-formalism-for-RLC-eletrical-circuits-6.1\"><span class=\"toc-item-num\">6.1&nbsp;&nbsp;</span>Example: Lagrangian formalism for RLC eletrical circuits</a></span></li></ul></li><li><span><a href=\"#Considerations-on-the-Lagrangian-mechanics\" data-toc-modified-id=\"Considerations-on-the-Lagrangian-mechanics-7\"><span class=\"toc-item-num\">7&nbsp;&nbsp;</span>Considerations on the Lagrangian mechanics</a></span></li><li><span><a href=\"#Further-reading\" data-toc-modified-id=\"Further-reading-8\"><span class=\"toc-item-num\">8&nbsp;&nbsp;</span>Further reading</a></span></li><li><span><a href=\"#Video-lectures-on-the-internet\" data-toc-modified-id=\"Video-lectures-on-the-internet-9\"><span class=\"toc-item-num\">9&nbsp;&nbsp;</span>Video lectures on the internet</a></span></li><li><span><a href=\"#Problems\" data-toc-modified-id=\"Problems-10\"><span class=\"toc-item-num\">10&nbsp;&nbsp;</span>Problems</a></span></li><li><span><a href=\"#References\" data-toc-modified-id=\"References-11\"><span class=\"toc-item-num\">11&nbsp;&nbsp;</span>References</a></span></li></ul></div>"
   ]
  },
  {
   "cell_type": "code",
   "execution_count": 1,
   "metadata": {
    "ExecuteTime": {
     "end_time": "2020-05-28T04:42:06.941348Z",
     "start_time": "2020-05-28T04:42:06.101526Z"
    }
   },
   "outputs": [],
   "source": [
    "# import necessary libraries and configure environment\n",
    "import numpy as np\n",
    "%matplotlib inline\n",
    "import matplotlib.pyplot as plt\n",
    "import seaborn as sns\n",
    "sns.set_context('notebook', font_scale=1.2, rc={\"lines.linewidth\": 2})\n",
    "# import Sympy functions\n",
    "import sympy as sym\n",
    "from sympy import Symbol, symbols, cos, sin, Matrix, simplify, Eq, latex, expand\n",
    "from sympy.solvers.solveset import nonlinsolve\n",
    "from sympy.physics.mechanics import dynamicsymbols, mlatex, init_vprinting\n",
    "init_vprinting()\n",
    "from IPython.display import display, Math\n",
    "# display all output from expressions by default\n",
    "from IPython.core.interactiveshell import InteractiveShell\n",
    "InteractiveShell.ast_node_interactivity = \"all\"  # \"last_expr\""
   ]
  },
  {
   "cell_type": "code",
   "execution_count": 2,
   "metadata": {
    "ExecuteTime": {
     "end_time": "2020-05-28T04:42:06.945120Z",
     "start_time": "2020-05-28T04:42:06.942472Z"
    }
   },
   "outputs": [],
   "source": [
    "# needed for Google Colaboratory to display correctly Sympy Latex output \n",
    "def colab_LaTeX_printer(exp, **options):  \n",
    "    from google.colab.output._publish import javascript \n",
    "    url_ = \"https://colab.research.google.com/static/mathjax/MathJax.js?\"\n",
    "    cfg_ = \"config=TeX-MML-AM_HTMLorMML\" # \"config=default\"\n",
    "    javascript(url=url_+cfg_)\n",
    "    return latex(exp, **options)\n",
    "\n",
    "init_vprinting(use_latex=\"mathjax\", latex_printer=colab_LaTeX_printer) "
   ]
  },
  {
   "cell_type": "markdown",
   "metadata": {},
   "source": [
    "## Introduction\n",
    "\n",
    "We know that some problems in dynamics can be solved using the principle of conservation of mechanical energy, that the total mechanical energy in a system (the sum of potential and kinetic energies) is constant when only conservative forces are present in the system. Such approach is one kind of energy methods, see for example, pages 495-512 in Ruina and Pratap (2019).  \n",
    "\n",
    "Lagrangian mechanics (after [Joseph-Louis Lagrange](https://en.wikipedia.org/wiki/Joseph-Louis_Lagrange)) can be seen as another kind of energy methods, but much more general, to the extent is an alternative to Newtonian mechanics.  \n",
    "\n",
    "The Lagrangian mechanics is a formulation of classical mechanics where the equations of motion are obtained from the kinetic and potential energy of the system (scalar quantities) represented in generalized coordinates instead of using Newton's laws of motion to deduce the equations of motion from the forces on the system (vector quantities) represented in Cartesian coordinates.  "
   ]
  },
  {
   "cell_type": "markdown",
   "metadata": {},
   "source": [
    "## Generalized coordinates\n",
    "\n",
    "The direct application of Newton's laws to mechanical systems results in a set of equations of motion in terms of Cartesian coordinates of each of the particles that make up the system. In many cases, this is not the most convenient coordinate system to solve the problem or describe the movement of the system. For example, for a serial chain of rigid links, such as a member of the human body or from a robot manipulator, it may be simpler to describe the positions of each link by the angles between links.  \n",
    "\n",
    "Coordinate systems such as angles of a chain of links are referred as [generalized coordinates](https://en.wikipedia.org/wiki/Generalized_coordinates). Generalized coordinates uniquely specify the positions of the particles in a system. Although there may be several generalized coordinates to describe a system, usually a judicious choice of generalized coordinates provides the minimum number of independent coordinates that define the configuration of a system (which is the number of <a href=\"https://en.wikipedia.org/wiki/Degrees_of_freedom_(mechanics)\">degrees of freedom</a> of the system), turning the problem simpler to solve. In this case, when the number of generalized coordinates equals the number of degrees of freedom, the system is referred as a holonomic system. In a non-holonomic system, the number of generalized coordinates necessary do describe the system depends on the path taken by the system. \n",
    "\n",
    "Being a little more technical, according to [Wikipedia](https://en.wikipedia.org/wiki/Configuration_space_(physics)):  \n",
    "\"In classical mechanics, the parameters that define the configuration of a system are called generalized coordinates, and the vector space defined by these coordinates is called the configuration space of the physical system. It is often the case that these parameters satisfy mathematical constraints, such that the set of actual configurations of the system is a manifold in the space of generalized coordinates. This manifold is called the configuration manifold of the system.\"\n",
    "\n",
    "In problems where it is desired to use generalized coordinates, one can write Newton's equations of motion in terms of Cartesian coordinates and then transform them into generalized coordinates. However, it would be desirable and convenient to have a general method that would directly establish the equations of motion in terms of a set of convenient generalized coordinates. In addition, general methods for writing, and perhaps solving, the equations of motion in terms of any coordinate system would also be desirable. The [Lagrangian mechanics](https://en.wikipedia.org/wiki/Lagrangian_mechanics) is such a method."
   ]
  },
  {
   "cell_type": "markdown",
   "metadata": {},
   "source": [
    "## Euler–Lagrange equations\n",
    "\n",
    "\n",
    "See [this notebook](http://nbviewer.jupyter.org/github/BMClab/bmc/blob/master/notebooks/lagrangian_mechanics_generalized.ipynb) for a deduction of the Lagrange's equation in generalized coordinates.\n",
    "\n",
    "Consider a system whose configuration (positions) can be described by a set of $N$ generalized coordinates $q_i\\,(i=1,\\dotsc,N)$.\n",
    "\n",
    "Let's define the Lagrange or Lagrangian function $\\mathcal{L}$ as the difference between the total kinetic energy $T$ and the total potential energy $V$ of the system in terms of the generalized coordinates as:\n",
    "<p>\n",
    "<span class=\"notranslate\">\n",
    "\\begin{equation} \n",
    "\\mathcal{L}(t,q,\\dot{q}) = T(\\dot{q}_1(t),\\dotsc,\\dot{q}_N(t)) - V(q_1(t),\\dotsc,q_N(t))\n",
    "\\label{}\n",
    "\\end{equation}\n",
    "</span>\n",
    "    \n",
    "where the total potential energy is only due to conservative forces, that is, forces in which the total work done to move the system between two points is independent of the path taken.\n",
    "    \n",
    "The Euler–Lagrange equations (or Lagrange's equations of the second kind) of the system are (omitting the functions' dependencies for sake of clarity):\n",
    "<p>\n",
    "<span class=\"notranslate\">\n",
    "\\begin{equation} \n",
    "\\frac{\\mathrm d }{\\mathrm d t}\\left( {\\frac{\\partial \\mathcal{L}}{\\partial \\dot{q}_i }} \n",
    "\\right)-\\frac{\\partial \\mathcal{L}}{\\partial q_i } = Q_{NCi} \\quad i=1,\\dotsc,N\n",
    "\\label{}\n",
    "\\end{equation}\n",
    "</span>    \n",
    "    \n",
    "where $Q_{NCi}$ are the generalized forces due to non-conservative forces acting on the system, any forces that can't be expressed in terms of a potential.  \n",
    "\n",
    "Once all derivatives of the Lagrangian function are calculated and substitute them in the equations above, the result is the equation of motion (EOM) for each generalized coordinate. There will be $N$ equations for a system with $N$ generalized coordinates."
   ]
  },
  {
   "cell_type": "markdown",
   "metadata": {},
   "source": [
    "### Steps to deduce the Euler-Lagrange equations\n",
    "\n",
    "1. Model the problem. Define the number of degrees of freedom. Carefully select the corresponding generalized coordinates to describe the system;\n",
    "2. Calculate the total kinetic and total potential energies of the system. Calculate the Lagrangian;\n",
    "3. Calculate the generalized forces for each generalized coordinate;\n",
    "4. For each generalized coordinate, calculate the three derivatives present on the left side of the Euler-Lagrange equation;\n",
    "5. For each generalized coordinate, substitute the result of these three derivatives in the left side and the corresponding generalized forces in the right side of the Euler-Lagrange equation.\n",
    "\n",
    "The EOM's, one for each generalized coordinate, are the result of the last step."
   ]
  },
  {
   "cell_type": "markdown",
   "metadata": {},
   "source": [
    "### Example: Particle moving under the influence of a conservative force\n",
    "\n",
    "Let's deduce the EOM of a particle with mass $m$ moving in the three-dimensional space under the influence of a [conservative force](https://en.wikipedia.org/wiki/Conservative_force).  \n",
    "\n",
    "The model is the particle moving in 3D space and there is no generalized force (non-conservative force); the particle has three degrees of freedom and we need three generalized coordinates, which can be $(x, y, z)$, where $y$ is vertical, in a Cartesian frame of reference.  \n",
    "The Lagrangian $(\\mathcal{L} = T - V)$ of the particle is:\n",
    "<p>\n",
    "<span class=\"notranslate\">\n",
    "\\begin{equation} \n",
    "\\mathcal{L} = \\frac{1}{2}m(\\dot x^2(t) + \\dot y^2(t) + \\dot z^2(t)) - V(x(t),y(t),z(t)) \n",
    "\\label{}\n",
    "\\end{equation}\n",
    "</span>\n",
    "\n",
    "The equations of motion for the particle are found by applying the Euler–Lagrange equation for each coordinate.  \n",
    "For the $x$ coordinate:\n",
    "<p>\n",
    "<span class=\"notranslate\">\n",
    "\\begin{equation} \n",
    "\\frac{\\mathrm d }{\\mathrm d t}\\left( {\\frac{\\partial \\mathcal{L}}{\\partial \\dot{x}}} \n",
    "\\right) - \\frac{\\partial \\mathcal{L}}{\\partial x } = 0\n",
    "\\label{}\n",
    "\\end{equation}\n",
    "</span>\n",
    "\n",
    "And the derivatives are:\n",
    "<p>\n",
    "<span class=\"notranslate\">\n",
    "\\begin{equation} \\begin{array}{rcl}\n",
    "&\\dfrac{\\partial \\mathcal{L}}{\\partial x} &=& -\\dfrac{\\partial V}{\\partial x} \\\\\n",
    "&\\dfrac{\\partial \\mathcal{L}}{\\partial \\dot{x}} &=& m\\dot{x} \\\\\n",
    "&\\dfrac{\\mathrm d }{\\mathrm d t}\\left( {\\dfrac{\\partial \\mathcal{L}}{\\partial \\dot{x}}} \\right) &=& m\\ddot{x} \n",
    "\\end{array}\n",
    "\\label{}\n",
    "\\end{equation}\n",
    "</span>\n",
    "\n",
    "Finally, the EOM is:\n",
    "<p>\n",
    "<span class=\"notranslate\">\n",
    "\\begin{equation}\\begin{array}{l}\n",
    "m\\ddot{x} + \\dfrac{\\partial V}{\\partial x} = 0 \\quad \\rightarrow \\\\\n",
    "m\\ddot{x} = -\\dfrac{\\partial V}{\\partial x} \n",
    "\\end{array}\n",
    "\\label{}\n",
    "\\end{equation}\n",
    "</span>\n",
    "\n",
    "and same procedure for the $y$ and $z$ coordinates.  \n",
    "\n",
    "The equation above is the Newton's second law of motion.\n",
    "\n",
    "For instance, if the conservative force is due to the gravitational field near Earth's surface $(V=[0, mgy, 0])$, the Euler–Lagrange equations (the EOM's) are:\n",
    "<p>\n",
    "<span class=\"notranslate\">\n",
    "\\begin{equation} \\begin{array}{rcl}\n",
    "m\\ddot{x} &=& -\\dfrac{\\partial (0)}{\\partial x} &=& 0 \\\\\n",
    "m\\ddot{y} &=& -\\dfrac{\\partial (mgy)}{\\partial y} &=& -mg \\\\\n",
    "m\\ddot{z} &=& -\\dfrac{\\partial (0)}{\\partial z} &=& 0 \n",
    "\\end{array}\n",
    "\\label{}\n",
    "\\end{equation}\n",
    "</span>"
   ]
  },
  {
   "cell_type": "markdown",
   "metadata": {},
   "source": [
    "### Example: Ideal mass-spring system\n",
    "\n",
    "<figure><img src=\"./../images/massspring_lagrange.png\" width=\"220\" alt=\"mass spring\" style=\"float:right;margin: 0px 20px 10px 20px;\"/></figure>\n",
    "\n",
    "Consider a system with a mass $m$ attached to an ideal spring (massless, length $\\ell_0$, and spring constant $k$) at the horizontal direction $x$. A force is momentarily applied to the mass and then the system is left unperturbed.  \n",
    "Let's deduce the EOM of this system.  \n",
    "\n",
    "The system can be modeled as a particle attached to a spring moving at the direction $x$, the only generalized coordinate needed (with origin of the Cartesian reference frame at the wall where the spring is attached), and there is no generalized force.  \n",
    "The Lagrangian $(\\mathcal{L} = T - V)$ of the system is: \n",
    "<p>\n",
    "<span class=\"notranslate\">\n",
    "\\begin{equation} \n",
    "\\mathcal{L} = \\frac{1}{2}m\\dot x^2 - \\frac{1}{2}k(x-\\ell_0)^2\n",
    "\\label{}\n",
    "\\end{equation}\n",
    "</span>\n",
    "\n",
    "And the derivatives are:\n",
    "<p>\n",
    "<span class=\"notranslate\">\n",
    "\\begin{equation} \\begin{array}{rcl}\n",
    "&\\dfrac{\\partial \\mathcal{L}}{\\partial x} &=& -k(x-\\ell_0) \\\\\n",
    "&\\dfrac{\\partial \\mathcal{L}}{\\partial \\dot{x}} &=& m\\dot{x} \\\\\n",
    "&\\dfrac{\\mathrm d }{\\mathrm d t}\\left( {\\dfrac{\\partial \\mathcal{L}}{\\partial \\dot{x}}} \\right) &=& m\\ddot{x} \n",
    "\\end{array} \n",
    "\\end{equation}\n",
    "</span>\n",
    "\n",
    "Finally, the Euler–Lagrange equation (the EOM) is:\n",
    "<p>\n",
    "<span class=\"notranslate\">\n",
    "\\begin{equation}\n",
    "m\\ddot{x} + k(x-\\ell_0) = 0\n",
    "\\label{}\n",
    "\\end{equation}\n",
    "</span>"
   ]
  },
  {
   "cell_type": "markdown",
   "metadata": {},
   "source": [
    "### Example: Simple pendulum under the influence of gravity\n",
    "\n",
    "<figure><img src=\"./../images/simplependulum_lagrange.png\" width=\"220\" alt=\"simple pendulum\" style=\"float:right;margin: 10px 50px 10px 50px;\"/></figure>\n",
    "\n",
    "Consider a pendulum with a massless rod of length $d$ and a mass $m$ at the extremity swinging in a plane forming the angle $\\theta$ with the vertical.  \n",
    "Let's deduce the EOM of this system.\n",
    "\n",
    "The model is a particle oscillating as a pendulum under a constant gravitational force $-mg$.  \n",
    "Although the pendulum moves at the plane, it only has one degree of freedom, which can be described by the angle $\\theta$, the generalized coordinate. Let's adopt the origin of the reference frame at the point of the pendulum suspension.  \n",
    "\n",
    "The kinetic energy of the system is:\n",
    "<p>\n",
    "<span class=\"notranslate\">\n",
    "\\begin{equation}\n",
    "T = \\frac{1}{2}mv^2 = \\frac{1}{2}m(\\dot{x}^2+\\dot{y}^2)\n",
    "\\end{equation}\n",
    "</span>\n",
    "\n",
    "where $\\dot{x}$ and $\\dot{y}$ are:\n",
    "<p>\n",
    "<span class=\"notranslate\">\n",
    "\\begin{equation} \\begin{array}{l}\n",
    "x = d\\sin(\\theta) \\\\\n",
    "y = -d\\cos(\\theta) \\\\    \n",
    "\\dot{x} = d\\cos(\\theta)\\dot{\\theta} \\\\\n",
    "\\dot{y} = d\\sin(\\theta)\\dot{\\theta}\n",
    "\\end{array} \\end{equation}\n",
    "</span>\n",
    "\n",
    "Consequently, the kinetic energy is:\n",
    "<p>\n",
    "<span class=\"notranslate\">\n",
    "\\begin{equation}\n",
    "T = \\frac{1}{2}m\\left((d\\cos(\\theta)\\dot{\\theta})^2 + (d\\sin(\\theta)\\dot{\\theta})^2\\right) = \\frac{1}{2}md^2\\dot{\\theta}^2\n",
    "\\end{equation}\n",
    "</span>    \n",
    "\n",
    "And the potential energy of the system is:\n",
    "<p>\n",
    "<span class=\"notranslate\">\n",
    "\\begin{equation}\n",
    "V = -mgy = -mgd\\cos\\theta\n",
    "\\end{equation}\n",
    "</span>\n",
    "    \n",
    "The Lagrangian function is:\n",
    "<p>\n",
    "<span class=\"notranslate\">\n",
    "\\begin{equation}\n",
    "\\mathcal{L} = \\frac{1}{2}md^2\\dot\\theta^2 + mgd\\cos\\theta\n",
    "\\end{equation}\n",
    "</span>\n",
    "    \n",
    "And the derivatives are:\n",
    "<p>\n",
    "<span class=\"notranslate\">\n",
    "\\begin{equation} \\begin{array}{rcl}\n",
    "&\\dfrac{\\partial \\mathcal{L}}{\\partial \\theta} &=& -mgd\\sin\\theta \\\\\n",
    "&\\dfrac{\\partial \\mathcal{L}}{\\partial \\dot{\\theta}} &=& md^2\\dot{\\theta} \\\\\n",
    "&\\dfrac{\\mathrm d }{\\mathrm d t}\\left( {\\dfrac{\\partial \\mathcal{L}}{\\partial \\dot{\\theta}}} \\right) &=& md^2\\ddot{\\theta}\n",
    "\\end{array} \\end{equation}\n",
    "</span>\n",
    "    \n",
    "Finally, the Euler–Lagrange equation (the EOM) is:\n",
    "<p>\n",
    "<span class=\"notranslate\">\n",
    "\\begin{equation}\n",
    "md^2\\ddot\\theta + mgd\\sin\\theta = 0\n",
    "\\end{equation}\n",
    "</span>\n",
    "    \n",
    "Note that although the generalized coordinate of the system is $\\theta$, we had to employ Cartesian coordinates at the beginning to derive expressions for the kinetic and potential energies. For kinetic energy, we could have used its equivalent definition for circular motion $(T=I\\dot{\\theta}^2/2=md^2\\dot{\\theta}^2/2)$, but for the potential energy there is no other way since the gravitational force acts in the vertical direction.\n",
    "In cases like this, a fundamental aspect is to express the Cartesian coordinates in terms of the generalized coordinates."
   ]
  },
  {
   "cell_type": "markdown",
   "metadata": {},
   "source": [
    "#### Numerical solution of the equation of motion for the simple pendulum\n",
    "\n",
    "A classical approach to solve analytically the EOM for the simple pendulum is to consider the motion for small angles where $\\sin\\theta \\approx \\theta$ and the differential equation is linearized to $d\\ddot\\theta + g\\theta = 0$. This equation has an analytical solution of the type $\\theta(t) = A \\sin(\\omega t + \\phi)$, where $\\omega = \\sqrt{g/d}$ and $A$ and $\\phi$ are constants related to the initial position and velocity.  \n",
    "For didactic purposes, let's solve numerically the differential equation for the pendulum using [Euler’s method](https://nbviewer.jupyter.org/github/demotu/BMC/blob/master/notebooks/OrdinaryDifferentialEquation.ipynb#Euler-method), but beware that this method produces the largest errors in the integration!  \n",
    "\n",
    "Remember that we have to:  \n",
    "1. Transform the second-order ODE into two coupled first-order ODEs,  \n",
    "2. Approximate the derivative of each variable by its discrete first order difference  \n",
    "3. Write an equation to calculate the variable in a recursive way, updating its value with an equation based on the first order difference.  \n",
    "\n",
    "Implementing these steps in Python:  "
   ]
  },
  {
   "cell_type": "code",
   "execution_count": 3,
   "metadata": {
    "ExecuteTime": {
     "end_time": "2020-05-28T04:42:06.953912Z",
     "start_time": "2020-05-28T04:42:06.946427Z"
    }
   },
   "outputs": [],
   "source": [
    "def euler_method(T, y0, v0, h):\n",
    "    \"\"\"\n",
    "    First-order numerical procedure for solving ODE given initial condition.\n",
    "    Warning: this method produces the largest errors in the integration!\n",
    "    Parameters:\n",
    "        T: total period (in s) of the numerical integration\n",
    "        y0: initial position\n",
    "        v0: initial velocity\n",
    "        h: step for the numerical integration\n",
    "    Two coupled first-order ODEs:\n",
    "        dydt = v\n",
    "        dvdt = a  # calculate the expression for acceleration at each step\n",
    "    Two equations to update the values of the variables based on first-order difference:\n",
    "        y[i+1] = y[i] + h*v[i]\n",
    "        v[i+1] = v[i] + h*dvdt[i]\n",
    "    Returns arrays time, position, velocity\n",
    "    \"\"\"\n",
    "    N = int(np.ceil(T/h))\n",
    "    y, v = np.zeros(N), np.zeros(N)\n",
    "    y[0], v[0] = y0, v0\n",
    "    t = np.linspace(0, T, N, endpoint=False)\n",
    "    for i in range(N-1):\n",
    "        y[i+1] = y[i] + h*v[i]\n",
    "        v[i+1] = v[i] + h*dvdt(t[i], y[i], v[i])\n",
    "    return t, y, v\n",
    "\n",
    "\n",
    "def dvdt(t, y, v):\n",
    "    \"\"\"\n",
    "    Returns forward dvdt at ti. yi and vi are the values at ti.\n",
    "    \"\"\"\n",
    "    d = 2   # length of the pendulum in m\n",
    "    g = 10  # acceleration of gravity in m/s2\n",
    "    return -g/d*np.sin(y)\n",
    "\n",
    "\n",
    "def plot(t, y, v, labels):   \n",
    "    \"\"\"\n",
    "    Plot data given in t, y, v with labels [title, ylabel@left, ylabel@right]\n",
    "    \"\"\"\n",
    "    y, v = y, v\n",
    "    fig, ax1 = plt.subplots(1, 1, figsize=(10, 4))\n",
    "    ax1.set_title(labels[0])\n",
    "    ax1.plot(t, y, 'b', label=' ')\n",
    "    ax1.set_xlabel('Time (s)')\n",
    "    ax1.set_ylabel(u'\\u2014 ' + labels[1], color='b')\n",
    "    ax1.tick_params('y', colors='b')\n",
    "    #ax1.legend(bbox_to_anchor=(-0.1, 1.05), loc='upper left', frameon=False)\n",
    "    ax2 = ax1.twinx()\n",
    "    ax2.plot(t, v, 'r-.', label=' ')\n",
    "    ax2.set_ylabel(u'\\u2014 \\u2027 ' + labels[2], color='r')\n",
    "    ax2.tick_params('y', colors='r')    \n",
    "    #ax2.legend(bbox_to_anchor=(1.1, 1.05), loc='upper right', frameon=False)\n",
    "    plt.tight_layout()\n",
    "    plt.show()    "
   ]
  },
  {
   "cell_type": "code",
   "execution_count": 4,
   "metadata": {
    "ExecuteTime": {
     "end_time": "2020-05-28T04:42:07.358900Z",
     "start_time": "2020-05-28T04:42:06.955044Z"
    }
   },
   "outputs": [
    {
     "data": {
      "image/png": "[encoded data removed]",
      "text/plain": [
       "<Figure size 720x288 with 2 Axes>"
      ]
     },
     "metadata": {
      "needs_background": "light"
     },
     "output_type": "display_data"
    }
   ],
   "source": [
    "T, y0, v0, h = 10, 45*np.pi/180, 0, .001\n",
    "t, theta, vtheta = euler_method(T, y0, v0, h)\n",
    "labels = ['Trajectory of simple pendulum under gravity',\n",
    "          'Angular position ($^o$)', 'Angular velocity ($^o/s$)']\n",
    "plot(t, np.rad2deg(theta), np.rad2deg(vtheta), labels)"
   ]
  },
  {
   "cell_type": "markdown",
   "metadata": {},
   "source": [
    "### Python code to automate the calculation of the Euler–Lagrange equation\n",
    "\n",
    "The three derivatives in the Euler–Lagrange equations are first-order derivatives and behind the scenes we are using latex to write the equations. Both tasks are boring and error prone.  \n",
    "Let's write a function using the Sympy library to automate the calculation of the derivative terms in the Euler–Lagrange equations and display them nicely."
   ]
  },
  {
   "cell_type": "code",
   "execution_count": 5,
   "metadata": {
    "ExecuteTime": {
     "end_time": "2020-05-28T04:42:07.370035Z",
     "start_time": "2020-05-28T04:42:07.360238Z"
    }
   },
   "outputs": [],
   "source": [
    "# helping function\n",
    "def printeq(lhs, rhs=None):\n",
    "    \"\"\"Rich display of Sympy expression as lhs = rhs.\"\"\"\n",
    "    if rhs is None:\n",
    "        display(Math(r'{}'.format(lhs)))\n",
    "    else:\n",
    "        display(Math(r'{} = '.format(lhs) + mlatex(simplify(rhs, ratio=1.7))))\n",
    "\n",
    "\n",
    "def lagrange_terms(L, q, show=True):\n",
    "    \"\"\"Calculate terms of Euler-Lagrange equations given the Lagrangian and q's.\n",
    "    \"\"\"\n",
    "    if not isinstance(q, list):\n",
    "        q = [q]\n",
    "    Lterms = []\n",
    "    if show:\n",
    "        s = '' if len(q) == 1 else 's'\n",
    "        printeq(r\"\\text{Terms of the Euler-Lagrange equation%s:}\"%(s)) \n",
    "    for qi in q:\n",
    "        dLdqi = simplify(L.diff(qi))\n",
    "        Lterms.append(dLdqi)\n",
    "        dLdqdi = simplify(L.diff(qi.diff(t)))\n",
    "        Lterms.append(dLdqdi)\n",
    "        dtdLdqdi = simplify(dLdqdi.diff(t))\n",
    "        Lterms.append(dtdLdqdi)\n",
    "        if show:\n",
    "            printeq(r'\\text{For generalized coordinate}\\;%s:'%latex(qi.func))\n",
    "            printeq(r'\\quad\\dfrac{\\partial\\mathcal{L}}{\\partial %s}'%latex(qi.func), dLdqi)\n",
    "            printeq(r'\\quad\\dfrac{\\partial\\mathcal{L}}{\\partial\\dot{%s}}'%latex(qi.func), dLdqdi)\n",
    "            printeq(r'\\quad\\dfrac{\\mathrm d}{\\mathrm{dt}}\\left({\\dfrac{'+ \n",
    "                    r'\\partial\\mathcal{L}}{\\partial\\dot{%s}}}\\right)'%latex(qi.func), dtdLdqdi)\n",
    "    return Lterms    \n",
    "\n",
    "\n",
    "def lagrange_eq(Lterms, Qnc=None):\n",
    "    \"\"\"Display Euler-Lagrange equation given the Lterms.\"\"\"\n",
    "    s = '' if len(Lterms) == 3 else 's'\n",
    "    if Qnc is None:\n",
    "        Qnc = int(len(Lterms)/3) * [0]\n",
    "    printeq(r\"\\text{Euler-Lagrange equation%s (EOM):}\"%(s))\n",
    "    for i in range(int(len(Lterms)/3)):\n",
    "        #display(Eq(simplify(Lterms[3*i+2]-Lterms[3*i]), Qnc[i], evaluate=False))\n",
    "        printeq(r'\\quad ' + mlatex(simplify(Lterms[3*i+2]-Lterms[3*i])), Qnc[i])\n",
    "        \n",
    "        \n",
    "def lagrange_eq_solve(Lterms, q, Qnc=None):        \n",
    "    \"\"\"Display Euler-Lagrange equation given the Lterms.\"\"\"\n",
    "    if not isinstance(q, list):\n",
    "        q = [q]    \n",
    "    if Qnc is None:\n",
    "        Qnc = int(len(Lterms)/3) * [0]\n",
    "    system = [simplify(Lterms[3*i+2]-Lterms[3*i]-Qnc[i]) for i in range(len(q))]\n",
    "    qdds = [qi.diff(t, 2) for qi in q]\n",
    "    sol = nonlinsolve(system, qdds)\n",
    "    s = '' if len(Lterms) == 3 else 's'\n",
    "    printeq(r\"\\text{Euler-Lagrange equation%s (EOM):}\"%(s))\n",
    "    if len(sol.args):\n",
    "        for i in range(int(len(Lterms)/3)):\n",
    "            display(Eq(qdds[i], simplify(sol.args[0][i]), evaluate=False))\n",
    "    else:\n",
    "        display(sol)\n",
    "        \n",
    "    return sol"
   ]
  },
  {
   "cell_type": "markdown",
   "metadata": {},
   "source": [
    "Let's recalculate the EOM of the simple pendulum using Sympy and the code for automation."
   ]
  },
  {
   "cell_type": "code",
   "execution_count": 6,
   "metadata": {
    "ExecuteTime": {
     "end_time": "2020-05-28T04:42:07.378406Z",
     "start_time": "2020-05-28T04:42:07.370961Z"
    }
   },
   "outputs": [],
   "source": [
    "# define variables\n",
    "t = sym.Symbol('t')\n",
    "m, d, g = sym.symbols('m, d, g', positive=True)\n",
    "θ = dynamicsymbols('theta')  # \\theta<TAB>"
   ]
  },
  {
   "cell_type": "markdown",
   "metadata": {},
   "source": [
    "Position and velocity of the simple pendulum under the influence of gravity:"
   ]
  },
  {
   "cell_type": "code",
   "execution_count": 7,
   "metadata": {
    "ExecuteTime": {
     "end_time": "2020-05-28T04:42:07.449204Z",
     "start_time": "2020-05-28T04:42:07.380067Z"
    }
   },
   "outputs": [
    {
     "data": {
      "text/latex": [
       "$\\displaystyle x = d \\operatorname{sin}\\left(\\theta\\right)$"
      ],
      "text/plain": [
       "<IPython.core.display.Math object>"
      ]
     },
     "metadata": {},
     "output_type": "display_data"
    },
    {
     "data": {
      "text/latex": [
       "$\\displaystyle y = - d \\operatorname{cos}\\left(\\theta\\right)$"
      ],
      "text/plain": [
       "<IPython.core.display.Math object>"
      ]
     },
     "metadata": {},
     "output_type": "display_data"
    },
    {
     "data": {
      "text/latex": [
       "$\\displaystyle \\dot{x} = d \\operatorname{cos}\\left(\\theta\\right) \\dot{\\theta}$"
      ],
      "text/plain": [
       "<IPython.core.display.Math object>"
      ]
     },
     "metadata": {},
     "output_type": "display_data"
    },
    {
     "data": {
      "text/latex": [
       "$\\displaystyle \\dot{y} = d \\operatorname{sin}\\left(\\theta\\right) \\dot{\\theta}$"
      ],
      "text/plain": [
       "<IPython.core.display.Math object>"
      ]
     },
     "metadata": {},
     "output_type": "display_data"
    }
   ],
   "source": [
    "x, y = d*sin(𝜃), -d*cos(θ)\n",
    "xd, yd = x.diff(t), y.diff(t)\n",
    "\n",
    "printeq('x', x)\n",
    "printeq('y', y)\n",
    "printeq(r'\\dot{x}', xd)\n",
    "printeq(r'\\dot{y}', yd)"
   ]
  },
  {
   "cell_type": "markdown",
   "metadata": {},
   "source": [
    "Kinetic and potential energies of the simple pendulum under the influence of gravity and the corresponding Lagrangian function:"
   ]
  },
  {
   "cell_type": "code",
   "execution_count": 8,
   "metadata": {
    "ExecuteTime": {
     "end_time": "2020-05-28T04:42:07.621740Z",
     "start_time": "2020-05-28T04:42:07.451750Z"
    }
   },
   "outputs": [
    {
     "data": {
      "text/latex": [
       "$\\displaystyle T = \\frac{d^{2} m \\dot{\\theta}^{2}}{2}$"
      ],
      "text/plain": [
       "<IPython.core.display.Math object>"
      ]
     },
     "metadata": {},
     "output_type": "display_data"
    },
    {
     "data": {
      "text/latex": [
       "$\\displaystyle V = - d g m \\operatorname{cos}\\left(\\theta\\right)$"
      ],
      "text/plain": [
       "<IPython.core.display.Math object>"
      ]
     },
     "metadata": {},
     "output_type": "display_data"
    },
    {
     "data": {
      "text/latex": [
       "$\\displaystyle \\mathcal{L} = \\frac{d m \\left(d \\dot{\\theta}^{2} + 2 g \\operatorname{cos}\\left(\\theta\\right)\\right)}{2}$"
      ],
      "text/plain": [
       "<IPython.core.display.Math object>"
      ]
     },
     "metadata": {},
     "output_type": "display_data"
    }
   ],
   "source": [
    "T = m*(xd**2 + yd**2)/2\n",
    "V = m*g*y\n",
    "\n",
    "printeq('T', T)\n",
    "printeq('V', V)\n",
    "\n",
    "L = T - V\n",
    "\n",
    "printeq(r'\\mathcal{L}', L)"
   ]
  },
  {
   "cell_type": "markdown",
   "metadata": {},
   "source": [
    "And the automated part for the derivatives:"
   ]
  },
  {
   "cell_type": "code",
   "execution_count": 9,
   "metadata": {
    "ExecuteTime": {
     "end_time": "2020-05-28T04:42:07.734539Z",
     "start_time": "2020-05-28T04:42:07.623323Z"
    }
   },
   "outputs": [
    {
     "data": {
      "text/latex": [
       "$\\displaystyle \\text{Terms of the Euler-Lagrange equation:}$"
      ],
      "text/plain": [
       "<IPython.core.display.Math object>"
      ]
     },
     "metadata": {},
     "output_type": "display_data"
    },
    {
     "data": {
      "text/latex": [
       "$\\displaystyle \\text{For generalized coordinate}\\;\\theta:$"
      ],
      "text/plain": [
       "<IPython.core.display.Math object>"
      ]
     },
     "metadata": {},
     "output_type": "display_data"
    },
    {
     "data": {
      "text/latex": [
       "$\\displaystyle \\quad\\dfrac{\\partial\\mathcal{L}}{\\partial \\theta} = - d g m \\operatorname{sin}\\left(\\theta\\right)$"
      ],
      "text/plain": [
       "<IPython.core.display.Math object>"
      ]
     },
     "metadata": {},
     "output_type": "display_data"
    },
    {
     "data": {
      "text/latex": [
       "$\\displaystyle \\quad\\dfrac{\\partial\\mathcal{L}}{\\partial\\dot{\\theta}} = d^{2} m \\dot{\\theta}$"
      ],
      "text/plain": [
       "<IPython.core.display.Math object>"
      ]
     },
     "metadata": {},
     "output_type": "display_data"
    },
    {
     "data": {
      "text/latex": [
       "$\\displaystyle \\quad\\dfrac{\\mathrm d}{\\mathrm{dt}}\\left({\\dfrac{\\partial\\mathcal{L}}{\\partial\\dot{\\theta}}}\\right) = d^{2} m \\ddot{\\theta}$"
      ],
      "text/plain": [
       "<IPython.core.display.Math object>"
      ]
     },
     "metadata": {},
     "output_type": "display_data"
    }
   ],
   "source": [
    "Lterms = lagrange_terms(L, θ)"
   ]
  },
  {
   "cell_type": "markdown",
   "metadata": {
    "ExecuteTime": {
     "end_time": "2020-05-03T21:30:55.708107Z",
     "start_time": "2020-05-03T21:30:55.705029Z"
    }
   },
   "source": [
    "Finally, the EOM is:"
   ]
  },
  {
   "cell_type": "code",
   "execution_count": 10,
   "metadata": {
    "ExecuteTime": {
     "end_time": "2020-05-28T04:42:07.792260Z",
     "start_time": "2020-05-28T04:42:07.735738Z"
    }
   },
   "outputs": [
    {
     "data": {
      "text/latex": [
       "$\\displaystyle \\text{Euler-Lagrange equation (EOM):}$"
      ],
      "text/plain": [
       "<IPython.core.display.Math object>"
      ]
     },
     "metadata": {},
     "output_type": "display_data"
    },
    {
     "data": {
      "text/latex": [
       "$\\displaystyle \\quad d m \\left(d \\ddot{\\theta} + g \\operatorname{sin}\\left(\\theta\\right)\\right) = 0$"
      ],
      "text/plain": [
       "<IPython.core.display.Math object>"
      ]
     },
     "metadata": {},
     "output_type": "display_data"
    }
   ],
   "source": [
    "lagrange_eq(Lterms)"
   ]
  },
  {
   "cell_type": "markdown",
   "metadata": {},
   "source": [
    "And rearranging:"
   ]
  },
  {
   "cell_type": "code",
   "execution_count": 11,
   "metadata": {
    "ExecuteTime": {
     "end_time": "2020-05-28T04:42:07.866337Z",
     "start_time": "2020-05-28T04:42:07.793368Z"
    }
   },
   "outputs": [
    {
     "data": {
      "text/latex": [
       "$\\displaystyle \\text{Euler-Lagrange equation (EOM):}$"
      ],
      "text/plain": [
       "<IPython.core.display.Math object>"
      ]
     },
     "metadata": {},
     "output_type": "display_data"
    },
    {
     "data": {
      "text/latex": [
       "$\\displaystyle \\ddot{\\theta} = - \\frac{g \\operatorname{sin}\\left(\\theta\\right)}{d}$"
      ],
      "text/plain": [
       "    -g⋅sin(θ) \n",
       "θ̈ = ──────────\n",
       "        d     "
      ]
     },
     "metadata": {},
     "output_type": "display_data"
    }
   ],
   "source": [
    "sol = lagrange_eq_solve(Lterms, q=θ, Qnc=None)"
   ]
  },
  {
   "cell_type": "markdown",
   "metadata": {},
   "source": [
    "Same result as before."
   ]
  },
  {
   "cell_type": "markdown",
   "metadata": {},
   "source": [
    "### Example: Double pendulum under the influence of gravity\n",
    "\n",
    "<figure><img src=\"./../images/doublependulum_lagrange.png\" width=\"200\" alt=\"double pendulum\" style=\"float:right;margin: 10px 50px 10px 50px;\"/></figure>\n",
    "\n",
    "Consider a double pendulum (one pendulum attached to another) with massless rods of length $d_1$ and $d_2$ and masses $m_1$ and $m_2$ at the extremities of each rod swinging in a plane forming the angles $\\theta_1$ and $\\theta_2$ with vertical.  \n",
    "The system has two particles with two degrees of freedom; two adequate generalized coordinates to describe the system's configuration are the angles in relation to the vertical ($\\theta_1, \\theta_2$). Let's adopt the origin of the reference frame at the point of the upper pendulum suspension.\n",
    "\n",
    "Let's use Sympy to solve this problem."
   ]
  },
  {
   "cell_type": "code",
   "execution_count": 12,
   "metadata": {
    "ExecuteTime": {
     "end_time": "2020-05-28T04:42:07.870799Z",
     "start_time": "2020-05-28T04:42:07.867669Z"
    }
   },
   "outputs": [],
   "source": [
    "# define variables\n",
    "t = Symbol('t')\n",
    "d1, d2, m1, m2, g = symbols('d1, d2, m1, m2, g', positive=True)\n",
    "θ1, θ2 = dynamicsymbols('theta1, theta2')"
   ]
  },
  {
   "cell_type": "markdown",
   "metadata": {},
   "source": [
    "The positions and velocities of masses $m_1$ and $m_2$ are: "
   ]
  },
  {
   "cell_type": "code",
   "execution_count": 13,
   "metadata": {
    "ExecuteTime": {
     "end_time": "2020-05-28T04:42:08.145012Z",
     "start_time": "2020-05-28T04:42:07.872071Z"
    }
   },
   "outputs": [
    {
     "data": {
      "text/latex": [
       "$\\displaystyle x_1 = d_{1} \\operatorname{sin}\\left(\\theta_{1}\\right)$"
      ],
      "text/plain": [
       "<IPython.core.display.Math object>"
      ]
     },
     "metadata": {},
     "output_type": "display_data"
    },
    {
     "data": {
      "text/latex": [
       "$\\displaystyle y_1 = - d_{1} \\operatorname{cos}\\left(\\theta_{1}\\right)$"
      ],
      "text/plain": [
       "<IPython.core.display.Math object>"
      ]
     },
     "metadata": {},
     "output_type": "display_data"
    },
    {
     "data": {
      "text/latex": [
       "$\\displaystyle x_2 = d_{1} \\operatorname{sin}\\left(\\theta_{1}\\right) + d_{2} \\operatorname{sin}\\left(\\theta_{2}\\right)$"
      ],
      "text/plain": [
       "<IPython.core.display.Math object>"
      ]
     },
     "metadata": {},
     "output_type": "display_data"
    },
    {
     "data": {
      "text/latex": [
       "$\\displaystyle y_2 = - d_{1} \\operatorname{cos}\\left(\\theta_{1}\\right) - d_{2} \\operatorname{cos}\\left(\\theta_{2}\\right)$"
      ],
      "text/plain": [
       "<IPython.core.display.Math object>"
      ]
     },
     "metadata": {},
     "output_type": "display_data"
    },
    {
     "data": {
      "text/latex": [
       "$\\displaystyle \\dot{x}_1 = d_{1} \\operatorname{cos}\\left(\\theta_{1}\\right) \\dot{\\theta}_{1}$"
      ],
      "text/plain": [
       "<IPython.core.display.Math object>"
      ]
     },
     "metadata": {},
     "output_type": "display_data"
    },
    {
     "data": {
      "text/latex": [
       "$\\displaystyle \\dot{y}_1 = d_{1} \\operatorname{sin}\\left(\\theta_{1}\\right) \\dot{\\theta}_{1}$"
      ],
      "text/plain": [
       "<IPython.core.display.Math object>"
      ]
     },
     "metadata": {},
     "output_type": "display_data"
    },
    {
     "data": {
      "text/latex": [
       "$\\displaystyle \\dot{x}_2 = d_{1} \\operatorname{cos}\\left(\\theta_{1}\\right) \\dot{\\theta}_{1} + d_{2} \\operatorname{cos}\\left(\\theta_{2}\\right) \\dot{\\theta}_{2}$"
      ],
      "text/plain": [
       "<IPython.core.display.Math object>"
      ]
     },
     "metadata": {},
     "output_type": "display_data"
    },
    {
     "data": {
      "text/latex": [
       "$\\displaystyle \\dot{y}_2 = d_{1} \\operatorname{sin}\\left(\\theta_{1}\\right) \\dot{\\theta}_{1} + d_{2} \\operatorname{sin}\\left(\\theta_{2}\\right) \\dot{\\theta}_{2}$"
      ],
      "text/plain": [
       "<IPython.core.display.Math object>"
      ]
     },
     "metadata": {},
     "output_type": "display_data"
    }
   ],
   "source": [
    "x1 =  d1*sin(θ1)\n",
    "y1 = -d1*cos(θ1)\n",
    "x2 =  d1*sin(θ1) + d2*sin(θ2)\n",
    "y2 = -d1*cos(θ1) - d2*cos(θ2)\n",
    "x1d, y1d = x1.diff(t), y1.diff(t)\n",
    "x2d, y2d = x2.diff(t), y2.diff(t)\n",
    "\n",
    "printeq(r'x_1', x1)\n",
    "printeq(r'y_1', y1)\n",
    "printeq(r'x_2', x2)\n",
    "printeq(r'y_2', y2)\n",
    "printeq(r'\\dot{x}_1', x1d)\n",
    "printeq(r'\\dot{y}_1', y1d)\n",
    "printeq(r'\\dot{x}_2', x2d)\n",
    "printeq(r'\\dot{y}_2', y2d)"
   ]
  },
  {
   "cell_type": "markdown",
   "metadata": {},
   "source": [
    "The kinetic and potential energies of the system are:"
   ]
  },
  {
   "cell_type": "code",
   "execution_count": 14,
   "metadata": {
    "ExecuteTime": {
     "end_time": "2020-05-28T04:42:09.097724Z",
     "start_time": "2020-05-28T04:42:08.146203Z"
    }
   },
   "outputs": [
    {
     "data": {
      "text/latex": [
       "$\\displaystyle T = \\frac{d_{1}^{2} m_{1} \\dot{\\theta}_{1}^{2}}{2} + \\frac{m_{2} \\left(d_{1}^{2} \\dot{\\theta}_{1}^{2} + 2 d_{1} d_{2} \\operatorname{cos}\\left(\\theta_{1} - \\theta_{2}\\right) \\dot{\\theta}_{1} \\dot{\\theta}_{2} + d_{2}^{2} \\dot{\\theta}_{2}^{2}\\right)}{2}$"
      ],
      "text/plain": [
       "<IPython.core.display.Math object>"
      ]
     },
     "metadata": {},
     "output_type": "display_data"
    },
    {
     "data": {
      "text/latex": [
       "$\\displaystyle V = - g \\left(d_{1} m_{1} \\operatorname{cos}\\left(\\theta_{1}\\right) + d_{1} m_{2} \\operatorname{cos}\\left(\\theta_{1}\\right) + d_{2} m_{2} \\operatorname{cos}\\left(\\theta_{2}\\right)\\right)$"
      ],
      "text/plain": [
       "<IPython.core.display.Math object>"
      ]
     },
     "metadata": {},
     "output_type": "display_data"
    }
   ],
   "source": [
    "T = m1*(x1d**2 + y1d**2)/2 + m2*(x2d**2 + y2d**2)/2\n",
    "V = m1*g*y1 + m2*g*y2\n",
    "\n",
    "printeq(r'T', T)\n",
    "printeq(r'V', V)"
   ]
  },
  {
   "cell_type": "markdown",
   "metadata": {},
   "source": [
    "The Lagrangian function is:"
   ]
  },
  {
   "cell_type": "code",
   "execution_count": 15,
   "metadata": {
    "ExecuteTime": {
     "end_time": "2020-05-28T04:42:09.958090Z",
     "start_time": "2020-05-28T04:42:09.098660Z"
    }
   },
   "outputs": [
    {
     "data": {
      "text/latex": [
       "$\\displaystyle \\mathcal{L} = \\frac{d_{1}^{2} m_{1} \\dot{\\theta}_{1}^{2}}{2} + d_{1} g m_{1} \\operatorname{cos}\\left(\\theta_{1}\\right) + g m_{2} \\left(d_{1} \\operatorname{cos}\\left(\\theta_{1}\\right) + d_{2} \\operatorname{cos}\\left(\\theta_{2}\\right)\\right) + \\frac{m_{2} \\left(d_{1}^{2} \\dot{\\theta}_{1}^{2} + 2 d_{1} d_{2} \\operatorname{cos}\\left(\\theta_{1} - \\theta_{2}\\right) \\dot{\\theta}_{1} \\dot{\\theta}_{2} + d_{2}^{2} \\dot{\\theta}_{2}^{2}\\right)}{2}$"
      ],
      "text/plain": [
       "<IPython.core.display.Math object>"
      ]
     },
     "metadata": {},
     "output_type": "display_data"
    }
   ],
   "source": [
    "L = T - V\n",
    "\n",
    "printeq(r'\\mathcal{L}', L)"
   ]
  },
  {
   "cell_type": "markdown",
   "metadata": {},
   "source": [
    "And the derivatives are:"
   ]
  },
  {
   "cell_type": "code",
   "execution_count": 16,
   "metadata": {
    "ExecuteTime": {
     "end_time": "2020-05-28T04:42:14.201113Z",
     "start_time": "2020-05-28T04:42:09.959120Z"
    }
   },
   "outputs": [
    {
     "data": {
      "text/latex": [
       "$\\displaystyle \\text{Terms of the Euler-Lagrange equations:}$"
      ],
      "text/plain": [
       "<IPython.core.display.Math object>"
      ]
     },
     "metadata": {},
     "output_type": "display_data"
    },
    {
     "data": {
      "text/latex": [
       "$\\displaystyle \\text{For generalized coordinate}\\;\\theta_{1}:$"
      ],
      "text/plain": [
       "<IPython.core.display.Math object>"
      ]
     },
     "metadata": {},
     "output_type": "display_data"
    },
    {
     "data": {
      "text/latex": [
       "$\\displaystyle \\quad\\dfrac{\\partial\\mathcal{L}}{\\partial \\theta_{1}} = - d_{1} \\left(d_{2} m_{2} \\operatorname{sin}\\left(\\theta_{1} - \\theta_{2}\\right) \\dot{\\theta}_{1} \\dot{\\theta}_{2} + g m_{1} \\operatorname{sin}\\left(\\theta_{1}\\right) + g m_{2} \\operatorname{sin}\\left(\\theta_{1}\\right)\\right)$"
      ],
      "text/plain": [
       "<IPython.core.display.Math object>"
      ]
     },
     "metadata": {},
     "output_type": "display_data"
    },
    {
     "data": {
      "text/latex": [
       "$\\displaystyle \\quad\\dfrac{\\partial\\mathcal{L}}{\\partial\\dot{\\theta_{1}}} = d_{1} \\left(d_{1} m_{1} \\dot{\\theta}_{1} + m_{2} \\left(d_{1} \\dot{\\theta}_{1} + d_{2} \\operatorname{cos}\\left(\\theta_{1} - \\theta_{2}\\right) \\dot{\\theta}_{2}\\right)\\right)$"
      ],
      "text/plain": [
       "<IPython.core.display.Math object>"
      ]
     },
     "metadata": {},
     "output_type": "display_data"
    },
    {
     "data": {
      "text/latex": [
       "$\\displaystyle \\quad\\dfrac{\\mathrm d}{\\mathrm{dt}}\\left({\\dfrac{\\partial\\mathcal{L}}{\\partial\\dot{\\theta_{1}}}}\\right) = d_{1} \\left(d_{1} m_{1} \\ddot{\\theta}_{1} + m_{2} \\left(d_{1} \\ddot{\\theta}_{1} - d_{2} \\left(\\dot{\\theta}_{1} - \\dot{\\theta}_{2}\\right) \\operatorname{sin}\\left(\\theta_{1} - \\theta_{2}\\right) \\dot{\\theta}_{2} + d_{2} \\operatorname{cos}\\left(\\theta_{1} - \\theta_{2}\\right) \\ddot{\\theta}_{2}\\right)\\right)$"
      ],
      "text/plain": [
       "<IPython.core.display.Math object>"
      ]
     },
     "metadata": {},
     "output_type": "display_data"
    },
    {
     "data": {
      "text/latex": [
       "$\\displaystyle \\text{For generalized coordinate}\\;\\theta_{2}:$"
      ],
      "text/plain": [
       "<IPython.core.display.Math object>"
      ]
     },
     "metadata": {},
     "output_type": "display_data"
    },
    {
     "data": {
      "text/latex": [
       "$\\displaystyle \\quad\\dfrac{\\partial\\mathcal{L}}{\\partial \\theta_{2}} = d_{2} m_{2} \\left(d_{1} \\operatorname{sin}\\left(\\theta_{1} - \\theta_{2}\\right) \\dot{\\theta}_{1} \\dot{\\theta}_{2} - g \\operatorname{sin}\\left(\\theta_{2}\\right)\\right)$"
      ],
      "text/plain": [
       "<IPython.core.display.Math object>"
      ]
     },
     "metadata": {},
     "output_type": "display_data"
    },
    {
     "data": {
      "text/latex": [
       "$\\displaystyle \\quad\\dfrac{\\partial\\mathcal{L}}{\\partial\\dot{\\theta_{2}}} = d_{2} m_{2} \\left(d_{1} \\operatorname{cos}\\left(\\theta_{1} - \\theta_{2}\\right) \\dot{\\theta}_{1} + d_{2} \\dot{\\theta}_{2}\\right)$"
      ],
      "text/plain": [
       "<IPython.core.display.Math object>"
      ]
     },
     "metadata": {},
     "output_type": "display_data"
    },
    {
     "data": {
      "text/latex": [
       "$\\displaystyle \\quad\\dfrac{\\mathrm d}{\\mathrm{dt}}\\left({\\dfrac{\\partial\\mathcal{L}}{\\partial\\dot{\\theta_{2}}}}\\right) = d_{2} m_{2} \\left(- d_{1} \\left(\\dot{\\theta}_{1} - \\dot{\\theta}_{2}\\right) \\operatorname{sin}\\left(\\theta_{1} - \\theta_{2}\\right) \\dot{\\theta}_{1} + d_{1} \\operatorname{cos}\\left(\\theta_{1} - \\theta_{2}\\right) \\ddot{\\theta}_{1} + d_{2} \\ddot{\\theta}_{2}\\right)$"
      ],
      "text/plain": [
       "<IPython.core.display.Math object>"
      ]
     },
     "metadata": {},
     "output_type": "display_data"
    }
   ],
   "source": [
    "Lterms = lagrange_terms(L, [θ1, θ2])"
   ]
  },
  {
   "cell_type": "markdown",
   "metadata": {},
   "source": [
    "Finally, the EOM are:"
   ]
  },
  {
   "cell_type": "code",
   "execution_count": 17,
   "metadata": {
    "ExecuteTime": {
     "end_time": "2020-05-28T04:42:15.084335Z",
     "start_time": "2020-05-28T04:42:14.202160Z"
    }
   },
   "outputs": [
    {
     "data": {
      "text/latex": [
       "$\\displaystyle \\text{Euler-Lagrange equations (EOM):}$"
      ],
      "text/plain": [
       "<IPython.core.display.Math object>"
      ]
     },
     "metadata": {},
     "output_type": "display_data"
    },
    {
     "data": {
      "text/latex": [
       "$\\displaystyle \\quad d_{1} \\left(d_{1} m_{1} \\ddot{\\theta}_{1} + d_{1} m_{2} \\ddot{\\theta}_{1} + d_{2} m_{2} \\operatorname{sin}\\left(\\theta_{1} - \\theta_{2}\\right) \\dot{\\theta}_{2}^{2} + d_{2} m_{2} \\operatorname{cos}\\left(\\theta_{1} - \\theta_{2}\\right) \\ddot{\\theta}_{2} + g m_{1} \\operatorname{sin}\\left(\\theta_{1}\\right) + g m_{2} \\operatorname{sin}\\left(\\theta_{1}\\right)\\right) = 0$"
      ],
      "text/plain": [
       "<IPython.core.display.Math object>"
      ]
     },
     "metadata": {},
     "output_type": "display_data"
    },
    {
     "data": {
      "text/latex": [
       "$\\displaystyle \\quad d_{2} m_{2} \\left(- d_{1} \\operatorname{sin}\\left(\\theta_{1} - \\theta_{2}\\right) \\dot{\\theta}_{1}^{2} + d_{1} \\operatorname{cos}\\left(\\theta_{1} - \\theta_{2}\\right) \\ddot{\\theta}_{1} + d_{2} \\ddot{\\theta}_{2} + g \\operatorname{sin}\\left(\\theta_{2}\\right)\\right) = 0$"
      ],
      "text/plain": [
       "<IPython.core.display.Math object>"
      ]
     },
     "metadata": {},
     "output_type": "display_data"
    }
   ],
   "source": [
    "lagrange_eq(Lterms)"
   ]
  },
  {
   "cell_type": "markdown",
   "metadata": {},
   "source": [
    "The EOM's are a system with two coupled equations, $\\theta_1$ and $\\theta_2$ appear on both equations.  \n",
    "\n",
    "The motion of a double pendulum is very interesting; most of times it presents a chaotic behavior."
   ]
  },
  {
   "cell_type": "markdown",
   "metadata": {},
   "source": [
    "#### Numerical solution of the equation of motion for the double pendulum\n",
    "\n",
    "The analytical solution in infeasible to deduce. For the numerical solution, first we have to rearrange the equations to find separate expressions for $\\theta_1$ and $\\theta_2$ (solve the system of equations algebraically).  \n",
    "Using Sympy, here are the two expressions:"
   ]
  },
  {
   "cell_type": "code",
   "execution_count": 18,
   "metadata": {
    "ExecuteTime": {
     "end_time": "2020-05-28T04:42:31.282347Z",
     "start_time": "2020-05-28T04:42:15.085301Z"
    }
   },
   "outputs": [
    {
     "data": {
      "text/latex": [
       "$\\displaystyle \\text{Euler-Lagrange equations (EOM):}$"
      ],
      "text/plain": [
       "<IPython.core.display.Math object>"
      ]
     },
     "metadata": {},
     "output_type": "display_data"
    },
    {
     "data": {
      "text/latex": [
       "$\\displaystyle \\ddot{\\theta}_{1} = - \\frac{\\frac{d_{1} m_{2} \\operatorname{sin}\\left(2 \\theta_{1} - 2 \\theta_{2}\\right) \\dot{\\theta}_{1}^{2}}{2} + d_{2} m_{2} \\operatorname{sin}\\left(\\theta_{1} - \\theta_{2}\\right) \\dot{\\theta}_{2}^{2} + g m_{1} \\operatorname{sin}\\left(\\theta_{1}\\right) + \\frac{g m_{2} \\operatorname{sin}\\left(\\theta_{1} - 2 \\theta_{2}\\right)}{2} + \\frac{g m_{2} \\operatorname{sin}\\left(\\theta_{1}\\right)}{2}}{d_{1} \\left(m_{1} - m_{2} \\operatorname{cos}^{2}\\left(\\theta_{1} - \\theta_{2}\\right) + m_{2}\\right)}$"
      ],
      "text/plain": [
       "      ⎛                         2                                             \n",
       "      ⎜d₁⋅m₂⋅sin(2⋅θ₁ - 2⋅θ₂)⋅θ₁̇                         2                  g\n",
       "     -⎜────────────────────────── + d₂⋅m₂⋅sin(θ₁ - θ₂)⋅θ₂̇  + g⋅m₁⋅sin(θ₁) + ─\n",
       "      ⎝            2                                                          \n",
       "θ₁̈ = ────────────────────────────────────────────────────────────────────────\n",
       "                                              ⎛           2              ⎞    \n",
       "                                           d₁⋅⎝m₁ - m₂⋅cos (θ₁ - θ₂) + m₂⎠    \n",
       "\n",
       "                                ⎞ \n",
       "⋅m₂⋅sin(θ₁ - 2⋅θ₂)   g⋅m₂⋅sin(θ₁)⎟ \n",
       "────────────────── + ────────────⎟ \n",
       "       2                 2      ⎠ \n",
       "───────────────────────────────────\n",
       "                                  \n",
       "                                  "
      ]
     },
     "metadata": {},
     "output_type": "display_data"
    },
    {
     "data": {
      "text/latex": [
       "$\\displaystyle \\ddot{\\theta}_{2} = \\frac{2 d_{1} m_{1} \\operatorname{sin}\\left(\\theta_{1} - \\theta_{2}\\right) \\dot{\\theta}_{1}^{2} + 2 d_{1} m_{2} \\operatorname{sin}\\left(\\theta_{1} - \\theta_{2}\\right) \\dot{\\theta}_{1}^{2} + d_{2} m_{2} \\operatorname{sin}\\left(2 \\theta_{1} - 2 \\theta_{2}\\right) \\dot{\\theta}_{2}^{2} + g m_{1} \\operatorname{sin}\\left(2 \\theta_{1} - \\theta_{2}\\right) - g m_{1} \\operatorname{sin}\\left(\\theta_{2}\\right) + g m_{2} \\operatorname{sin}\\left(2 \\theta_{1} - \\theta_{2}\\right) - g m_{2} \\operatorname{sin}\\left(\\theta_{2}\\right)}{2 d_{2} \\left(m_{1} - m_{2} \\operatorname{cos}^{2}\\left(\\theta_{1} - \\theta_{2}\\right) + m_{2}\\right)}$"
      ],
      "text/plain": [
       "                            2                          2                      \n",
       "     2⋅d₁⋅m₁⋅sin(θ₁ - θ₂)⋅θ₁̇  + 2⋅d₁⋅m₂⋅sin(θ₁ - θ₂)⋅θ₁̇  + d₂⋅m₂⋅sin(2⋅θ₁ - \n",
       "θ₂̈ = ────────────────────────────────────────────────────────────────────────\n",
       "                                                                      ⎛       \n",
       "                                                                 2⋅d₂⋅⎝m₁ - m₂\n",
       "\n",
       "      2                                                                       \n",
       "2⋅θ₂)⋅θ₂̇  + g⋅m₁⋅sin(2⋅θ₁ - θ₂) - g⋅m₁⋅sin(θ₂) + g⋅m₂⋅sin(2⋅θ₁ - θ₂) - g⋅m₂⋅s\n",
       "──────────────────────────────────────────────────────────────────────────────\n",
       "    2              ⎞                                                          \n",
       "⋅cos (θ₁ - θ₂) + m₂⎠                                                          \n",
       "\n",
       "   \n",
       "in(θ₂)\n",
       "────\n",
       "   \n",
       "   "
      ]
     },
     "metadata": {},
     "output_type": "display_data"
    }
   ],
   "source": [
    "sol = lagrange_eq_solve(Lterms, q=[θ1, θ2], Qnc=None)"
   ]
  },
  {
   "cell_type": "markdown",
   "metadata": {},
   "source": [
    "In order to solve numerically the ODEs for the double pendulum we have to transform each equation above into two first ODEs. But we should avoid using Euler's method because of the non-negligible error in the numerical integration in this case; more accurate methods such as [Runge-Kutta](https://en.wikipedia.org/wiki/Runge%E2%80%93Kutta_methods) should be employed. See such solution in [https://www.myphysicslab.com/pendulum/double-pendulum-en.html](https://www.myphysicslab.com/pendulum/double-pendulum-en.html).\n",
    "\n",
    "We can use Sympy to transform the symbolic equations into Numpy functions that can be used for the numerical solution. Here is the code for that:"
   ]
  },
  {
   "cell_type": "code",
   "execution_count": 19,
   "metadata": {
    "ExecuteTime": {
     "end_time": "2020-05-28T04:42:31.335393Z",
     "start_time": "2020-05-28T04:42:31.283315Z"
    }
   },
   "outputs": [],
   "source": [
    "θ1dd_fun = sym.lambdify((g, m1, d1, θ1, θ1.diff(t), m2, d2, θ2, θ2.diff(t)), sol.args[0][0], 'numpy')\n",
    "θ2dd_fun = sym.lambdify((g, m1, d1, θ1, θ1.diff(t), m2, d2, θ2, θ2.diff(t)), sol.args[0][1], 'numpy')"
   ]
  },
  {
   "cell_type": "markdown",
   "metadata": {},
   "source": [
    "The reader is invited to write the code for the numerical simulation."
   ]
  },
  {
   "cell_type": "markdown",
   "metadata": {},
   "source": [
    "### Example: Double compound pendulum under the influence of gravity\n",
    "\n",
    "<figure><img src=\"./../images/pendula_lagrange.png\" width=\"200\" alt=\"double pendulum\" style=\"float:right;margin: 10px 50px 10px 50px;\"/></figure>\n",
    "\n",
    "Consider the double compound pendulum (or physical pendulum) shown on the the right with length $d$ and mass $m$ of each rod swinging in a plane forming the angles $\\theta_1$ and $\\theta_2$ with vertical and $g=10 m/s^2$.  \n",
    "The system has two degrees of freedom and we need two generalized coordinates ($\\theta_1, \\theta_2$) to describe the system's configuration.  \n",
    "\n",
    "Let's use the Lagrangian mechanics to derive the equations of motion for each pendulum.  \n",
    "\n",
    "To calculate the potential and kinetic energy of the system, we will need to calculate the position and velocity of each pendulum. Now each pendulum is a rod with distributed mass and we will have to calculate the moment of rotational inertia of the rod. In this case, the kinetic energy of each pendulum will be given as the kinetic energy due to rotation of the pendulum plus the kinetic energy due to the speed of the center of mass of the pendulum, such that the total kinetic energy of the system is:\n",
    "\n",
    "\\begin{equation}\\begin{array}{rcl}\n",
    "T = \\overbrace{\\underbrace{\\,\\frac{1}{2}I_{cm}\\dot\\theta_1^2\\,}_{\\text{rotation}} + \\underbrace{\\frac{1}{2}m(\\dot x_{1,cm}^2 + \\dot y_{1,cm}^2)}_{\\text{translation}}}^{\\text{pendulum 1}} + \\overbrace{\\underbrace{\\,\\frac{1}{2}I_{cm}\\dot\\theta_2^2\\,}_{\\text{rotation}} + \\underbrace{\\frac{1}{2}m(\\dot x_{2,cm}^2 + \\dot y_{2,cm}^2)}_{\\text{translation}}}^{\\text{pendulum 2}}\n",
    "\\end{array}\\end{equation}\n",
    "\n",
    "And the potential energy of the system is:\n",
    "\n",
    "\\begin{equation}\\begin{array}{rcl}\n",
    "V = mg\\big(y_{1,cm} + y_{2,cm}\\big)\n",
    "\\end{array}\\end{equation}\n",
    "\n",
    "Let's use Sympy once again.\n",
    "\n",
    "The position and velocity of the center of mass of the rods $1$ and $2$ are: "
   ]
  },
  {
   "cell_type": "code",
   "execution_count": 20,
   "metadata": {
    "ExecuteTime": {
     "end_time": "2020-05-28T04:42:31.648225Z",
     "start_time": "2020-05-28T04:42:31.336396Z"
    }
   },
   "outputs": [
    {
     "data": {
      "text/latex": [
       "$\\displaystyle x_1 = \\frac{d \\operatorname{sin}\\left(\\theta_{1}\\right)}{2}$"
      ],
      "text/plain": [
       "<IPython.core.display.Math object>"
      ]
     },
     "metadata": {},
     "output_type": "display_data"
    },
    {
     "data": {
      "text/latex": [
       "$\\displaystyle y_1 = - \\frac{d \\operatorname{cos}\\left(\\theta_{1}\\right)}{2}$"
      ],
      "text/plain": [
       "<IPython.core.display.Math object>"
      ]
     },
     "metadata": {},
     "output_type": "display_data"
    },
    {
     "data": {
      "text/latex": [
       "$\\displaystyle x_2 = \\frac{d \\left(2 \\operatorname{sin}\\left(\\theta_{1}\\right) + \\operatorname{sin}\\left(\\theta_{2}\\right)\\right)}{2}$"
      ],
      "text/plain": [
       "<IPython.core.display.Math object>"
      ]
     },
     "metadata": {},
     "output_type": "display_data"
    },
    {
     "data": {
      "text/latex": [
       "$\\displaystyle y_2 = - \\frac{d \\left(2 \\operatorname{cos}\\left(\\theta_{1}\\right) + \\operatorname{cos}\\left(\\theta_{2}\\right)\\right)}{2}$"
      ],
      "text/plain": [
       "<IPython.core.display.Math object>"
      ]
     },
     "metadata": {},
     "output_type": "display_data"
    },
    {
     "data": {
      "text/latex": [
       "$\\displaystyle \\dot{x}_1 = \\frac{d \\operatorname{cos}\\left(\\theta_{1}\\right) \\dot{\\theta}_{1}}{2}$"
      ],
      "text/plain": [
       "<IPython.core.display.Math object>"
      ]
     },
     "metadata": {},
     "output_type": "display_data"
    },
    {
     "data": {
      "text/latex": [
       "$\\displaystyle \\dot{y}_1 = \\frac{d \\operatorname{sin}\\left(\\theta_{1}\\right) \\dot{\\theta}_{1}}{2}$"
      ],
      "text/plain": [
       "<IPython.core.display.Math object>"
      ]
     },
     "metadata": {},
     "output_type": "display_data"
    },
    {
     "data": {
      "text/latex": [
       "$\\displaystyle \\dot{x}_2 = \\frac{d \\left(2 \\operatorname{cos}\\left(\\theta_{1}\\right) \\dot{\\theta}_{1} + \\operatorname{cos}\\left(\\theta_{2}\\right) \\dot{\\theta}_{2}\\right)}{2}$"
      ],
      "text/plain": [
       "<IPython.core.display.Math object>"
      ]
     },
     "metadata": {},
     "output_type": "display_data"
    },
    {
     "data": {
      "text/latex": [
       "$\\displaystyle \\dot{y}_2 = \\frac{d \\left(2 \\operatorname{sin}\\left(\\theta_{1}\\right) \\dot{\\theta}_{1} + \\operatorname{sin}\\left(\\theta_{2}\\right) \\dot{\\theta}_{2}\\right)}{2}$"
      ],
      "text/plain": [
       "<IPython.core.display.Math object>"
      ]
     },
     "metadata": {},
     "output_type": "display_data"
    }
   ],
   "source": [
    "d, m, g = symbols('d, m, g', positive=True)\n",
    "θ1, θ2 = dynamicsymbols('theta1, theta2')\n",
    "I = m*d*d/12  # rotational inertia of a rod\n",
    "\n",
    "x1 =  d*sin(θ1)/2\n",
    "y1 = -d*cos(θ1)/2\n",
    "x2 =  d*sin(θ1) + d*sin(θ2)/2\n",
    "y2 = -d*cos(θ1) - d*cos(θ2)/2\n",
    "x1d, y1d = x1.diff(t), y1.diff(t)\n",
    "x2d, y2d = x2.diff(t), y2.diff(t)\n",
    "\n",
    "printeq(r'x_1', x1); printeq(r'y_1', y1)\n",
    "printeq(r'x_2', x2); printeq(r'y_2', y2)\n",
    "printeq(r'\\dot{x}_1', x1d); printeq(r'\\dot{y}_1', y1d)\n",
    "printeq(r'\\dot{x}_2', x2d); printeq(r'\\dot{y}_2', y2d)"
   ]
  },
  {
   "cell_type": "markdown",
   "metadata": {},
   "source": [
    "The kinetic and potential energies of the system are:"
   ]
  },
  {
   "cell_type": "code",
   "execution_count": 21,
   "metadata": {
    "ExecuteTime": {
     "end_time": "2020-05-28T04:42:32.096020Z",
     "start_time": "2020-05-28T04:42:31.649153Z"
    }
   },
   "outputs": [
    {
     "data": {
      "text/latex": [
       "$\\displaystyle T = \\frac{d^{2} m \\left(3 \\operatorname{cos}\\left(\\theta_{1} - \\theta_{2}\\right) \\dot{\\theta}_{1} \\dot{\\theta}_{2} + 4 \\dot{\\theta}_{1}^{2} + \\dot{\\theta}_{2}^{2}\\right)}{6}$"
      ],
      "text/plain": [
       "<IPython.core.display.Math object>"
      ]
     },
     "metadata": {},
     "output_type": "display_data"
    },
    {
     "data": {
      "text/latex": [
       "$\\displaystyle V = - \\frac{d g m \\left(3 \\operatorname{cos}\\left(\\theta_{1}\\right) + \\operatorname{cos}\\left(\\theta_{2}\\right)\\right)}{2}$"
      ],
      "text/plain": [
       "<IPython.core.display.Math object>"
      ]
     },
     "metadata": {},
     "output_type": "display_data"
    }
   ],
   "source": [
    "T = I/2*(θ1.diff(t))**2 + m/2*(x1d**2+y1d**2) + I/2*(θ2.diff(t))**2 + m/2*(x2d**2+y2d**2)\n",
    "V = m*g*y1 + m*g*y2\n",
    "\n",
    "printeq('T', T)\n",
    "printeq('V', V)"
   ]
  },
  {
   "cell_type": "markdown",
   "metadata": {},
   "source": [
    "The Lagrangian function is:"
   ]
  },
  {
   "cell_type": "code",
   "execution_count": 22,
   "metadata": {
    "ExecuteTime": {
     "end_time": "2020-05-28T04:42:32.655212Z",
     "start_time": "2020-05-28T04:42:32.097031Z"
    }
   },
   "outputs": [
    {
     "data": {
      "text/latex": [
       "$\\displaystyle \\mathcal{L} = \\frac{d m \\left(3 d \\operatorname{cos}\\left(\\theta_{1} - \\theta_{2}\\right) \\dot{\\theta}_{1} \\dot{\\theta}_{2} + 4 d \\dot{\\theta}_{1}^{2} + d \\dot{\\theta}_{2}^{2} + 9 g \\operatorname{cos}\\left(\\theta_{1}\\right) + 3 g \\operatorname{cos}\\left(\\theta_{2}\\right)\\right)}{6}$"
      ],
      "text/plain": [
       "<IPython.core.display.Math object>"
      ]
     },
     "metadata": {},
     "output_type": "display_data"
    }
   ],
   "source": [
    "L = T - V\n",
    "\n",
    "printeq(r'\\mathcal{L}', L)"
   ]
  },
  {
   "cell_type": "markdown",
   "metadata": {},
   "source": [
    "And the derivatives are:"
   ]
  },
  {
   "cell_type": "code",
   "execution_count": 23,
   "metadata": {
    "ExecuteTime": {
     "end_time": "2020-05-28T04:42:35.266590Z",
     "start_time": "2020-05-28T04:42:32.657928Z"
    }
   },
   "outputs": [
    {
     "data": {
      "text/latex": [
       "$\\displaystyle \\text{Terms of the Euler-Lagrange equations:}$"
      ],
      "text/plain": [
       "<IPython.core.display.Math object>"
      ]
     },
     "metadata": {},
     "output_type": "display_data"
    },
    {
     "data": {
      "text/latex": [
       "$\\displaystyle \\text{For generalized coordinate}\\;\\theta_{1}:$"
      ],
      "text/plain": [
       "<IPython.core.display.Math object>"
      ]
     },
     "metadata": {},
     "output_type": "display_data"
    },
    {
     "data": {
      "text/latex": [
       "$\\displaystyle \\quad\\dfrac{\\partial\\mathcal{L}}{\\partial \\theta_{1}} = - \\frac{d m \\left(d \\operatorname{sin}\\left(\\theta_{1} - \\theta_{2}\\right) \\dot{\\theta}_{1} \\dot{\\theta}_{2} + 3 g \\operatorname{sin}\\left(\\theta_{1}\\right)\\right)}{2}$"
      ],
      "text/plain": [
       "<IPython.core.display.Math object>"
      ]
     },
     "metadata": {},
     "output_type": "display_data"
    },
    {
     "data": {
      "text/latex": [
       "$\\displaystyle \\quad\\dfrac{\\partial\\mathcal{L}}{\\partial\\dot{\\theta_{1}}} = \\frac{d^{2} m \\left(3 \\operatorname{cos}\\left(\\theta_{1} - \\theta_{2}\\right) \\dot{\\theta}_{2} + 8 \\dot{\\theta}_{1}\\right)}{6}$"
      ],
      "text/plain": [
       "<IPython.core.display.Math object>"
      ]
     },
     "metadata": {},
     "output_type": "display_data"
    },
    {
     "data": {
      "text/latex": [
       "$\\displaystyle \\quad\\dfrac{\\mathrm d}{\\mathrm{dt}}\\left({\\dfrac{\\partial\\mathcal{L}}{\\partial\\dot{\\theta_{1}}}}\\right) = \\frac{d^{2} m \\left(- 3 \\left(\\dot{\\theta}_{1} - \\dot{\\theta}_{2}\\right) \\operatorname{sin}\\left(\\theta_{1} - \\theta_{2}\\right) \\dot{\\theta}_{2} + 3 \\operatorname{cos}\\left(\\theta_{1} - \\theta_{2}\\right) \\ddot{\\theta}_{2} + 8 \\ddot{\\theta}_{1}\\right)}{6}$"
      ],
      "text/plain": [
       "<IPython.core.display.Math object>"
      ]
     },
     "metadata": {},
     "output_type": "display_data"
    },
    {
     "data": {
      "text/latex": [
       "$\\displaystyle \\text{For generalized coordinate}\\;\\theta_{2}:$"
      ],
      "text/plain": [
       "<IPython.core.display.Math object>"
      ]
     },
     "metadata": {},
     "output_type": "display_data"
    },
    {
     "data": {
      "text/latex": [
       "$\\displaystyle \\quad\\dfrac{\\partial\\mathcal{L}}{\\partial \\theta_{2}} = \\frac{d m \\left(d \\operatorname{sin}\\left(\\theta_{1} - \\theta_{2}\\right) \\dot{\\theta}_{1} \\dot{\\theta}_{2} - g \\operatorname{sin}\\left(\\theta_{2}\\right)\\right)}{2}$"
      ],
      "text/plain": [
       "<IPython.core.display.Math object>"
      ]
     },
     "metadata": {},
     "output_type": "display_data"
    },
    {
     "data": {
      "text/latex": [
       "$\\displaystyle \\quad\\dfrac{\\partial\\mathcal{L}}{\\partial\\dot{\\theta_{2}}} = \\frac{d^{2} m \\left(3 \\operatorname{cos}\\left(\\theta_{1} - \\theta_{2}\\right) \\dot{\\theta}_{1} + 2 \\dot{\\theta}_{2}\\right)}{6}$"
      ],
      "text/plain": [
       "<IPython.core.display.Math object>"
      ]
     },
     "metadata": {},
     "output_type": "display_data"
    },
    {
     "data": {
      "text/latex": [
       "$\\displaystyle \\quad\\dfrac{\\mathrm d}{\\mathrm{dt}}\\left({\\dfrac{\\partial\\mathcal{L}}{\\partial\\dot{\\theta_{2}}}}\\right) = \\frac{d^{2} m \\left(- 3 \\left(\\dot{\\theta}_{1} - \\dot{\\theta}_{2}\\right) \\operatorname{sin}\\left(\\theta_{1} - \\theta_{2}\\right) \\dot{\\theta}_{1} + 3 \\operatorname{cos}\\left(\\theta_{1} - \\theta_{2}\\right) \\ddot{\\theta}_{1} + 2 \\ddot{\\theta}_{2}\\right)}{6}$"
      ],
      "text/plain": [
       "<IPython.core.display.Math object>"
      ]
     },
     "metadata": {},
     "output_type": "display_data"
    }
   ],
   "source": [
    "Lterms = lagrange_terms(L, [θ1, θ2])"
   ]
  },
  {
   "cell_type": "markdown",
   "metadata": {},
   "source": [
    "Finally, the EOM are:"
   ]
  },
  {
   "cell_type": "code",
   "execution_count": 24,
   "metadata": {
    "ExecuteTime": {
     "end_time": "2020-05-28T04:42:36.019520Z",
     "start_time": "2020-05-28T04:42:35.268451Z"
    }
   },
   "outputs": [
    {
     "data": {
      "text/latex": [
       "$\\displaystyle \\text{Euler-Lagrange equations (EOM):}$"
      ],
      "text/plain": [
       "<IPython.core.display.Math object>"
      ]
     },
     "metadata": {},
     "output_type": "display_data"
    },
    {
     "data": {
      "text/latex": [
       "$\\displaystyle \\quad \\frac{d m \\left(3 d \\operatorname{sin}\\left(\\theta_{1} - \\theta_{2}\\right) \\dot{\\theta}_{2}^{2} + 3 d \\operatorname{cos}\\left(\\theta_{1} - \\theta_{2}\\right) \\ddot{\\theta}_{2} + 8 d \\ddot{\\theta}_{1} + 9 g \\operatorname{sin}\\left(\\theta_{1}\\right)\\right)}{6} = 0$"
      ],
      "text/plain": [
       "<IPython.core.display.Math object>"
      ]
     },
     "metadata": {},
     "output_type": "display_data"
    },
    {
     "data": {
      "text/latex": [
       "$\\displaystyle \\quad \\frac{d m \\left(- 3 d \\operatorname{sin}\\left(\\theta_{1} - \\theta_{2}\\right) \\dot{\\theta}_{1}^{2} + 3 d \\operatorname{cos}\\left(\\theta_{1} - \\theta_{2}\\right) \\ddot{\\theta}_{1} + 2 d \\ddot{\\theta}_{2} + 3 g \\operatorname{sin}\\left(\\theta_{2}\\right)\\right)}{6} = 0$"
      ],
      "text/plain": [
       "<IPython.core.display.Math object>"
      ]
     },
     "metadata": {},
     "output_type": "display_data"
    }
   ],
   "source": [
    "lagrange_eq(Lterms)"
   ]
  },
  {
   "cell_type": "markdown",
   "metadata": {},
   "source": [
    "And rearranging:"
   ]
  },
  {
   "cell_type": "code",
   "execution_count": 25,
   "metadata": {
    "ExecuteTime": {
     "end_time": "2020-05-28T04:42:46.934885Z",
     "start_time": "2020-05-28T04:42:36.020703Z"
    }
   },
   "outputs": [
    {
     "data": {
      "text/latex": [
       "$\\displaystyle \\text{Euler-Lagrange equations (EOM):}$"
      ],
      "text/plain": [
       "<IPython.core.display.Math object>"
      ]
     },
     "metadata": {},
     "output_type": "display_data"
    },
    {
     "data": {
      "text/latex": [
       "$\\displaystyle \\ddot{\\theta}_{1} = \\frac{12 d \\operatorname{sin}\\left(\\theta_{1} - \\theta_{2}\\right) \\dot{\\theta}_{2}^{2} + 9 d \\operatorname{sin}\\left(2 \\theta_{1} - 2 \\theta_{2}\\right) \\dot{\\theta}_{1}^{2} + 9 g \\operatorname{sin}\\left(\\theta_{1} - 2 \\theta_{2}\\right) + 27 g \\operatorname{sin}\\left(\\theta_{1}\\right)}{d \\left(9 \\operatorname{cos}\\left(2 \\theta_{1} - 2 \\theta_{2}\\right) - 23\\right)}$"
      ],
      "text/plain": [
       "                         2                          2                         \n",
       "     12⋅d⋅sin(θ₁ - θ₂)⋅θ₂̇  + 9⋅d⋅sin(2⋅θ₁ - 2⋅θ₂)⋅θ₁̇  + 9⋅g⋅sin(θ₁ - 2⋅θ₂) +\n",
       "θ₁̈ = ────────────────────────────────────────────────────────────────────────\n",
       "                                 d⋅(9⋅cos(2⋅θ₁ - 2⋅θ₂) - 23)                  \n",
       "\n",
       "           \n",
       " 27⋅g⋅sin(θ₁)\n",
       "────────────\n",
       "           "
      ]
     },
     "metadata": {},
     "output_type": "display_data"
    },
    {
     "data": {
      "text/latex": [
       "$\\displaystyle \\ddot{\\theta}_{2} = \\frac{- 48 d \\operatorname{sin}\\left(\\theta_{1} - \\theta_{2}\\right) \\dot{\\theta}_{1}^{2} - 9 d \\operatorname{sin}\\left(2 \\theta_{1} - 2 \\theta_{2}\\right) \\dot{\\theta}_{2}^{2} - 27 g \\operatorname{sin}\\left(2 \\theta_{1} - \\theta_{2}\\right) + 21 g \\operatorname{sin}\\left(\\theta_{2}\\right)}{d \\left(9 \\operatorname{cos}\\left(2 \\theta_{1} - 2 \\theta_{2}\\right) - 23\\right)}$"
      ],
      "text/plain": [
       "                           2                          2                       \n",
       "     - 48⋅d⋅sin(θ₁ - θ₂)⋅θ₁̇  - 9⋅d⋅sin(2⋅θ₁ - 2⋅θ₂)⋅θ₂̇  - 27⋅g⋅sin(2⋅θ₁ - θ₂\n",
       "θ₂̈ = ────────────────────────────────────────────────────────────────────────\n",
       "                                   d⋅(9⋅cos(2⋅θ₁ - 2⋅θ₂) - 23)                \n",
       "\n",
       "              \n",
       ") + 21⋅g⋅sin(θ₂)\n",
       "───────────────\n",
       "              "
      ]
     },
     "metadata": {},
     "output_type": "display_data"
    }
   ],
   "source": [
    "sol = lagrange_eq_solve(Lterms, q=[θ1, θ2], Qnc=None);"
   ]
  },
  {
   "cell_type": "markdown",
   "metadata": {},
   "source": [
    "### Example: Double compound pendulum in joint space\n",
    "\n",
    "Let's recalculate the former example but employing generalized coordinates in the joint space: $\\alpha_1=\\theta_1$ and $\\alpha_2=\\theta_2-\\theta_1$."
   ]
  },
  {
   "cell_type": "code",
   "execution_count": 26,
   "metadata": {
    "ExecuteTime": {
     "end_time": "2020-05-28T04:42:47.499296Z",
     "start_time": "2020-05-28T04:42:46.935820Z"
    }
   },
   "outputs": [
    {
     "data": {
      "text/latex": [
       "$\\displaystyle x_1 = \\frac{d \\operatorname{sin}\\left(\\alpha_{1}\\right)}{2}$"
      ],
      "text/plain": [
       "<IPython.core.display.Math object>"
      ]
     },
     "metadata": {},
     "output_type": "display_data"
    },
    {
     "data": {
      "text/latex": [
       "$\\displaystyle y_1 = - \\frac{d \\operatorname{cos}\\left(\\alpha_{1}\\right)}{2}$"
      ],
      "text/plain": [
       "<IPython.core.display.Math object>"
      ]
     },
     "metadata": {},
     "output_type": "display_data"
    },
    {
     "data": {
      "text/latex": [
       "$\\displaystyle x_2 = \\frac{d \\left(\\operatorname{sin}\\left(\\alpha_{1} + \\alpha_{2}\\right) + 2 \\operatorname{sin}\\left(\\alpha_{1}\\right)\\right)}{2}$"
      ],
      "text/plain": [
       "<IPython.core.display.Math object>"
      ]
     },
     "metadata": {},
     "output_type": "display_data"
    },
    {
     "data": {
      "text/latex": [
       "$\\displaystyle y_2 = - \\frac{d \\left(\\operatorname{cos}\\left(\\alpha_{1} + \\alpha_{2}\\right) + 2 \\operatorname{cos}\\left(\\alpha_{1}\\right)\\right)}{2}$"
      ],
      "text/plain": [
       "<IPython.core.display.Math object>"
      ]
     },
     "metadata": {},
     "output_type": "display_data"
    },
    {
     "data": {
      "text/latex": [
       "$\\displaystyle \\dot{x}_1 = \\frac{d \\operatorname{cos}\\left(\\alpha_{1}\\right) \\dot{\\alpha}_{1}}{2}$"
      ],
      "text/plain": [
       "<IPython.core.display.Math object>"
      ]
     },
     "metadata": {},
     "output_type": "display_data"
    },
    {
     "data": {
      "text/latex": [
       "$\\displaystyle \\dot{y}_1 = \\frac{d \\operatorname{sin}\\left(\\alpha_{1}\\right) \\dot{\\alpha}_{1}}{2}$"
      ],
      "text/plain": [
       "<IPython.core.display.Math object>"
      ]
     },
     "metadata": {},
     "output_type": "display_data"
    },
    {
     "data": {
      "text/latex": [
       "$\\displaystyle \\dot{x}_2 = \\frac{d \\left(\\left(\\dot{\\alpha}_{1} + \\dot{\\alpha}_{2}\\right) \\operatorname{cos}\\left(\\alpha_{1} + \\alpha_{2}\\right) + 2 \\operatorname{cos}\\left(\\alpha_{1}\\right) \\dot{\\alpha}_{1}\\right)}{2}$"
      ],
      "text/plain": [
       "<IPython.core.display.Math object>"
      ]
     },
     "metadata": {},
     "output_type": "display_data"
    },
    {
     "data": {
      "text/latex": [
       "$\\displaystyle \\dot{y}_2 = \\frac{d \\left(\\left(\\dot{\\alpha}_{1} + \\dot{\\alpha}_{2}\\right) \\operatorname{sin}\\left(\\alpha_{1} + \\alpha_{2}\\right) + 2 \\operatorname{sin}\\left(\\alpha_{1}\\right) \\dot{\\alpha}_{1}\\right)}{2}$"
      ],
      "text/plain": [
       "<IPython.core.display.Math object>"
      ]
     },
     "metadata": {},
     "output_type": "display_data"
    }
   ],
   "source": [
    "d, m, g = symbols('d, m, g', positive=True)\n",
    "α1, α2 = dynamicsymbols('alpha1, alpha2')\n",
    "I = m*d*d/12  # rotational inertia of a rod\n",
    "\n",
    "x1 =  d*sin(α1)/2\n",
    "y1 = -d*cos(α1)/2\n",
    "x2 =  d*sin(α1) + d*sin(α1+α2)/2\n",
    "y2 = -d*cos(α1) - d*cos(α1+α2)/2\n",
    "x1d, y1d = x1.diff(t), y1.diff(t)\n",
    "x2d, y2d = x2.diff(t), y2.diff(t)\n",
    "\n",
    "printeq(r'x_1', x1); printeq(r'y_1', y1)\n",
    "printeq(r'x_2', x2); printeq(r'y_2', y2)\n",
    "printeq(r'\\dot{x}_1', x1d); printeq(r'\\dot{y}_1', y1d)\n",
    "printeq(r'\\dot{x}_2', x2d); printeq(r'\\dot{y}_2', y2d)"
   ]
  },
  {
   "cell_type": "code",
   "execution_count": 27,
   "metadata": {
    "ExecuteTime": {
     "end_time": "2020-05-28T04:42:49.160912Z",
     "start_time": "2020-05-28T04:42:47.500277Z"
    }
   },
   "outputs": [
    {
     "data": {
      "text/latex": [
       "$\\displaystyle T = \\frac{d^{2} m \\left(3 \\operatorname{cos}\\left(\\alpha_{2}\\right) \\dot{\\alpha}_{1}^{2} + 3 \\operatorname{cos}\\left(\\alpha_{2}\\right) \\dot{\\alpha}_{1} \\dot{\\alpha}_{2} + 5 \\dot{\\alpha}_{1}^{2} + 2 \\dot{\\alpha}_{1} \\dot{\\alpha}_{2} + \\dot{\\alpha}_{2}^{2}\\right)}{6}$"
      ],
      "text/plain": [
       "<IPython.core.display.Math object>"
      ]
     },
     "metadata": {},
     "output_type": "display_data"
    },
    {
     "data": {
      "text/latex": [
       "$\\displaystyle V = - \\frac{d g m \\left(\\operatorname{cos}\\left(\\alpha_{1} + \\alpha_{2}\\right) + 3 \\operatorname{cos}\\left(\\alpha_{1}\\right)\\right)}{2}$"
      ],
      "text/plain": [
       "<IPython.core.display.Math object>"
      ]
     },
     "metadata": {},
     "output_type": "display_data"
    },
    {
     "data": {
      "text/latex": [
       "$\\displaystyle \\mathcal{L} = \\frac{d m \\left(3 d \\operatorname{cos}\\left(\\alpha_{2}\\right) \\dot{\\alpha}_{1}^{2} + 3 d \\operatorname{cos}\\left(\\alpha_{2}\\right) \\dot{\\alpha}_{1} \\dot{\\alpha}_{2} + 5 d \\dot{\\alpha}_{1}^{2} + 2 d \\dot{\\alpha}_{1} \\dot{\\alpha}_{2} + d \\dot{\\alpha}_{2}^{2} + 3 g \\operatorname{cos}\\left(\\alpha_{1} + \\alpha_{2}\\right) + 9 g \\operatorname{cos}\\left(\\alpha_{1}\\right)\\right)}{6}$"
      ],
      "text/plain": [
       "<IPython.core.display.Math object>"
      ]
     },
     "metadata": {},
     "output_type": "display_data"
    }
   ],
   "source": [
    "T = I/2*(α1.diff(t))**2 + m/2*(x1d**2+y1d**2) + I/2*(α1.diff(t)+α2.diff(t))**2 + m/2*(x2d**2+y2d**2)\n",
    "V = m*g*y1 + m*g*y2\n",
    "L = T - V\n",
    "\n",
    "printeq('T', T)\n",
    "printeq('V', V)\n",
    "printeq(r'\\mathcal{L}', L)"
   ]
  },
  {
   "cell_type": "code",
   "execution_count": 28,
   "metadata": {
    "ExecuteTime": {
     "end_time": "2020-05-28T04:42:52.243684Z",
     "start_time": "2020-05-28T04:42:49.162178Z"
    }
   },
   "outputs": [
    {
     "data": {
      "text/latex": [
       "$\\displaystyle \\text{Terms of the Euler-Lagrange equations:}$"
      ],
      "text/plain": [
       "<IPython.core.display.Math object>"
      ]
     },
     "metadata": {},
     "output_type": "display_data"
    },
    {
     "data": {
      "text/latex": [
       "$\\displaystyle \\text{For generalized coordinate}\\;\\alpha_{1}:$"
      ],
      "text/plain": [
       "<IPython.core.display.Math object>"
      ]
     },
     "metadata": {},
     "output_type": "display_data"
    },
    {
     "data": {
      "text/latex": [
       "$\\displaystyle \\quad\\dfrac{\\partial\\mathcal{L}}{\\partial \\alpha_{1}} = - \\frac{d g m \\left(\\operatorname{sin}\\left(\\alpha_{1} + \\alpha_{2}\\right) + 3 \\operatorname{sin}\\left(\\alpha_{1}\\right)\\right)}{2}$"
      ],
      "text/plain": [
       "<IPython.core.display.Math object>"
      ]
     },
     "metadata": {},
     "output_type": "display_data"
    },
    {
     "data": {
      "text/latex": [
       "$\\displaystyle \\quad\\dfrac{\\partial\\mathcal{L}}{\\partial\\dot{\\alpha_{1}}} = \\frac{d^{2} m \\left(6 \\operatorname{cos}\\left(\\alpha_{2}\\right) \\dot{\\alpha}_{1} + 3 \\operatorname{cos}\\left(\\alpha_{2}\\right) \\dot{\\alpha}_{2} + 10 \\dot{\\alpha}_{1} + 2 \\dot{\\alpha}_{2}\\right)}{6}$"
      ],
      "text/plain": [
       "<IPython.core.display.Math object>"
      ]
     },
     "metadata": {},
     "output_type": "display_data"
    },
    {
     "data": {
      "text/latex": [
       "$\\displaystyle \\quad\\dfrac{\\mathrm d}{\\mathrm{dt}}\\left({\\dfrac{\\partial\\mathcal{L}}{\\partial\\dot{\\alpha_{1}}}}\\right) = \\frac{d^{2} m \\left(- 6 \\operatorname{sin}\\left(\\alpha_{2}\\right) \\dot{\\alpha}_{1} \\dot{\\alpha}_{2} - 3 \\operatorname{sin}\\left(\\alpha_{2}\\right) \\dot{\\alpha}_{2}^{2} + 6 \\operatorname{cos}\\left(\\alpha_{2}\\right) \\ddot{\\alpha}_{1} + 3 \\operatorname{cos}\\left(\\alpha_{2}\\right) \\ddot{\\alpha}_{2} + 10 \\ddot{\\alpha}_{1} + 2 \\ddot{\\alpha}_{2}\\right)}{6}$"
      ],
      "text/plain": [
       "<IPython.core.display.Math object>"
      ]
     },
     "metadata": {},
     "output_type": "display_data"
    },
    {
     "data": {
      "text/latex": [
       "$\\displaystyle \\text{For generalized coordinate}\\;\\alpha_{2}:$"
      ],
      "text/plain": [
       "<IPython.core.display.Math object>"
      ]
     },
     "metadata": {},
     "output_type": "display_data"
    },
    {
     "data": {
      "text/latex": [
       "$\\displaystyle \\quad\\dfrac{\\partial\\mathcal{L}}{\\partial \\alpha_{2}} = - \\frac{d m \\left(d \\left(\\dot{\\alpha}_{1} + \\dot{\\alpha}_{2}\\right) \\operatorname{sin}\\left(\\alpha_{2}\\right) \\dot{\\alpha}_{1} + g \\operatorname{sin}\\left(\\alpha_{1} + \\alpha_{2}\\right)\\right)}{2}$"
      ],
      "text/plain": [
       "<IPython.core.display.Math object>"
      ]
     },
     "metadata": {},
     "output_type": "display_data"
    },
    {
     "data": {
      "text/latex": [
       "$\\displaystyle \\quad\\dfrac{\\partial\\mathcal{L}}{\\partial\\dot{\\alpha_{2}}} = \\frac{d^{2} m \\left(3 \\operatorname{cos}\\left(\\alpha_{2}\\right) \\dot{\\alpha}_{1} + 2 \\dot{\\alpha}_{1} + 2 \\dot{\\alpha}_{2}\\right)}{6}$"
      ],
      "text/plain": [
       "<IPython.core.display.Math object>"
      ]
     },
     "metadata": {},
     "output_type": "display_data"
    },
    {
     "data": {
      "text/latex": [
       "$\\displaystyle \\quad\\dfrac{\\mathrm d}{\\mathrm{dt}}\\left({\\dfrac{\\partial\\mathcal{L}}{\\partial\\dot{\\alpha_{2}}}}\\right) = \\frac{d^{2} m \\left(- 3 \\operatorname{sin}\\left(\\alpha_{2}\\right) \\dot{\\alpha}_{1} \\dot{\\alpha}_{2} + 3 \\operatorname{cos}\\left(\\alpha_{2}\\right) \\ddot{\\alpha}_{1} + 2 \\ddot{\\alpha}_{1} + 2 \\ddot{\\alpha}_{2}\\right)}{6}$"
      ],
      "text/plain": [
       "<IPython.core.display.Math object>"
      ]
     },
     "metadata": {},
     "output_type": "display_data"
    }
   ],
   "source": [
    "Lterms = lagrange_terms(L, [α1, α2])"
   ]
  },
  {
   "cell_type": "code",
   "execution_count": 29,
   "metadata": {
    "ExecuteTime": {
     "end_time": "2020-05-28T04:42:53.274858Z",
     "start_time": "2020-05-28T04:42:52.244641Z"
    }
   },
   "outputs": [
    {
     "data": {
      "text/latex": [
       "$\\displaystyle \\text{Euler-Lagrange equations (EOM):}$"
      ],
      "text/plain": [
       "<IPython.core.display.Math object>"
      ]
     },
     "metadata": {},
     "output_type": "display_data"
    },
    {
     "data": {
      "text/latex": [
       "$\\displaystyle \\quad \\frac{d m \\left(d \\left(- 6 \\operatorname{sin}\\left(\\alpha_{2}\\right) \\dot{\\alpha}_{1} \\dot{\\alpha}_{2} - 3 \\operatorname{sin}\\left(\\alpha_{2}\\right) \\dot{\\alpha}_{2}^{2} + 6 \\operatorname{cos}\\left(\\alpha_{2}\\right) \\ddot{\\alpha}_{1} + 3 \\operatorname{cos}\\left(\\alpha_{2}\\right) \\ddot{\\alpha}_{2} + 10 \\ddot{\\alpha}_{1} + 2 \\ddot{\\alpha}_{2}\\right) + 3 g \\left(\\operatorname{sin}\\left(\\alpha_{1} + \\alpha_{2}\\right) + 3 \\operatorname{sin}\\left(\\alpha_{1}\\right)\\right)\\right)}{6} = 0$"
      ],
      "text/plain": [
       "<IPython.core.display.Math object>"
      ]
     },
     "metadata": {},
     "output_type": "display_data"
    },
    {
     "data": {
      "text/latex": [
       "$\\displaystyle \\quad \\frac{d m \\left(3 d \\operatorname{sin}\\left(\\alpha_{2}\\right) \\dot{\\alpha}_{1}^{2} + 3 d \\operatorname{cos}\\left(\\alpha_{2}\\right) \\ddot{\\alpha}_{1} + 2 d \\ddot{\\alpha}_{1} + 2 d \\ddot{\\alpha}_{2} + 3 g \\operatorname{sin}\\left(\\alpha_{1} + \\alpha_{2}\\right)\\right)}{6} = 0$"
      ],
      "text/plain": [
       "<IPython.core.display.Math object>"
      ]
     },
     "metadata": {},
     "output_type": "display_data"
    }
   ],
   "source": [
    "lagrange_eq(Lterms)"
   ]
  },
  {
   "cell_type": "code",
   "execution_count": 30,
   "metadata": {
    "ExecuteTime": {
     "end_time": "2020-05-28T04:43:04.297629Z",
     "start_time": "2020-05-28T04:42:53.275773Z"
    }
   },
   "outputs": [
    {
     "data": {
      "text/latex": [
       "$\\displaystyle \\text{Euler-Lagrange equations (EOM):}$"
      ],
      "text/plain": [
       "<IPython.core.display.Math object>"
      ]
     },
     "metadata": {},
     "output_type": "display_data"
    },
    {
     "data": {
      "text/latex": [
       "$\\displaystyle \\ddot{\\alpha}_{1} = \\frac{3 \\left(- 4 d \\operatorname{sin}\\left(\\alpha_{2}\\right) \\dot{\\alpha}_{1}^{2} - 8 d \\operatorname{sin}\\left(\\alpha_{2}\\right) \\dot{\\alpha}_{1} \\dot{\\alpha}_{2} - 4 d \\operatorname{sin}\\left(\\alpha_{2}\\right) \\dot{\\alpha}_{2}^{2} - 3 d \\operatorname{sin}\\left(2 \\alpha_{2}\\right) \\dot{\\alpha}_{1}^{2} - 3 g \\operatorname{sin}\\left(\\alpha_{1} + 2 \\alpha_{2}\\right) + 9 g \\operatorname{sin}\\left(\\alpha_{1}\\right)\\right)}{d \\left(9 \\operatorname{cos}\\left(2 \\alpha_{2}\\right) - 23\\right)}$"
      ],
      "text/plain": [
       "       ⎛                2                                     2               \n",
       "     3⋅⎝- 4⋅d⋅sin(α₂)⋅α₁̇  - 8⋅d⋅sin(α₂)⋅α₁̇⋅α₂̇ - 4⋅d⋅sin(α₂)⋅α₂̇  - 3⋅d⋅sin(\n",
       "α₁̈ = ────────────────────────────────────────────────────────────────────────\n",
       "                                                    d⋅(9⋅cos(2⋅α₂) - 23)      \n",
       "\n",
       "    2                                   ⎞\n",
       "2⋅α₂)⋅α₁̇  - 3⋅g⋅sin(α₁ + 2⋅α₂) + 9⋅g⋅sin(α₁)⎠\n",
       "──────────────────────────────────────────\n",
       "                                         "
      ]
     },
     "metadata": {},
     "output_type": "display_data"
    },
    {
     "data": {
      "text/latex": [
       "$\\displaystyle \\ddot{\\alpha}_{2} = \\frac{3 \\left(20 d \\operatorname{sin}\\left(\\alpha_{2}\\right) \\dot{\\alpha}_{1}^{2} + 8 d \\operatorname{sin}\\left(\\alpha_{2}\\right) \\dot{\\alpha}_{1} \\dot{\\alpha}_{2} + 4 d \\operatorname{sin}\\left(\\alpha_{2}\\right) \\dot{\\alpha}_{2}^{2} + 6 d \\operatorname{sin}\\left(2 \\alpha_{2}\\right) \\dot{\\alpha}_{1}^{2} + 6 d \\operatorname{sin}\\left(2 \\alpha_{2}\\right) \\dot{\\alpha}_{1} \\dot{\\alpha}_{2} + 3 d \\operatorname{sin}\\left(2 \\alpha_{2}\\right) \\dot{\\alpha}_{2}^{2} - 9 g \\operatorname{sin}\\left(\\alpha_{1} - \\alpha_{2}\\right) + 7 g \\operatorname{sin}\\left(\\alpha_{1} + \\alpha_{2}\\right) + 3 g \\operatorname{sin}\\left(\\alpha_{1} + 2 \\alpha_{2}\\right) - 9 g \\operatorname{sin}\\left(\\alpha_{1}\\right)\\right)}{d \\left(9 \\operatorname{cos}\\left(2 \\alpha_{2}\\right) - 23\\right)}$"
      ],
      "text/plain": [
       "       ⎛               2                                     2                \n",
       "     3⋅⎝20⋅d⋅sin(α₂)⋅α₁̇  + 8⋅d⋅sin(α₂)⋅α₁̇⋅α₂̇ + 4⋅d⋅sin(α₂)⋅α₂̇  + 6⋅d⋅sin(2\n",
       "α₂̈ = ────────────────────────────────────────────────────────────────────────\n",
       "                                                                              \n",
       "\n",
       "   2                                         2                                \n",
       "⋅α₂)⋅α₁̇  + 6⋅d⋅sin(2⋅α₂)⋅α₁̇⋅α₂̇ + 3⋅d⋅sin(2⋅α₂)⋅α₂̇  - 9⋅g⋅sin(α₁ - α₂) + 7⋅\n",
       "──────────────────────────────────────────────────────────────────────────────\n",
       "              d⋅(9⋅cos(2⋅α₂) - 23)                                            \n",
       "\n",
       "                                         ⎞\n",
       "g⋅sin(α₁ + α₂) + 3⋅g⋅sin(α₁ + 2⋅α₂) - 9⋅g⋅sin(α₁)⎠\n",
       "───────────────────────────────────────────\n",
       "                                          "
      ]
     },
     "metadata": {},
     "output_type": "display_data"
    }
   ],
   "source": [
    "sol = lagrange_eq_solve(Lterms, q=[α1, α2], Qnc=None)"
   ]
  },
  {
   "cell_type": "markdown",
   "metadata": {},
   "source": [
    "**Forces on the pendulum**\n",
    "\n",
    "We can see that besides the terms proportional to gravity $g$, there are three types of forces in the equations, two of these forces we already saw in the solution of the double pendulum employing generalized coordinates in the segment space: forces proportional to angular velocity squared $\\dot{\\theta}_i^2$ (now proportional to $\\dot{\\alpha}_i^2$) and forces proportional to the angular acceleration $\\ddot{\\theta}_i$ (now proportional to $\\ddot{\\alpha}_i$). These are the centripetal forces and tangential forces.  \n",
    "A new type of force appeared explicitly in the equations when we employed generalized coordinates in the joint space: forces proportional to the product of the two angular velocities in joint space $\\dot{\\alpha}_1\\dot{\\alpha}_2$. These are the force of Coriolis."
   ]
  },
  {
   "cell_type": "markdown",
   "metadata": {},
   "source": [
    "### Example: Mass attached to a spring on a horizontal plane\n",
    "\n",
    "<figure><img src=\"./../images/ruina_prob13_1_7.png\" width=\"300\" alt=\"mass-spring on a table\" style=\"float:right;margin: 0px 0px 0px 5px;\"/></figure>\n",
    "\n",
    "Let's solve the exercise 13.1.7 of Ruina and Pratap (2019):  \n",
    "\"Two ice skaters whirl around one another. They are connected by a linear elastic cord whose center is stationary in space. We wish to consider the motion of one of the skaters by modeling her as a mass m held by a cord that exerts k Newtons for each meter it is extended from the central position.  \n",
    "a) Draw a free-body diagram showing the forces that act on the mass is at an arbitrary position.  \n",
    "b) Write the differential equations that describe the motion.\"\n",
    "\n",
    "Let's solve item b using Lagrangian mechanics.\n",
    "\n",
    "To calculate the potential and kinetic energy of the system, we will need to calculate the position and velocity of the mass. It's convenient to use as generalized coordinates, the radial position $r$ and the angle $\\theta$.\n",
    "\n",
    "Using Sympy, declaring our parameters and coordinates:"
   ]
  },
  {
   "cell_type": "code",
   "execution_count": 31,
   "metadata": {
    "ExecuteTime": {
     "end_time": "2020-05-28T04:43:04.300975Z",
     "start_time": "2020-05-28T04:43:04.298616Z"
    }
   },
   "outputs": [],
   "source": [
    "t = Symbol('t')\n",
    "m, k = symbols('m, k', positive=True)\n",
    "r, θ = dynamicsymbols('r, theta')"
   ]
  },
  {
   "cell_type": "markdown",
   "metadata": {
    "ExecuteTime": {
     "end_time": "2020-05-26T01:49:52.460918Z",
     "start_time": "2020-05-26T01:49:52.456473Z"
    }
   },
   "source": [
    "The position and velocity of the skater are:"
   ]
  },
  {
   "cell_type": "code",
   "execution_count": 32,
   "metadata": {
    "ExecuteTime": {
     "end_time": "2020-05-28T04:43:04.457602Z",
     "start_time": "2020-05-28T04:43:04.301937Z"
    }
   },
   "outputs": [
    {
     "data": {
      "text/latex": [
       "$\\displaystyle x = r \\operatorname{cos}\\left(\\theta\\right)$"
      ],
      "text/plain": [
       "<IPython.core.display.Math object>"
      ]
     },
     "metadata": {},
     "output_type": "display_data"
    },
    {
     "data": {
      "text/latex": [
       "$\\displaystyle y = r \\operatorname{sin}\\left(\\theta\\right)$"
      ],
      "text/plain": [
       "<IPython.core.display.Math object>"
      ]
     },
     "metadata": {},
     "output_type": "display_data"
    },
    {
     "data": {
      "text/latex": [
       "$\\displaystyle \\dot{x} = - r \\operatorname{sin}\\left(\\theta\\right) \\dot{\\theta} + \\operatorname{cos}\\left(\\theta\\right) \\dot{r}$"
      ],
      "text/plain": [
       "<IPython.core.display.Math object>"
      ]
     },
     "metadata": {},
     "output_type": "display_data"
    },
    {
     "data": {
      "text/latex": [
       "$\\displaystyle \\dot{y} = r \\operatorname{cos}\\left(\\theta\\right) \\dot{\\theta} + \\operatorname{sin}\\left(\\theta\\right) \\dot{r}$"
      ],
      "text/plain": [
       "<IPython.core.display.Math object>"
      ]
     },
     "metadata": {},
     "output_type": "display_data"
    }
   ],
   "source": [
    "x, y = r*cos(θ), r*sin(θ)\n",
    "xd, yd = x.diff(t), y.diff(t)\n",
    "\n",
    "printeq(r'x', x)\n",
    "printeq(r'y', y)\n",
    "printeq(r'\\dot{x}', xd)\n",
    "printeq(r'\\dot{y}', yd)"
   ]
  },
  {
   "cell_type": "markdown",
   "metadata": {},
   "source": [
    "So, the kinetic and potential energies of the skater are:"
   ]
  },
  {
   "cell_type": "code",
   "execution_count": 33,
   "metadata": {
    "ExecuteTime": {
     "end_time": "2020-05-28T04:43:04.658541Z",
     "start_time": "2020-05-28T04:43:04.458598Z"
    }
   },
   "outputs": [
    {
     "data": {
      "text/latex": [
       "$\\displaystyle T=\\frac{m \\left(\\left(- r \\operatorname{sin}\\left(\\theta\\right) \\dot{\\theta} + \\operatorname{cos}\\left(\\theta\\right) \\dot{r}\\right)^{2} + \\left(r \\operatorname{cos}\\left(\\theta\\right) \\dot{\\theta} + \\operatorname{sin}\\left(\\theta\\right) \\dot{r}\\right)^{2}\\right)}{2}$"
      ],
      "text/plain": [
       "<IPython.core.display.Math object>"
      ]
     },
     "metadata": {},
     "output_type": "display_data"
    },
    {
     "data": {
      "text/latex": [
       "$\\displaystyle V=\\frac{k r^{2}}{2}$"
      ],
      "text/plain": [
       "<IPython.core.display.Math object>"
      ]
     },
     "metadata": {},
     "output_type": "display_data"
    },
    {
     "data": {
      "text/latex": [
       "$\\displaystyle T = \\frac{m \\left(r^{2} \\dot{\\theta}^{2} + \\dot{r}^{2}\\right)}{2}$"
      ],
      "text/plain": [
       "<IPython.core.display.Math object>"
      ]
     },
     "metadata": {},
     "output_type": "display_data"
    },
    {
     "data": {
      "text/latex": [
       "$\\displaystyle V = \\frac{k r^{2}}{2}$"
      ],
      "text/plain": [
       "<IPython.core.display.Math object>"
      ]
     },
     "metadata": {},
     "output_type": "display_data"
    }
   ],
   "source": [
    "T = m*(xd**2 + yd**2)/2\n",
    "V = (k*r**2)/2\n",
    "\n",
    "display(Math('T=' + mlatex(T)))\n",
    "display(Math('V=' + mlatex(V)))\n",
    "\n",
    "printeq('T', T)\n",
    "printeq('V', V)"
   ]
  },
  {
   "cell_type": "markdown",
   "metadata": {},
   "source": [
    "Where we considered the equilibrium length of the spring as zero.\n",
    "\n",
    "The Lagrangian function is:"
   ]
  },
  {
   "cell_type": "code",
   "execution_count": 34,
   "metadata": {
    "ExecuteTime": {
     "end_time": "2020-05-28T04:43:04.841614Z",
     "start_time": "2020-05-28T04:43:04.659501Z"
    }
   },
   "outputs": [
    {
     "data": {
      "text/latex": [
       "$\\displaystyle \\mathcal{L} = - \\frac{k r^{2}}{2} + \\frac{m \\left(r^{2} \\dot{\\theta}^{2} + \\dot{r}^{2}\\right)}{2}$"
      ],
      "text/plain": [
       "<IPython.core.display.Math object>"
      ]
     },
     "metadata": {},
     "output_type": "display_data"
    }
   ],
   "source": [
    "L = T - V\n",
    "\n",
    "printeq(r'\\mathcal{L}', L)"
   ]
  },
  {
   "cell_type": "markdown",
   "metadata": {},
   "source": [
    "And the derivatives are:"
   ]
  },
  {
   "cell_type": "code",
   "execution_count": 35,
   "metadata": {
    "ExecuteTime": {
     "end_time": "2020-05-28T04:43:05.249702Z",
     "start_time": "2020-05-28T04:43:04.842575Z"
    }
   },
   "outputs": [
    {
     "data": {
      "text/latex": [
       "$\\displaystyle \\text{Terms of the Euler-Lagrange equations:}$"
      ],
      "text/plain": [
       "<IPython.core.display.Math object>"
      ]
     },
     "metadata": {},
     "output_type": "display_data"
    },
    {
     "data": {
      "text/latex": [
       "$\\displaystyle \\text{For generalized coordinate}\\;r:$"
      ],
      "text/plain": [
       "<IPython.core.display.Math object>"
      ]
     },
     "metadata": {},
     "output_type": "display_data"
    },
    {
     "data": {
      "text/latex": [
       "$\\displaystyle \\quad\\dfrac{\\partial\\mathcal{L}}{\\partial r} = \\left(- k + m \\dot{\\theta}^{2}\\right) r$"
      ],
      "text/plain": [
       "<IPython.core.display.Math object>"
      ]
     },
     "metadata": {},
     "output_type": "display_data"
    },
    {
     "data": {
      "text/latex": [
       "$\\displaystyle \\quad\\dfrac{\\partial\\mathcal{L}}{\\partial\\dot{r}} = m \\dot{r}$"
      ],
      "text/plain": [
       "<IPython.core.display.Math object>"
      ]
     },
     "metadata": {},
     "output_type": "display_data"
    },
    {
     "data": {
      "text/latex": [
       "$\\displaystyle \\quad\\dfrac{\\mathrm d}{\\mathrm{dt}}\\left({\\dfrac{\\partial\\mathcal{L}}{\\partial\\dot{r}}}\\right) = m \\ddot{r}$"
      ],
      "text/plain": [
       "<IPython.core.display.Math object>"
      ]
     },
     "metadata": {},
     "output_type": "display_data"
    },
    {
     "data": {
      "text/latex": [
       "$\\displaystyle \\text{For generalized coordinate}\\;\\theta:$"
      ],
      "text/plain": [
       "<IPython.core.display.Math object>"
      ]
     },
     "metadata": {},
     "output_type": "display_data"
    },
    {
     "data": {
      "text/latex": [
       "$\\displaystyle \\quad\\dfrac{\\partial\\mathcal{L}}{\\partial \\theta} = 0$"
      ],
      "text/plain": [
       "<IPython.core.display.Math object>"
      ]
     },
     "metadata": {},
     "output_type": "display_data"
    },
    {
     "data": {
      "text/latex": [
       "$\\displaystyle \\quad\\dfrac{\\partial\\mathcal{L}}{\\partial\\dot{\\theta}} = m r^{2} \\dot{\\theta}$"
      ],
      "text/plain": [
       "<IPython.core.display.Math object>"
      ]
     },
     "metadata": {},
     "output_type": "display_data"
    },
    {
     "data": {
      "text/latex": [
       "$\\displaystyle \\quad\\dfrac{\\mathrm d}{\\mathrm{dt}}\\left({\\dfrac{\\partial\\mathcal{L}}{\\partial\\dot{\\theta}}}\\right) = m \\left(r \\ddot{\\theta} + 2 \\dot{r} \\dot{\\theta}\\right) r$"
      ],
      "text/plain": [
       "<IPython.core.display.Math object>"
      ]
     },
     "metadata": {},
     "output_type": "display_data"
    }
   ],
   "source": [
    "Lterms = lagrange_terms(L, [r, θ])"
   ]
  },
  {
   "cell_type": "markdown",
   "metadata": {
    "ExecuteTime": {
     "end_time": "2020-05-26T01:50:59.509920Z",
     "start_time": "2020-05-26T01:50:59.505181Z"
    }
   },
   "source": [
    "Finally, the EOM are:"
   ]
  },
  {
   "cell_type": "code",
   "execution_count": 36,
   "metadata": {
    "ExecuteTime": {
     "end_time": "2020-05-28T04:43:05.301767Z",
     "start_time": "2020-05-28T04:43:05.251532Z"
    }
   },
   "outputs": [
    {
     "data": {
      "text/latex": [
       "$\\displaystyle \\text{Euler-Lagrange equations (EOM):}$"
      ],
      "text/plain": [
       "<IPython.core.display.Math object>"
      ]
     },
     "metadata": {},
     "output_type": "display_data"
    },
    {
     "data": {
      "text/latex": [
       "$\\displaystyle \\quad m \\ddot{r} + \\left(k - m \\dot{\\theta}^{2}\\right) r = 0$"
      ],
      "text/plain": [
       "<IPython.core.display.Math object>"
      ]
     },
     "metadata": {},
     "output_type": "display_data"
    },
    {
     "data": {
      "text/latex": [
       "$\\displaystyle \\quad m \\left(r \\ddot{\\theta} + 2 \\dot{r} \\dot{\\theta}\\right) r = 0$"
      ],
      "text/plain": [
       "<IPython.core.display.Math object>"
      ]
     },
     "metadata": {},
     "output_type": "display_data"
    }
   ],
   "source": [
    "lagrange_eq(Lterms)"
   ]
  },
  {
   "cell_type": "markdown",
   "metadata": {},
   "source": [
    "In Ruina and Pratap's book they give as solution the equation: $2r\\dot{r}\\dot{\\theta} + r^3\\ddot{\\theta}=0$, but  using dimensional analysis we can check the book's solution is not correct."
   ]
  },
  {
   "cell_type": "markdown",
   "metadata": {},
   "source": [
    "## Generalized forces\n",
    "\n",
    "How non-conservative forces (and moment of forces) are treated in the Lagrangian Mechanics is different than in Newtonian mechanics.  \n",
    "Newtonian mechanics consider the forces (and moment of forces) acting on each body (via FBD) and write down the equations of motion for each body/coordinate.  \n",
    "In Lagrangian Mechanics, we consider the forces (and moment of forces) acting on each generalized coordinate. For such, the effects of the non-conservative forces have to be calculated in the direction of each generalized coordinate, these will be the generalized forces.  \n",
    "\n",
    "A robust approach to determine the generalized forces on each generalized coordinate is to compute the work done by the forces to produce a small variation of the system on the direction of the generalized coordinate.  \n",
    "\n",
    "<figure><img src=\"./../images/pendulumforce.png\" width=\"250\" alt=\"pendulum\" style=\"float:right;margin: 5px 20px 5px 5px;\"/></figure>\n",
    "\n",
    "For example, consider a pendulum with a massless rod of length $d$ and a mass $m$ at the extremity swinging in a plane forming the angle $\\theta$ with the vertical.   \n",
    "An external force acts on the tip of the pendulum at the horizontal direction.  \n",
    "The pendulum cord is inextensible and the tip of the pendulum can only move along the arc of a circumference with radius $d$.  \n",
    "\n",
    "The work done by this force to produce a small variation $\\delta \\theta$ is:\n",
    "<p>\n",
    "<span class=\"notranslate\">\n",
    "\\begin{equation}\\begin{array}{l}\n",
    "\\delta W_{NC} = \\vec{F} \\cdot \\delta \\vec{r} \\\\\n",
    "\\delta W_{NC} = F d \\cos(\\theta) \\delta \\theta \n",
    "\\end{array}\n",
    "\\label{}\n",
    "\\end{equation}\n",
    "</span>\n",
    "       \n",
    "Note that the work done by definition was expressed in Cartesian coordinates as the scalar product between vectors $\\vec F$ and $\\delta \\vec{r}$ and after the scalar product was evaluated we end up with the work done expressed in terms of the generalized coordinate. This is somewhat similar to the calculation of kinetic and potential energy, these quantities are typically expressed first in terms of Cartesian coordinates, which in turn are expressed in terms of the generalized coordinates, so we end up with only generalized coordinates.  \n",
    "    \n",
    "We now reexpress the work as the product of the corresponding generalized force $Q_{NC}$ and the generalized coordinate:\n",
    "<p>\n",
    "<span class=\"notranslate\">\n",
    "\\begin{equation}\n",
    "\\delta W_{NC} = Q_{NC} \\delta \\theta\n",
    "\\label{}\n",
    "\\end{equation}\n",
    "</span>\n",
    "\n",
    "And comparing the last two equations, the generalized force is:\n",
    "<p>\n",
    "<span class=\"notranslate\">\n",
    "\\begin{equation}\n",
    "Q_{NC} = F d \\cos(\\theta)\n",
    "\\label{}\n",
    "\\end{equation}\n",
    "</span>\n",
    "\n",
    "For a system with $N$ generalized coordinates and $n$ non-conservative forces, to determine the generalized force at each generalized coordinate, we would compute the work as the sum of the works done by each force at each small variation:\n",
    "<p>\n",
    "<span class=\"notranslate\">\n",
    "\\begin{equation}\n",
    "\\delta W_{NC} = \\sum\\limits_{j=1}^n F_{j} \\cdot \\delta x_j(\\delta q_1, \\dotsc, \\delta q_N ) = \\sum\\limits_{i=1}^N  Q_{i} \\delta q_i\n",
    "\\label{}\n",
    "\\end{equation}\n",
    "</span>\n",
    "\n",
    "For simpler problems, in which we can separately analyze each non-conservative force acting on each generalized coordinate, the work done by each force on a given generalized coordinate can be calculated by making all other coordinates immovable ('frozen') and then sum the generalized forces.  \n",
    "\n",
    "The next examples will help to understand how to calculate the generalized force."
   ]
  },
  {
   "cell_type": "markdown",
   "metadata": {},
   "source": [
    "### Example: Simple pendulum on moving cart\n",
    "\n",
    "<figure><img src=\"./../images/masspend_lagrange.png\" width=\"250\" alt=\"cart pendulum\" style=\"float:right;margin: 10px 50px 10px 50px;\"/></figure>\n",
    "\n",
    "Consider a simple pendulum with massless rod of length $d$ and mass $m$ at the extremity of the rod forming an angle $\\theta$ with the vertical direction under the action of gravity. The pendulum swings freely from a cart with mass $M$ that moves at the horizontal direction pushed by a force $F_x$.  \n",
    "\n",
    "Let's use the Lagrangian mechanics to derive the EOM for the system.\n",
    "\n",
    "We will model the cart as a particle moving along the axis $x$, i.e., $y=0$. The system has two degrees of freedom and because of the constraints introduced by the constant length of the rod and the motion the cart can perform, good generalized coordinates to describe the configuration of the system are $x$ and $\\theta$.  \n",
    "\n",
    "**Determination of the generalized force**  \n",
    "The force $F$ acts along the same direction of the generalized coordinate $x$, this means $F$ contributes entirely to the work done at the direction $x$. At this generalized coordinate, the generalized force due to $F$ is $F$.  \n",
    "At the generalized coordinate $θ$, if we 'freeze' the generalized coordinate $x$ and let $F$ act on the system, there is no movement at the generalized coordinate $θ$, so no work is done. At this generalized coordinate, the generalized force due to $F$ is $0$.\n",
    "\n",
    "Let's now use Sympy to determine the EOM."
   ]
  },
  {
   "cell_type": "markdown",
   "metadata": {},
   "source": [
    "The positions of the cart (c) and of the pendulum tip (p) are:  "
   ]
  },
  {
   "cell_type": "code",
   "execution_count": 37,
   "metadata": {
    "ExecuteTime": {
     "end_time": "2020-05-28T04:43:05.307095Z",
     "start_time": "2020-05-28T04:43:05.302726Z"
    }
   },
   "outputs": [],
   "source": [
    "t = Symbol('t')\n",
    "M, m, d = symbols('M, m, d', positive=True)\n",
    "x, y, θ, Fx = dynamicsymbols('x, y, theta, F_x')"
   ]
  },
  {
   "cell_type": "markdown",
   "metadata": {},
   "source": [
    "The positions of the cart (c) and of the pendulum tip (p) are: "
   ]
  },
  {
   "cell_type": "code",
   "execution_count": 38,
   "metadata": {
    "ExecuteTime": {
     "end_time": "2020-05-28T04:43:05.354960Z",
     "start_time": "2020-05-28T04:43:05.308513Z"
    }
   },
   "outputs": [
    {
     "data": {
      "text/latex": [
       "$\\displaystyle x_c = x$"
      ],
      "text/plain": [
       "<IPython.core.display.Math object>"
      ]
     },
     "metadata": {},
     "output_type": "display_data"
    },
    {
     "data": {
      "text/latex": [
       "$\\displaystyle y_c = 0$"
      ],
      "text/plain": [
       "<IPython.core.display.Math object>"
      ]
     },
     "metadata": {},
     "output_type": "display_data"
    },
    {
     "data": {
      "text/latex": [
       "$\\displaystyle x_p = d \\operatorname{sin}\\left(\\theta\\right) + x$"
      ],
      "text/plain": [
       "<IPython.core.display.Math object>"
      ]
     },
     "metadata": {},
     "output_type": "display_data"
    },
    {
     "data": {
      "text/latex": [
       "$\\displaystyle y_p = - d \\operatorname{cos}\\left(\\theta\\right)$"
      ],
      "text/plain": [
       "<IPython.core.display.Math object>"
      ]
     },
     "metadata": {},
     "output_type": "display_data"
    }
   ],
   "source": [
    "xc, yc = x, y*0\n",
    "xcd, ycd = xc.diff(t), yc.diff(t)\n",
    "\n",
    "xp, yp = x + d*sin(𝜃), -d*cos(θ)\n",
    "xpd, ypd = xp.diff(t), yp.diff(t)\n",
    "\n",
    "printeq(r'x_c', xc)\n",
    "printeq(r'y_c', yc)\n",
    "\n",
    "printeq(r'x_p', xp)\n",
    "printeq(r'y_p', yp)"
   ]
  },
  {
   "cell_type": "markdown",
   "metadata": {},
   "source": [
    "The velocities of the cart and of the pendulum are: "
   ]
  },
  {
   "cell_type": "code",
   "execution_count": 39,
   "metadata": {
    "ExecuteTime": {
     "end_time": "2020-05-28T04:43:05.411259Z",
     "start_time": "2020-05-28T04:43:05.356092Z"
    }
   },
   "outputs": [
    {
     "data": {
      "text/latex": [
       "$\\displaystyle \\dot{x}_c = \\dot{x}$"
      ],
      "text/plain": [
       "<IPython.core.display.Math object>"
      ]
     },
     "metadata": {},
     "output_type": "display_data"
    },
    {
     "data": {
      "text/latex": [
       "$\\displaystyle \\dot{y}_c = 0$"
      ],
      "text/plain": [
       "<IPython.core.display.Math object>"
      ]
     },
     "metadata": {},
     "output_type": "display_data"
    },
    {
     "data": {
      "text/latex": [
       "$\\displaystyle \\dot{x}_p = d \\operatorname{cos}\\left(\\theta\\right) \\dot{\\theta} + \\dot{x}$"
      ],
      "text/plain": [
       "<IPython.core.display.Math object>"
      ]
     },
     "metadata": {},
     "output_type": "display_data"
    },
    {
     "data": {
      "text/latex": [
       "$\\displaystyle \\dot{y}_p = d \\operatorname{sin}\\left(\\theta\\right) \\dot{\\theta}$"
      ],
      "text/plain": [
       "<IPython.core.display.Math object>"
      ]
     },
     "metadata": {},
     "output_type": "display_data"
    }
   ],
   "source": [
    "printeq(r'\\dot{x}_c', xcd)\n",
    "printeq(r'\\dot{y}_c', ycd)\n",
    "\n",
    "printeq(r'\\dot{x}_p', xpd)\n",
    "printeq(r'\\dot{y}_p', ypd)"
   ]
  },
  {
   "cell_type": "markdown",
   "metadata": {},
   "source": [
    "The total kinetic and total potential energies and the Lagrangian of the system are:"
   ]
  },
  {
   "cell_type": "code",
   "execution_count": 40,
   "metadata": {
    "ExecuteTime": {
     "end_time": "2020-05-28T04:43:06.065311Z",
     "start_time": "2020-05-28T04:43:05.412197Z"
    }
   },
   "outputs": [
    {
     "data": {
      "text/latex": [
       "$\\displaystyle T = \\frac{M \\dot{x}^{2}}{2} + \\frac{m \\left(d^{2} \\dot{\\theta}^{2} + 2 d \\operatorname{cos}\\left(\\theta\\right) \\dot{\\theta} \\dot{x} + \\dot{x}^{2}\\right)}{2}$"
      ],
      "text/plain": [
       "<IPython.core.display.Math object>"
      ]
     },
     "metadata": {},
     "output_type": "display_data"
    },
    {
     "data": {
      "text/latex": [
       "$\\displaystyle V = - d g m \\operatorname{cos}\\left(\\theta\\right)$"
      ],
      "text/plain": [
       "<IPython.core.display.Math object>"
      ]
     },
     "metadata": {},
     "output_type": "display_data"
    },
    {
     "data": {
      "text/latex": [
       "$\\displaystyle \\mathcal{L} = \\frac{M \\dot{x}^{2}}{2} + d g m \\operatorname{cos}\\left(\\theta\\right) + \\frac{m \\left(d^{2} \\dot{\\theta}^{2} + 2 d \\operatorname{cos}\\left(\\theta\\right) \\dot{\\theta} \\dot{x} + \\dot{x}^{2}\\right)}{2}$"
      ],
      "text/plain": [
       "<IPython.core.display.Math object>"
      ]
     },
     "metadata": {},
     "output_type": "display_data"
    }
   ],
   "source": [
    "T = M*(xcd**2 + ycd**2)/2 + m*(xpd**2 + ypd**2)/2\n",
    "\n",
    "V = M*g*yc + m*g*yp\n",
    "\n",
    "printeq('T', T)\n",
    "printeq('V', V)\n",
    "\n",
    "L = T - V\n",
    "\n",
    "printeq(r'\\mathcal{L}', L)"
   ]
  },
  {
   "cell_type": "markdown",
   "metadata": {},
   "source": [
    "And the derivatives are:"
   ]
  },
  {
   "cell_type": "code",
   "execution_count": 41,
   "metadata": {
    "ExecuteTime": {
     "end_time": "2020-05-28T04:43:07.216607Z",
     "start_time": "2020-05-28T04:43:06.066275Z"
    }
   },
   "outputs": [
    {
     "data": {
      "text/latex": [
       "$\\displaystyle \\text{Terms of the Euler-Lagrange equations:}$"
      ],
      "text/plain": [
       "<IPython.core.display.Math object>"
      ]
     },
     "metadata": {},
     "output_type": "display_data"
    },
    {
     "data": {
      "text/latex": [
       "$\\displaystyle \\text{For generalized coordinate}\\;x:$"
      ],
      "text/plain": [
       "<IPython.core.display.Math object>"
      ]
     },
     "metadata": {},
     "output_type": "display_data"
    },
    {
     "data": {
      "text/latex": [
       "$\\displaystyle \\quad\\dfrac{\\partial\\mathcal{L}}{\\partial x} = 0$"
      ],
      "text/plain": [
       "<IPython.core.display.Math object>"
      ]
     },
     "metadata": {},
     "output_type": "display_data"
    },
    {
     "data": {
      "text/latex": [
       "$\\displaystyle \\quad\\dfrac{\\partial\\mathcal{L}}{\\partial\\dot{x}} = M \\dot{x} + m \\left(d \\operatorname{cos}\\left(\\theta\\right) \\dot{\\theta} + \\dot{x}\\right)$"
      ],
      "text/plain": [
       "<IPython.core.display.Math object>"
      ]
     },
     "metadata": {},
     "output_type": "display_data"
    },
    {
     "data": {
      "text/latex": [
       "$\\displaystyle \\quad\\dfrac{\\mathrm d}{\\mathrm{dt}}\\left({\\dfrac{\\partial\\mathcal{L}}{\\partial\\dot{x}}}\\right) = M \\ddot{x} + m \\left(- d \\operatorname{sin}\\left(\\theta\\right) \\dot{\\theta}^{2} + d \\operatorname{cos}\\left(\\theta\\right) \\ddot{\\theta} + \\ddot{x}\\right)$"
      ],
      "text/plain": [
       "<IPython.core.display.Math object>"
      ]
     },
     "metadata": {},
     "output_type": "display_data"
    },
    {
     "data": {
      "text/latex": [
       "$\\displaystyle \\text{For generalized coordinate}\\;\\theta:$"
      ],
      "text/plain": [
       "<IPython.core.display.Math object>"
      ]
     },
     "metadata": {},
     "output_type": "display_data"
    },
    {
     "data": {
      "text/latex": [
       "$\\displaystyle \\quad\\dfrac{\\partial\\mathcal{L}}{\\partial \\theta} = - d m \\left(g + \\dot{\\theta} \\dot{x}\\right) \\operatorname{sin}\\left(\\theta\\right)$"
      ],
      "text/plain": [
       "<IPython.core.display.Math object>"
      ]
     },
     "metadata": {},
     "output_type": "display_data"
    },
    {
     "data": {
      "text/latex": [
       "$\\displaystyle \\quad\\dfrac{\\partial\\mathcal{L}}{\\partial\\dot{\\theta}} = d m \\left(d \\dot{\\theta} + \\operatorname{cos}\\left(\\theta\\right) \\dot{x}\\right)$"
      ],
      "text/plain": [
       "<IPython.core.display.Math object>"
      ]
     },
     "metadata": {},
     "output_type": "display_data"
    },
    {
     "data": {
      "text/latex": [
       "$\\displaystyle \\quad\\dfrac{\\mathrm d}{\\mathrm{dt}}\\left({\\dfrac{\\partial\\mathcal{L}}{\\partial\\dot{\\theta}}}\\right) = d m \\left(d \\ddot{\\theta} - \\operatorname{sin}\\left(\\theta\\right) \\dot{\\theta} \\dot{x} + \\operatorname{cos}\\left(\\theta\\right) \\ddot{x}\\right)$"
      ],
      "text/plain": [
       "<IPython.core.display.Math object>"
      ]
     },
     "metadata": {},
     "output_type": "display_data"
    }
   ],
   "source": [
    "Lterms = lagrange_terms(L, [x, θ])"
   ]
  },
  {
   "cell_type": "markdown",
   "metadata": {},
   "source": [
    "Finally, the EOM are:"
   ]
  },
  {
   "cell_type": "code",
   "execution_count": 42,
   "metadata": {
    "ExecuteTime": {
     "end_time": "2020-05-28T04:43:07.519637Z",
     "start_time": "2020-05-28T04:43:07.217565Z"
    }
   },
   "outputs": [
    {
     "data": {
      "text/latex": [
       "$\\displaystyle \\text{Euler-Lagrange equations (EOM):}$"
      ],
      "text/plain": [
       "<IPython.core.display.Math object>"
      ]
     },
     "metadata": {},
     "output_type": "display_data"
    },
    {
     "data": {
      "text/latex": [
       "$\\displaystyle \\quad M \\ddot{x} + m \\left(- d \\operatorname{sin}\\left(\\theta\\right) \\dot{\\theta}^{2} + d \\operatorname{cos}\\left(\\theta\\right) \\ddot{\\theta} + \\ddot{x}\\right) = F_{x}$"
      ],
      "text/plain": [
       "<IPython.core.display.Math object>"
      ]
     },
     "metadata": {},
     "output_type": "display_data"
    },
    {
     "data": {
      "text/latex": [
       "$\\displaystyle \\quad d m \\left(d \\ddot{\\theta} + g \\operatorname{sin}\\left(\\theta\\right) + \\operatorname{cos}\\left(\\theta\\right) \\ddot{x}\\right) = 0$"
      ],
      "text/plain": [
       "<IPython.core.display.Math object>"
      ]
     },
     "metadata": {},
     "output_type": "display_data"
    }
   ],
   "source": [
    "lagrange_eq(Lterms, [Fx, 0])"
   ]
  },
  {
   "cell_type": "code",
   "execution_count": 43,
   "metadata": {
    "ExecuteTime": {
     "end_time": "2020-05-28T04:43:11.517564Z",
     "start_time": "2020-05-28T04:43:07.520862Z"
    }
   },
   "outputs": [
    {
     "data": {
      "text/latex": [
       "$\\displaystyle \\text{Euler-Lagrange equations (EOM):}$"
      ],
      "text/plain": [
       "<IPython.core.display.Math object>"
      ]
     },
     "metadata": {},
     "output_type": "display_data"
    },
    {
     "data": {
      "text/latex": [
       "$\\displaystyle \\ddot{x} = \\frac{d m \\operatorname{sin}\\left(\\theta\\right) \\dot{\\theta}^{2} + \\frac{g m \\operatorname{sin}\\left(2 \\theta\\right)}{2} + F_{x}}{M + m \\operatorname{sin}^{2}\\left(\\theta\\right)}$"
      ],
      "text/plain": [
       "                2   g⋅m⋅sin(2⋅θ)     \n",
       "    d⋅m⋅sin(θ)⋅θ̇  + ──────────── + Fₓ\n",
       "                         2           \n",
       "ẍ = ─────────────────────────────────\n",
       "                       2             \n",
       "              M + m⋅sin (θ)          "
      ]
     },
     "metadata": {},
     "output_type": "display_data"
    },
    {
     "data": {
      "text/latex": [
       "$\\displaystyle \\ddot{\\theta} = - \\frac{M g \\operatorname{sin}\\left(\\theta\\right) + \\frac{d m \\operatorname{sin}\\left(2 \\theta\\right) \\dot{\\theta}^{2}}{2} + g m \\operatorname{sin}\\left(\\theta\\right) + F_{x} \\operatorname{cos}\\left(\\theta\\right)}{d \\left(M + m \\operatorname{sin}^{2}\\left(\\theta\\right)\\right)}$"
      ],
      "text/plain": [
       "     ⎛                           2                         ⎞ \n",
       "     ⎜             d⋅m⋅sin(2⋅θ)⋅θ̇                          ⎟ \n",
       "    -⎜M⋅g⋅sin(θ) + ─────────────── + g⋅m⋅sin(θ) + Fₓ⋅cos(θ)⎟ \n",
       "     ⎝                    2                                ⎠ \n",
       "θ̈ = ─────────────────────────────────────────────────────────\n",
       "                          ⎛         2   ⎞                    \n",
       "                        d⋅⎝M + m⋅sin (θ)⎠                    "
      ]
     },
     "metadata": {},
     "output_type": "display_data"
    }
   ],
   "source": [
    "sol = lagrange_eq_solve(Lterms, q=[x, θ], Qnc=[Fx, 0])"
   ]
  },
  {
   "cell_type": "markdown",
   "metadata": {},
   "source": [
    "Note that although the force $F_x$ acts solely on the cart, the acceleration of the pendulum $\\ddot{\\theta}$ is also dependent on $F$, as expected.  \n",
    "\n",
    "[Clik here for solutions to this problem using the Newtonian and Lagrangian approaches and how this system of two coupled second order differential equations can be rearranged for its numerical solution](http://www.emomi.com/download/neumann/pendulum_cart.html)."
   ]
  },
  {
   "cell_type": "markdown",
   "metadata": {},
   "source": [
    "### Example: Two masses and two springs under the influence of gravity\n",
    "\n",
    "<figure><img src=\"./../images/springs_masses_g.png\" width=\"200\" alt=\"double pendulum\" style=\"float:right;margin: 10px 50px 10px 50px;\"/></figure>\n",
    "\n",
    "Consider a system composed by two masses $m_1,\\, m_2$ and two ideal springs (massless, lengths $\\ell_1,\\, \\ell_2$, and spring constants $k_1,\\,k_2$) attached in series under gravity and a force $F$ acting directly on $m_2$.  \n",
    "\n",
    "We can model this system as composed by two particles with two degrees of freedom and we need two generalized coordinates to describe the system's configuration; two obvious options are:  \n",
    "\n",
    " - ${y_1, y_2}$, positions of masses $m_1,\\, m_2$ w.r.t. ceiling (origin).  \n",
    " - ${z_1, z_2}$, position of mass $m_1$ w.r.t. ceiling and position of mass $m_2$ w.r.t. mass $m_1$. \n",
    " \n",
    "The set ${y_1, y_2}$ is at an inertial reference frame, while the second set it's not.  \n",
    "Let's find the EOM's using both sets of generalized coordinates and compare them.\n",
    "\n",
    "**Generalized forces**  \n",
    "Using ${y_1, y_2}$, force $F$ acts on mass $m_2$ at the same direction of the generalized coordinate $y_2$. At this coordinate, the generalized force of $F$ is $F$. At the generalized coordinate $y_1$, if we 'freeze' the generalized coordinate $y_2$ and let $F$ act on the system, there is no movement at the generalized coordinate $y_1$, so no work is done. At this generalized coordinate, the generalized force due to $F$ is $0$.  \n",
    "\n",
    "Using ${z_1, z_2}$, force $F$ acts on mass $m_2$ at the same direction of the generalized coordinate $z_2$. At this coordinate, the generalized force of $F$ is $F$. At the generalized coordinate $z_1$, if we 'freeze' the generalized coordinate $z_2$ and let $F$ act on the system, mass $m_1$ suffers the action of force $F$ at the generalized coordinate $y_1$. At this generalized coordinate, the generalized force due to $F$ is $F$.\n",
    "\n",
    "Sympy is our friend once again:"
   ]
  },
  {
   "cell_type": "code",
   "execution_count": 44,
   "metadata": {
    "ExecuteTime": {
     "end_time": "2020-05-28T04:43:11.521647Z",
     "start_time": "2020-05-28T04:43:11.518562Z"
    }
   },
   "outputs": [],
   "source": [
    "t = Symbol('t')\n",
    "m1, m2, ℓ01, ℓ02, g, k1, k2 = symbols('m1, m2, ell01, ell02, g, k1, k2', positive=True)  # \\ell<TAB>\n",
    "y1, y2, F = dynamicsymbols('y1, y2, F')"
   ]
  },
  {
   "cell_type": "markdown",
   "metadata": {
    "ExecuteTime": {
     "end_time": "2020-05-26T04:57:42.581918Z",
     "start_time": "2020-05-26T04:57:42.568684Z"
    }
   },
   "source": [
    "The total kinetic and total potential energies of the system are:"
   ]
  },
  {
   "cell_type": "code",
   "execution_count": 45,
   "metadata": {
    "ExecuteTime": {
     "end_time": "2020-05-28T04:43:11.658393Z",
     "start_time": "2020-05-28T04:43:11.522715Z"
    }
   },
   "outputs": [
    {
     "data": {
      "text/latex": [
       "$\\displaystyle T = \\frac{m_{1} \\dot{y}_{1}^{2}}{2} + \\frac{m_{2} \\dot{y}_{2}^{2}}{2}$"
      ],
      "text/plain": [
       "<IPython.core.display.Math object>"
      ]
     },
     "metadata": {},
     "output_type": "display_data"
    },
    {
     "data": {
      "text/latex": [
       "$\\displaystyle V = - g m_{1} y_{1} - g m_{2} y_{2} + \\frac{k_{1} \\left(\\ell_{01} - y_{1}\\right)^{2}}{2} + \\frac{k_{2} \\left(\\ell_{02} + y_{1} - y_{2}\\right)^{2}}{2}$"
      ],
      "text/plain": [
       "<IPython.core.display.Math object>"
      ]
     },
     "metadata": {},
     "output_type": "display_data"
    }
   ],
   "source": [
    "y1d, y2d = y1.diff(t), y2.diff(t)\n",
    "\n",
    "T = (m1*y1d**2)/2 + (m2*y2d**2)/2\n",
    "V = (k1*(y1-ℓ01)**2)/2 + (k2*((y2-y1)-ℓ02)**2)/2 - m1*g*y1 - m2*g*y2\n",
    "\n",
    "printeq(r'T', T)\n",
    "printeq(r'V', V)"
   ]
  },
  {
   "cell_type": "markdown",
   "metadata": {},
   "source": [
    "For sake of clarity, let's consider the resting lengths of the springs to be zero:"
   ]
  },
  {
   "cell_type": "code",
   "execution_count": 46,
   "metadata": {
    "ExecuteTime": {
     "end_time": "2020-05-28T04:43:11.719821Z",
     "start_time": "2020-05-28T04:43:11.659337Z"
    }
   },
   "outputs": [
    {
     "data": {
      "text/latex": [
       "$\\displaystyle V = - g m_{1} y_{1} - g m_{2} y_{2} + \\frac{k_{1} y^{2}_{1}}{2} + \\frac{k_{2} \\left(y_{1} - y_{2}\\right)^{2}}{2}$"
      ],
      "text/plain": [
       "<IPython.core.display.Math object>"
      ]
     },
     "metadata": {},
     "output_type": "display_data"
    }
   ],
   "source": [
    "V = V.subs([(ℓ01, 0), (ℓ02, 0)])\n",
    "printeq(r'V', V)"
   ]
  },
  {
   "cell_type": "markdown",
   "metadata": {},
   "source": [
    "The Lagrangian function is:"
   ]
  },
  {
   "cell_type": "code",
   "execution_count": 47,
   "metadata": {
    "ExecuteTime": {
     "end_time": "2020-05-28T04:43:11.802232Z",
     "start_time": "2020-05-28T04:43:11.720798Z"
    }
   },
   "outputs": [
    {
     "data": {
      "text/latex": [
       "$\\displaystyle \\mathcal{L} = g m_{1} y_{1} + g m_{2} y_{2} - \\frac{k_{1} y^{2}_{1}}{2} - \\frac{k_{2} \\left(y_{1} - y_{2}\\right)^{2}}{2} + \\frac{m_{1} \\dot{y}_{1}^{2}}{2} + \\frac{m_{2} \\dot{y}_{2}^{2}}{2}$"
      ],
      "text/plain": [
       "<IPython.core.display.Math object>"
      ]
     },
     "metadata": {},
     "output_type": "display_data"
    }
   ],
   "source": [
    "L = T - V\n",
    "printeq(r'\\mathcal{L}', L)"
   ]
  },
  {
   "cell_type": "markdown",
   "metadata": {},
   "source": [
    "And the derivatives are:"
   ]
  },
  {
   "cell_type": "code",
   "execution_count": 48,
   "metadata": {
    "ExecuteTime": {
     "end_time": "2020-05-28T04:43:11.966744Z",
     "start_time": "2020-05-28T04:43:11.803161Z"
    }
   },
   "outputs": [
    {
     "data": {
      "text/latex": [
       "$\\displaystyle \\text{Terms of the Euler-Lagrange equations:}$"
      ],
      "text/plain": [
       "<IPython.core.display.Math object>"
      ]
     },
     "metadata": {},
     "output_type": "display_data"
    },
    {
     "data": {
      "text/latex": [
       "$\\displaystyle \\text{For generalized coordinate}\\;\\operatorname{y_{1}}:$"
      ],
      "text/plain": [
       "<IPython.core.display.Math object>"
      ]
     },
     "metadata": {},
     "output_type": "display_data"
    },
    {
     "data": {
      "text/latex": [
       "$\\displaystyle \\quad\\dfrac{\\partial\\mathcal{L}}{\\partial \\operatorname{y_{1}}} = g m_{1} - k_{1} y_{1} - k_{2} \\left(y_{1} - y_{2}\\right)$"
      ],
      "text/plain": [
       "<IPython.core.display.Math object>"
      ]
     },
     "metadata": {},
     "output_type": "display_data"
    },
    {
     "data": {
      "text/latex": [
       "$\\displaystyle \\quad\\dfrac{\\partial\\mathcal{L}}{\\partial\\dot{\\operatorname{y_{1}}}} = m_{1} \\dot{y}_{1}$"
      ],
      "text/plain": [
       "<IPython.core.display.Math object>"
      ]
     },
     "metadata": {},
     "output_type": "display_data"
    },
    {
     "data": {
      "text/latex": [
       "$\\displaystyle \\quad\\dfrac{\\mathrm d}{\\mathrm{dt}}\\left({\\dfrac{\\partial\\mathcal{L}}{\\partial\\dot{\\operatorname{y_{1}}}}}\\right) = m_{1} \\ddot{y}_{1}$"
      ],
      "text/plain": [
       "<IPython.core.display.Math object>"
      ]
     },
     "metadata": {},
     "output_type": "display_data"
    },
    {
     "data": {
      "text/latex": [
       "$\\displaystyle \\text{For generalized coordinate}\\;\\operatorname{y_{2}}:$"
      ],
      "text/plain": [
       "<IPython.core.display.Math object>"
      ]
     },
     "metadata": {},
     "output_type": "display_data"
    },
    {
     "data": {
      "text/latex": [
       "$\\displaystyle \\quad\\dfrac{\\partial\\mathcal{L}}{\\partial \\operatorname{y_{2}}} = g m_{2} + k_{2} \\left(y_{1} - y_{2}\\right)$"
      ],
      "text/plain": [
       "<IPython.core.display.Math object>"
      ]
     },
     "metadata": {},
     "output_type": "display_data"
    },
    {
     "data": {
      "text/latex": [
       "$\\displaystyle \\quad\\dfrac{\\partial\\mathcal{L}}{\\partial\\dot{\\operatorname{y_{2}}}} = m_{2} \\dot{y}_{2}$"
      ],
      "text/plain": [
       "<IPython.core.display.Math object>"
      ]
     },
     "metadata": {},
     "output_type": "display_data"
    },
    {
     "data": {
      "text/latex": [
       "$\\displaystyle \\quad\\dfrac{\\mathrm d}{\\mathrm{dt}}\\left({\\dfrac{\\partial\\mathcal{L}}{\\partial\\dot{\\operatorname{y_{2}}}}}\\right) = m_{2} \\ddot{y}_{2}$"
      ],
      "text/plain": [
       "<IPython.core.display.Math object>"
      ]
     },
     "metadata": {},
     "output_type": "display_data"
    }
   ],
   "source": [
    "Lterms = lagrange_terms(L, [y1, y2])"
   ]
  },
  {
   "cell_type": "markdown",
   "metadata": {},
   "source": [
    "Finally, the EOM are:"
   ]
  },
  {
   "cell_type": "code",
   "execution_count": 49,
   "metadata": {
    "ExecuteTime": {
     "end_time": "2020-05-28T04:43:12.022526Z",
     "start_time": "2020-05-28T04:43:11.967977Z"
    }
   },
   "outputs": [
    {
     "data": {
      "text/latex": [
       "$\\displaystyle \\text{Euler-Lagrange equations (EOM):}$"
      ],
      "text/plain": [
       "<IPython.core.display.Math object>"
      ]
     },
     "metadata": {},
     "output_type": "display_data"
    },
    {
     "data": {
      "text/latex": [
       "$\\displaystyle \\quad - g m_{1} + k_{1} y_{1} + k_{2} \\left(y_{1} - y_{2}\\right) + m_{1} \\ddot{y}_{1} = 0$"
      ],
      "text/plain": [
       "<IPython.core.display.Math object>"
      ]
     },
     "metadata": {},
     "output_type": "display_data"
    },
    {
     "data": {
      "text/latex": [
       "$\\displaystyle \\quad - g m_{2} - k_{2} \\left(y_{1} - y_{2}\\right) + m_{2} \\ddot{y}_{2} = F$"
      ],
      "text/plain": [
       "<IPython.core.display.Math object>"
      ]
     },
     "metadata": {},
     "output_type": "display_data"
    }
   ],
   "source": [
    "lagrange_eq(Lterms, [0, F])"
   ]
  },
  {
   "cell_type": "code",
   "execution_count": 50,
   "metadata": {
    "ExecuteTime": {
     "end_time": "2020-05-28T04:43:12.341645Z",
     "start_time": "2020-05-28T04:43:12.023722Z"
    }
   },
   "outputs": [
    {
     "data": {
      "text/latex": [
       "$\\displaystyle \\text{Euler-Lagrange equations (EOM):}$"
      ],
      "text/plain": [
       "<IPython.core.display.Math object>"
      ]
     },
     "metadata": {},
     "output_type": "display_data"
    },
    {
     "data": {
      "text/latex": [
       "$\\displaystyle \\ddot{y}_{1} = \\frac{g m_{1} - k_{1} y_{1} - k_{2} y_{1} + k_{2} y_{2}}{m_{1}}$"
      ],
      "text/plain": [
       "     g⋅m₁ - k₁⋅y₁ - k₂⋅y₁ + k₂⋅y₂\n",
       "y₁̈ = ────────────────────────────\n",
       "                  m₁             "
      ]
     },
     "metadata": {},
     "output_type": "display_data"
    },
    {
     "data": {
      "text/latex": [
       "$\\displaystyle \\ddot{y}_{2} = \\frac{g m_{2} + k_{2} y_{1} - k_{2} y_{2} + F}{m_{2}}$"
      ],
      "text/plain": [
       "     g⋅m₂ + k₂⋅y₁ - k₂⋅y₂ + F\n",
       "y₂̈ = ────────────────────────\n",
       "                m₂           "
      ]
     },
     "metadata": {},
     "output_type": "display_data"
    }
   ],
   "source": [
    "lagrange_eq_solve(Lterms, [y1, y2], [0, F]);"
   ]
  },
  {
   "cell_type": "markdown",
   "metadata": {},
   "source": [
    "**Same problem, but with the other set of coordinates**\n",
    "\n",
    "Using ${z_1, z_2}$ as the position of mass $m_1$ w.r.t. the ceiling and the position of mass $m_2$ w.r.t. the mass $m_1$, the solution is:"
   ]
  },
  {
   "cell_type": "code",
   "execution_count": 51,
   "metadata": {
    "ExecuteTime": {
     "end_time": "2020-05-28T04:43:12.486704Z",
     "start_time": "2020-05-28T04:43:12.342723Z"
    }
   },
   "outputs": [
    {
     "data": {
      "text/latex": [
       "$\\displaystyle T = \\frac{m_{1} \\dot{z}_{1}^{2}}{2} + \\frac{m_{2} \\left(\\dot{z}_{1} + \\dot{z}_{2}\\right)^{2}}{2}$"
      ],
      "text/plain": [
       "<IPython.core.display.Math object>"
      ]
     },
     "metadata": {},
     "output_type": "display_data"
    },
    {
     "data": {
      "text/latex": [
       "$\\displaystyle V = - g m_{1} z_{1} - g m_{2} \\left(z_{1} + z_{2}\\right) + \\frac{k_{1} \\left(\\ell_{01} - z_{1}\\right)^{2}}{2} + \\frac{k_{2} \\left(\\ell_{02} - z_{2}\\right)^{2}}{2}$"
      ],
      "text/plain": [
       "<IPython.core.display.Math object>"
      ]
     },
     "metadata": {},
     "output_type": "display_data"
    }
   ],
   "source": [
    "z1, z2 = dynamicsymbols('z1, z2')\n",
    "z1d, z2d = z1.diff(t), z2.diff(t)\n",
    "\n",
    "T = (m1*z1d**2)/2 + (m2*(z1d + z2d)**2)/2\n",
    "V = (k1*(z1-ℓ01)**2)/2 + (k2*(z2-ℓ02)**2)/2 - m1*g*z1 - m2*g*(z1+z2)\n",
    "\n",
    "printeq('T', T)\n",
    "printeq('V', V)"
   ]
  },
  {
   "cell_type": "markdown",
   "metadata": {},
   "source": [
    "For sake of clarity, let's consider the resting lengths of the springs to be zero:"
   ]
  },
  {
   "cell_type": "code",
   "execution_count": 52,
   "metadata": {
    "ExecuteTime": {
     "end_time": "2020-05-28T04:43:12.538170Z",
     "start_time": "2020-05-28T04:43:12.487822Z"
    }
   },
   "outputs": [
    {
     "data": {
      "text/latex": [
       "$\\displaystyle V = - g m_{1} z_{1} - g m_{2} \\left(z_{1} + z_{2}\\right) + \\frac{k_{1} z^{2}_{1}}{2} + \\frac{k_{2} z^{2}_{2}}{2}$"
      ],
      "text/plain": [
       "<IPython.core.display.Math object>"
      ]
     },
     "metadata": {},
     "output_type": "display_data"
    }
   ],
   "source": [
    "V = V.subs([(ℓ01, 0), (ℓ02, 0)])\n",
    "printeq(r'V', V)"
   ]
  },
  {
   "cell_type": "code",
   "execution_count": 53,
   "metadata": {
    "ExecuteTime": {
     "end_time": "2020-05-28T04:43:12.632406Z",
     "start_time": "2020-05-28T04:43:12.539143Z"
    }
   },
   "outputs": [
    {
     "data": {
      "text/latex": [
       "$\\displaystyle \\mathcal{L} = g m_{1} z_{1} + g m_{2} \\left(z_{1} + z_{2}\\right) - \\frac{k_{1} z^{2}_{1}}{2} - \\frac{k_{2} z^{2}_{2}}{2} + \\frac{m_{1} \\dot{z}_{1}^{2}}{2} + \\frac{m_{2} \\left(\\dot{z}_{1} + \\dot{z}_{2}\\right)^{2}}{2}$"
      ],
      "text/plain": [
       "<IPython.core.display.Math object>"
      ]
     },
     "metadata": {},
     "output_type": "display_data"
    }
   ],
   "source": [
    "L = T - V\n",
    "printeq(r'\\mathcal{L}', L)"
   ]
  },
  {
   "cell_type": "code",
   "execution_count": 54,
   "metadata": {
    "ExecuteTime": {
     "end_time": "2020-05-28T04:43:12.898682Z",
     "start_time": "2020-05-28T04:43:12.633351Z"
    }
   },
   "outputs": [
    {
     "data": {
      "text/latex": [
       "$\\displaystyle \\text{Terms of the Euler-Lagrange equations:}$"
      ],
      "text/plain": [
       "<IPython.core.display.Math object>"
      ]
     },
     "metadata": {},
     "output_type": "display_data"
    },
    {
     "data": {
      "text/latex": [
       "$\\displaystyle \\text{For generalized coordinate}\\;\\operatorname{z_{1}}:$"
      ],
      "text/plain": [
       "<IPython.core.display.Math object>"
      ]
     },
     "metadata": {},
     "output_type": "display_data"
    },
    {
     "data": {
      "text/latex": [
       "$\\displaystyle \\quad\\dfrac{\\partial\\mathcal{L}}{\\partial \\operatorname{z_{1}}} = g m_{1} + g m_{2} - k_{1} z_{1}$"
      ],
      "text/plain": [
       "<IPython.core.display.Math object>"
      ]
     },
     "metadata": {},
     "output_type": "display_data"
    },
    {
     "data": {
      "text/latex": [
       "$\\displaystyle \\quad\\dfrac{\\partial\\mathcal{L}}{\\partial\\dot{\\operatorname{z_{1}}}} = m_{1} \\dot{z}_{1} + m_{2} \\left(\\dot{z}_{1} + \\dot{z}_{2}\\right)$"
      ],
      "text/plain": [
       "<IPython.core.display.Math object>"
      ]
     },
     "metadata": {},
     "output_type": "display_data"
    },
    {
     "data": {
      "text/latex": [
       "$\\displaystyle \\quad\\dfrac{\\mathrm d}{\\mathrm{dt}}\\left({\\dfrac{\\partial\\mathcal{L}}{\\partial\\dot{\\operatorname{z_{1}}}}}\\right) = m_{1} \\ddot{z}_{1} + m_{2} \\left(\\ddot{z}_{1} + \\ddot{z}_{2}\\right)$"
      ],
      "text/plain": [
       "<IPython.core.display.Math object>"
      ]
     },
     "metadata": {},
     "output_type": "display_data"
    },
    {
     "data": {
      "text/latex": [
       "$\\displaystyle \\text{For generalized coordinate}\\;\\operatorname{z_{2}}:$"
      ],
      "text/plain": [
       "<IPython.core.display.Math object>"
      ]
     },
     "metadata": {},
     "output_type": "display_data"
    },
    {
     "data": {
      "text/latex": [
       "$\\displaystyle \\quad\\dfrac{\\partial\\mathcal{L}}{\\partial \\operatorname{z_{2}}} = g m_{2} - k_{2} z_{2}$"
      ],
      "text/plain": [
       "<IPython.core.display.Math object>"
      ]
     },
     "metadata": {},
     "output_type": "display_data"
    },
    {
     "data": {
      "text/latex": [
       "$\\displaystyle \\quad\\dfrac{\\partial\\mathcal{L}}{\\partial\\dot{\\operatorname{z_{2}}}} = m_{2} \\left(\\dot{z}_{1} + \\dot{z}_{2}\\right)$"
      ],
      "text/plain": [
       "<IPython.core.display.Math object>"
      ]
     },
     "metadata": {},
     "output_type": "display_data"
    },
    {
     "data": {
      "text/latex": [
       "$\\displaystyle \\quad\\dfrac{\\mathrm d}{\\mathrm{dt}}\\left({\\dfrac{\\partial\\mathcal{L}}{\\partial\\dot{\\operatorname{z_{2}}}}}\\right) = m_{2} \\left(\\ddot{z}_{1} + \\ddot{z}_{2}\\right)$"
      ],
      "text/plain": [
       "<IPython.core.display.Math object>"
      ]
     },
     "metadata": {},
     "output_type": "display_data"
    },
    {
     "data": {
      "text/latex": [
       "$\\displaystyle \\text{Euler-Lagrange equations (EOM):}$"
      ],
      "text/plain": [
       "<IPython.core.display.Math object>"
      ]
     },
     "metadata": {},
     "output_type": "display_data"
    },
    {
     "data": {
      "text/latex": [
       "$\\displaystyle \\quad - g m_{1} - g m_{2} + k_{1} z_{1} + m_{1} \\ddot{z}_{1} + m_{2} \\left(\\ddot{z}_{1} + \\ddot{z}_{2}\\right) = F$"
      ],
      "text/plain": [
       "<IPython.core.display.Math object>"
      ]
     },
     "metadata": {},
     "output_type": "display_data"
    },
    {
     "data": {
      "text/latex": [
       "$\\displaystyle \\quad - g m_{2} + k_{2} z_{2} + m_{2} \\left(\\ddot{z}_{1} + \\ddot{z}_{2}\\right) = F$"
      ],
      "text/plain": [
       "<IPython.core.display.Math object>"
      ]
     },
     "metadata": {},
     "output_type": "display_data"
    }
   ],
   "source": [
    "Lterms = lagrange_terms(L, [z1, z2])\n",
    "lagrange_eq(Lterms, [F, F])"
   ]
  },
  {
   "cell_type": "code",
   "execution_count": 55,
   "metadata": {
    "ExecuteTime": {
     "end_time": "2020-05-28T04:43:13.430070Z",
     "start_time": "2020-05-28T04:43:12.899884Z"
    }
   },
   "outputs": [
    {
     "data": {
      "text/latex": [
       "$\\displaystyle \\text{Euler-Lagrange equations (EOM):}$"
      ],
      "text/plain": [
       "<IPython.core.display.Math object>"
      ]
     },
     "metadata": {},
     "output_type": "display_data"
    },
    {
     "data": {
      "text/latex": [
       "$\\displaystyle \\ddot{z}_{1} = \\frac{g m_{1} - k_{1} z_{1} + k_{2} z_{2}}{m_{1}}$"
      ],
      "text/plain": [
       "     g⋅m₁ - k₁⋅z₁ + k₂⋅z₂\n",
       "z₁̈ = ────────────────────\n",
       "              m₁         "
      ]
     },
     "metadata": {},
     "output_type": "display_data"
    },
    {
     "data": {
      "text/latex": [
       "$\\displaystyle \\ddot{z}_{2} = \\frac{m_{1} \\left(- k_{2} z_{2} + F\\right) + m_{2} \\left(k_{1} z_{1} - k_{2} z_{2}\\right)}{m_{1} m_{2}}$"
      ],
      "text/plain": [
       "     m₁⋅(-k₂⋅z₂ + F) + m₂⋅(k₁⋅z₁ - k₂⋅z₂)\n",
       "z₂̈ = ────────────────────────────────────\n",
       "                    m₁⋅m₂                "
      ]
     },
     "metadata": {},
     "output_type": "display_data"
    }
   ],
   "source": [
    "lagrange_eq_solve(Lterms, [z1, z2], [F, F]);"
   ]
  },
  {
   "cell_type": "markdown",
   "metadata": {},
   "source": [
    "The solutions using the two sets of coordinates seem different; the reader is invited to verify that in fact they are the same (remember that $y_1 = z_1,\\, y_2 = z_1+z_2,\\, \\ddot{y}_2 = \\ddot{z}_1+\\ddot{z}_2$)."
   ]
  },
  {
   "cell_type": "markdown",
   "metadata": {},
   "source": [
    "### Example: Mass-spring-damper system with gravity\n",
    "\n",
    "<figure><img src=\"./../images/mass_spring_damper_gravity.png\" width=\"220\" alt=\"mass-spring-damper system\" style=\"float:right;margin: 10px 50px 10px 50px;\"/></figure>\n",
    "\n",
    "Consider a mass-spring-damper system under the action of the gravitational force and an external force acting on the mass.  \n",
    "The massless spring has a stiffness coefficient $k$ and length at rest $\\ell_0$.  \n",
    "The massless damper has a damping coefficient $b$.  \n",
    "The gravitational force acts downwards and it is negative (see figure).  \n",
    "The system has one degree of freedom and we need only one generalized coordinate ($y$) to describe the system's configuration.  \n",
    "\n",
    "There are two non-conservative forces acting at the direction of the generalized coordinate: the external force F and the force of the damper. By calculating the work done by each of these forces, the total generalized force is: $Q_{NC} = F_0 \\cos(\\omega t) - b\\dot y$.\n",
    "\n",
    "Let's use the Lagrangian mechanics to derive the equations of motion for the system.\n",
    "\n",
    "The kinetic energy of the system is:\n",
    "\n",
    "\\begin{equation}\n",
    "T = \\frac{1}{2} m \\dot y^2\n",
    "\\end{equation}\n",
    "\n",
    "The potential energy of the system is:\n",
    "\n",
    "\\begin{equation}\n",
    "V = \\frac{1}{2} k (y-\\ell_0)^2 + m g y\n",
    "\\end{equation}\n",
    "\n",
    "The Lagrangian function is:\n",
    "\n",
    "\\begin{equation} \n",
    "\\mathcal{L} = \\frac{1}{2} m \\dot y^2 - \\frac{1}{2} k (y-\\ell_0)^2 - m g y\n",
    "\\end{equation}\n",
    "\n",
    "The derivatives of the Lagrangian w.r.t. $y$ and $t$ are:\n",
    "\n",
    "\\begin{equation}\\begin{array}{rcl}\n",
    "\\dfrac{\\partial \\mathcal{L}}{\\partial y} &=& -k(y-\\ell_0) - mg \\\\\n",
    "\\dfrac{\\partial \\mathcal{L}}{\\partial \\dot{y}} &=& m \\dot{y} \\\\\n",
    "\\dfrac{\\mathrm d }{\\mathrm d t}\\left( {\\dfrac{\\partial \\mathcal{L}}{\\partial \\dot{y}}} \\right) &=& m\\ddot{y} \n",
    "\\end{array}\\end{equation}\n",
    "\n",
    "Substituting all these terms in the Euler-Lagrange equation, results in:\n",
    "\n",
    "\\begin{equation}\n",
    "m\\ddot{y} + b\\dot{y} + k(y-\\ell_0) + mg = F_0 \\cos(\\omega t)\n",
    "\\end{equation}"
   ]
  },
  {
   "cell_type": "markdown",
   "metadata": {},
   "source": [
    "#### Numerical solution of the equation of motion for mass-spring-damper system\n",
    "\n",
    "Let's solve numerically the differential equation for the mass-spring-damper system with gravity. But the function for the Euler's method we implementation before will result in large errors for the sinusoidal oscillations of the  the solution in this case.  \n",
    "For this problem, let's use the function `solve_ivp` from Scipy with the integration method explicit Runge-Kutta."
   ]
  },
  {
   "cell_type": "code",
   "execution_count": 56,
   "metadata": {
    "ExecuteTime": {
     "end_time": "2020-05-28T04:43:13.432967Z",
     "start_time": "2020-05-28T04:43:13.431056Z"
    }
   },
   "outputs": [],
   "source": [
    "from scipy.integrate import solve_ivp"
   ]
  },
  {
   "cell_type": "code",
   "execution_count": 57,
   "metadata": {
    "ExecuteTime": {
     "end_time": "2020-05-28T04:43:13.439959Z",
     "start_time": "2020-05-28T04:43:13.434352Z"
    }
   },
   "outputs": [],
   "source": [
    "def dvdt(t, y):\n",
    "    \"\"\"\n",
    "    Returns dvdt at `t` given states `y`.\n",
    "    \"\"\"\n",
    "    m = 1     # mass, kg\n",
    "    k = 100   # spring coefficient, N/m\n",
    "    l0 = 1.0  # sprint resting length\n",
    "    b = 1.0   # damping coefficient, N/m/s\n",
    "    F0 = 2.0  # external force amplitude, N\n",
    "    f = 1     # frequency, Hz\n",
    "    g = 10    # acceleration of gravity, m/s2\n",
    "    F = F0*np.cos(2*np.pi*f*t)  # external force, N\n",
    "    \n",
    "    return y[1], (F - b*y[1] - k*(y[0]-l0) - m*g)/m"
   ]
  },
  {
   "cell_type": "code",
   "execution_count": 58,
   "metadata": {
    "ExecuteTime": {
     "end_time": "2020-05-28T04:43:13.674762Z",
     "start_time": "2020-05-28T04:43:13.441120Z"
    }
   },
   "outputs": [
    {
     "data": {
      "image/png": "[encoded data removed]",
      "text/plain": [
       "<Figure size 720x288 with 2 Axes>"
      ]
     },
     "metadata": {
      "needs_background": "light"
     },
     "output_type": "display_data"
    }
   ],
   "source": [
    "T = 10.0         # s\n",
    "freq = 100       # Hz\n",
    "y0 = [1.1, 0.0]  # [y0, v0]\n",
    "t = np.linspace(0, T, int(T*freq), endpoint=False)\n",
    "\n",
    "s = solve_ivp(fun=dvdt, t_span=(t[0], t[-1]), y0=y0, method='RK45', t_eval=t)\n",
    "labels = ['Trajectory of mass-spring-damper system under gravity and external force',\n",
    "          'Position (m)', 'Velocity (m/s)']\n",
    "plot(s.t, s.y[0, :], s.y[1, :], labels)"
   ]
  },
  {
   "cell_type": "markdown",
   "metadata": {},
   "source": [
    "## Forces of constraint\n",
    "\n",
    "The fact the Lagrangian formalism uses generalized coordinates means that in a system with constraints we typically have fewer coordinates (in turn, fewer equations of motion) and we don't need to worry about forces of constraint that we would have to consider in the Newtonian formalism.  \n",
    "However, when we do want to determine a force of constraint, using Lagrangian formalism in fact will be disadvantageous! Let's see now one way of determining a force of constraint using Lagrangian formalism. The trick is to postpone the consideration that there is a constraint in the system; this will increase the number of generalized coordinates but will allow the determination of a force of constraint. \n",
    "Let's exemplify this approach determining the tension at the rod in the simple pendulum under the influence of gravity we saw earlier."
   ]
  },
  {
   "cell_type": "markdown",
   "metadata": {},
   "source": [
    "### Example: Force of constraint in a simple pendulum under the influence of gravity\n",
    "\n",
    "<figure><img src=\"./../images/simplependulum_lagrange.png\" width=\"220\" alt=\"simple pendulum\" style=\"float:right;margin: 10px 50px 10px 50px;\"/></figure>\n",
    "\n",
    "Consider a pendulum with a massless rod of length $d$ and a mass $m$ at the extremity swinging in a plane forming the angle $\\theta$ with vertical and $g=10 m/s^2$.  \n",
    "\n",
    "Although the pendulum moves at the plane, it only has one degree of freedom, which can be described by the angle $\\theta$, the generalized coordinate. But because we want to determine the force of constraint tension at the rod, let's also consider for now the variable $r$ for the 'varying' length of the rod (instead of the constant $d$).  \n",
    "\n",
    "In this case, the kinetic energy of the system will be:\n",
    "<p>\n",
    "<span class=\"notranslate\">\n",
    "\\begin{equation}\n",
    "T = \\frac{1}{2}mr^2\\dot\\theta^2 + \\frac{1}{2}m\\dot r^2\n",
    "\\end{equation}\n",
    "</span>\n",
    "    \n",
    "And for the potential energy we will also have to consider the constraining potential, $V_r(r(t))$:\n",
    "<p>\n",
    "<span class=\"notranslate\">\n",
    "\\begin{equation}\n",
    "V = -mgr\\cos\\theta + V_r(r(t))\n",
    "\\end{equation}\n",
    "</span>\n",
    "    \n",
    "The Lagrangian function is:\n",
    "<p>\n",
    "<span class=\"notranslate\">\n",
    "\\begin{equation}\n",
    "\\mathcal{L} = \\frac{1}{2}m(\\dot r^2(t) + r^2(t)\\,\\dot\\theta^2(t)) + mgr(t)\\cos\\theta(t) - V_r(r(t))\n",
    "\\end{equation}\n",
    "</span>\n",
    "    \n",
    "The derivatives w.r.t. $\\theta$ are:\n",
    "<p>\n",
    "<span class=\"notranslate\">\n",
    "\\begin{equation} \\begin{array}{rcl}\n",
    "&\\dfrac{\\partial \\mathcal{L}}{\\partial \\theta} &=& -mgr\\sin\\theta \\\\\n",
    "&\\dfrac{\\partial \\mathcal{L}}{\\partial \\dot{\\theta}} &=& mr^2\\dot{\\theta} \\\\\n",
    "&\\dfrac{\\mathrm d }{\\mathrm d t}\\left( {\\dfrac{\\partial \\mathcal{L}}{\\partial \\dot{\\theta}}} \\right) &=& 2mr\\dot{r}\\dot{\\theta} + mr^2\\ddot{\\theta}\n",
    "\\end{array} \\end{equation}\n",
    "</span>\n",
    "    \n",
    "The derivatives w.r.t. $r$ are:\n",
    "<p>\n",
    "<span class=\"notranslate\">\n",
    "\\begin{equation} \\begin{array}{rcl}\n",
    "&\\dfrac{\\partial \\mathcal{L}}{\\partial r} &=& mr \\dot\\theta^2 + mg\\cos\\theta - \\dot{V}_r(r) \\\\\n",
    "&\\dfrac{\\partial \\mathcal{L}}{\\partial \\dot{r}} &=& m\\dot r \\\\\n",
    "&\\dfrac{\\mathrm d }{\\mathrm d t}\\left( {\\dfrac{\\partial \\mathcal{L}}{\\partial \\dot{r}}} \\right) &=& m\\ddot{r}\n",
    "\\end{array} \\end{equation}\n",
    "</span>\n",
    "    \n",
    "The Euler-Lagrange's equations (the equations of motion) are:\n",
    "<p>\n",
    "<span class=\"notranslate\">\n",
    "\\begin{equation} \\begin{array}{rcl}\n",
    "&2mr\\dot{r}\\dot{\\theta} + mr^2\\ddot{\\theta} + mgr\\sin\\theta &=& 0 \\\\\n",
    "&m\\ddot{r} - mr \\dot\\theta^2 - mg\\cos\\theta + \\dot{V}_r(r) &=& 0 \\\\\n",
    "\\end{array} \\end{equation}\n",
    "</span>\n",
    "    \n",
    "Now, we will apply the constraint condition, $r(t)=d$. This means that $\\dot{r}=\\ddot{r}=0$.  \n",
    "\n",
    "With this constraint applied, the first Euler-Lagrange equation is the equation for the simple pendulum:\n",
    "<p>\n",
    "<span class=\"notranslate\">\n",
    "\\begin{equation}\n",
    "md^2\\ddot{\\theta} + mgd\\sin\\theta = 0\n",
    "\\end{equation}\n",
    "</span>\n",
    "    \n",
    "The second equation yields:\n",
    "<p>\n",
    "<span class=\"notranslate\">\n",
    "\\begin{equation}\n",
    "-\\dfrac{\\mathrm d V_r}{\\mathrm d r}\\bigg{\\rvert}_{r=d} = - md \\dot\\theta^2 - mg\\cos\\theta\n",
    "\\end{equation}\n",
    "</span>\n",
    "    \n",
    "But the tension force, $F_T$, is by definition equal to the gradient of the constraining potential, so:\n",
    "<p>\n",
    "<span class=\"notranslate\">\n",
    "\\begin{equation}\n",
    "F_T = - md \\dot\\theta^2 - mg\\cos\\theta\n",
    "\\end{equation}\n",
    "</span>\n",
    "    \n",
    "As expected, the tension at the rod is proportional to the centripetal and the gravitational forces."
   ]
  },
  {
   "cell_type": "markdown",
   "metadata": {},
   "source": [
    "## Lagrangian formalism applied to non-mechanical systems\n",
    "\n",
    "### Example: Lagrangian formalism for RLC eletrical circuits\n",
    "\n",
    "<figure><img src=\"https://upload.wikimedia.org/wikipedia/en/thumb/6/65/Mobility_analogy_resonator_vertical.svg/198px-Mobility_analogy_resonator_vertical.svg.png\" width=\"150\" alt=\"RLC analogy\" style=\"float:right;margin: 10px 10px 10px 10px;\"/></figure>\n",
    "\n",
    "It's possible to solve a RLC (Resistance-Inductance-Capacitance) electrical circuit using the Lagrangian formalism as an analogy with a mass-spring-damper system.  \n",
    "\n",
    "In such analogy, the electrical charge is equivalent to position, current to velocity, inductance to mass, inverse of the capacitance to spring constant, resistance to damper constant (a dissipative element), and a generator would be analog to an external force actuating on the system. See the [Wikipedia](https://en.wikipedia.org/wiki/Mechanical%E2%80%93electrical_analogies) and [this paper](https://arxiv.org/pdf/1711.10245.pdf) for more details on this analogy.\n",
    "\n",
    "Let's see how to deduce the equivalent of equation of motion for a RLC series circuit (the Kirchhoff’s Voltage Law (KVL) equation).\n",
    "\n",
    "<figure><img src=\"https://upload.wikimedia.org/wikipedia/commons/thumb/f/fb/RLC_series_circuit_v1.svg/173px-RLC_series_circuit_v1.svg.png\" width=\"140\" alt=\"RLC circuit\" style=\"float:right;margin: 0px 10px 0px 10px;\"/></figure>\n",
    "\n",
    "For a series RLC circuit, consider the following notation:  \n",
    "$q$: charge  \n",
    "$\\dot{q}$: current admitted through the circuit  \n",
    "$R$: effective resistance of the combined load, source, and components    \n",
    "$C$: capacitance of the capacitor component  \n",
    "$L$: inductance of the inductor component  \n",
    "$u$: voltage source powering the circuit  \n",
    "$P$: power dissipated by the resistance  \n",
    "\n",
    "So, the equivalents of kinetic and potential energies are:  \n",
    "$T = \\frac{1}{2}L\\dot{q}^2$  \n",
    "$V = \\frac{1}{2C}q^2$  \n",
    "With a dissipative element:  \n",
    "$P = \\frac{1}{2}R\\dot{q}^2$  \n",
    "And the Lagrangian function is:  \n",
    "$\\mathcal{L} = \\frac{1}{2}L\\dot{q}^2 - \\frac{1}{2C}q^2$  \n",
    "\n",
    "Calculating the derivatives and substituting them in the Euler-Lagrange equation, we will have:  \n",
    "<p>\n",
    "<span class=\"notranslate\">\n",
    "\\begin{equation}\n",
    "L \\ddot{q} + R\\dot{q} + \\frac{q}{C} = u(t)\n",
    "\\end{equation}\n",
    "</span>\n",
    "\n",
    "Replacing $\\dot{q}$ by $i$ and considering $v_c = q/C$ for a capacitor, we have the familar KVL equation:\n",
    "<p>\n",
    "<span class=\"notranslate\">\n",
    "\\begin{equation}\n",
    "L \\frac{\\mathrm d i}{\\mathrm d t} + v_c + Ri = u(t)\n",
    "\\end{equation}\n",
    "</span>"
   ]
  },
  {
   "cell_type": "markdown",
   "metadata": {},
   "source": [
    "## Considerations on the Lagrangian mechanics\n",
    "\n",
    "The Lagrangian mechanics does not constitute a new theory in classical mechanics; the results using Lagrangian or Newtonian mechanics must be the same for any mechanical system, only the method used to obtain the results is different. \n",
    "\n",
    "We are accustomed to think of mechanical systems in terms of vector quantities such as force, velocity, angular momentum, torque, etc., but in the Lagrangian formalism the equations of motion are obtained entirely in terms of the kinetic and potential energies (scalar operations) in the configuration space. Another important aspect of the force vs. energy analogy is that in situations where it is not possible to make explicit all the forces acting on the body, it is still possible to obtain expressions for the kinetic and potential energies. \n",
    "\n",
    "In fact, the concept of force does not enter into Lagrangian mechanics. This is an important property of the method. Since energy is a scalar quantity, the Lagrangian function for a system is invariant for coordinate transformations. Therefore, it is possible to move from a certain configuration space (in which the equations of motion can be somewhat complicated) to a space that can be chosen to allow maximum simplification of the problem. "
   ]
  },
  {
   "cell_type": "markdown",
   "metadata": {},
   "source": [
    "## Further reading\n",
    "\n",
    "- [The Principle of Least Action in ](https://www.feynmanlectures.caltech.edu/II_19.html)  \n",
    "- Vandiver JK (MIT OpenCourseWare) [An Introduction to Lagrangian Mechanics](https://ocw.mit.edu/courses/mechanical-engineering/2-003sc-engineering-dynamics-fall-2011/lagrange-equations/MIT2_003SCF11_Lagrange.pdf)"
   ]
  },
  {
   "cell_type": "markdown",
   "metadata": {},
   "source": [
    "## Video lectures on the internet   \n",
    "\n",
    "- iLectureOnline: [Lectures in Lagrangian Mechanics](http://www.ilectureonline.com/lectures/subject/PHYSICS/34/245)  \n",
    "- MIT OpenCourseWare: [Introduction to Lagrange With Examples](https://youtu.be/zhk9xLjrmi4)"
   ]
  },
  {
   "cell_type": "markdown",
   "metadata": {},
   "source": [
    "## Problems\n",
    "\n",
    "1. Derive the Euler-Lagrange equation (the equation of motion) for a mass-spring system where the spring is attached to the ceiling and the mass in hanging in the vertical.  \n",
    "<figure><img src=\"./../images/springgravity.png\" width=\"200\" alt=\"mass-spring with gravity\"/></figure>\n",
    "2. Derive the Euler-Lagrange equation for an inverted pendulum in the vertical.  \n",
    "<figure><img src=\"./../images/invpendulum2.png\" width=\"200\" alt=\"inverted pendulum\"/></figure>\n",
    "3. Derive the Euler-Lagrange equation for the following system:  \n",
    "<figure><img src=\"./../images/massessprings_lagrange.png\" width=\"280\" alt=\"two masses and two springs\"/></figure>\n",
    "4. Derive the Euler-Lagrange equation for a spring pendulum, a simple pendulum where a mass $m$ is attached to a massless spring with spring constant $k$ and length at rest $d_0$.  \n",
    "<figure><img src=\"./../images/pendulumspring.png\" width=\"200\" alt=\"mass-spring pendulum\"/></figure>\n",
    "5. Derive the Euler-Lagrange equation for the system shown below.  \n",
    "<figure><img src=\"./../images/pendulumramp.png\" width=\"250\" alt=\"pendulum on a ramp\"/></figure>  \n",
    "6. Derive the Euler-Lagrange equation for the following Atwood machine (consider that $m_1 > m_2$, i.e., the pulley will rotate counter-clockwise, and that moving down is in the positive direction):  \n",
    "<figure><img src=\"./../images/atwood_machine.png\" width=\"125\" alt=\"Atwood machine\"/></figure>   \n",
    "7. Write computer programs (in Python!) to solve numerically the equations of motion from the problems above."
   ]
  },
  {
   "cell_type": "markdown",
   "metadata": {},
   "source": [
    "## References\n",
    " \n",
    "- Hamilton WR (1834) [On a General Method in Dynamics](https://www.maths.tcd.ie/pub/HistMath/People/Hamilton/Dynamics/#GenMethod). Philosophical Transactions of the Royal Society, part II, 247-308.  \n",
    "- Ruina A, Rudra P (2019) [Introduction to Statics and Dynamics](http://ruina.tam.cornell.edu/Book/index.html). Oxford University Press.  "
   ]
  }
 ],
 "metadata": {
  "anaconda-cloud": {},
  "hide_input": false,
  "kernelspec": {
   "display_name": "Python 3",
   "language": "python",
   "name": "python3"
  },
  "language_info": {
   "codemirror_mode": {
    "name": "ipython",
    "version": 3
   },
   "file_extension": ".py",
   "mimetype": "text/x-python",
   "name": "python",
   "nbconvert_exporter": "python",
   "pygments_lexer": "ipython3",
   "version": "3.7.6"
  },
  "latex_envs": {
   "LaTeX_envs_menu_present": true,
   "autocomplete": true,
   "bibliofile": "biblio.bib",
   "cite_by": "apalike",
   "current_citInitial": 1,
   "eqLabelWithNumbers": true,
   "eqNumInitial": 1,
   "hotkeys": {
    "equation": "Ctrl-E",
    "itemize": "Ctrl-I"
   },
   "labels_anchors": false,
   "latex_user_defs": false,
   "report_style_numbering": false,
   "user_envs_cfg": false
  },
  "nbTranslate": {
   "displayLangs": [
    "*"
   ],
   "hotkey": "alt-t",
   "langInMainMenu": true,
   "sourceLang": "en",
   "targetLang": "pt",
   "useGoogleTranslate": true
  },
  "toc": {
   "base_numbering": 1,
   "nav_menu": {},
   "number_sections": true,
   "sideBar": true,
   "skip_h1_title": true,
   "title_cell": "Contents",
   "title_sidebar": "Contents",
   "toc_cell": true,
   "toc_position": {},
   "toc_section_display": true,
   "toc_window_display": false
  },
  "toc-autonumbering": false,
  "toc-showcode": false,
  "toc-showmarkdowntxt": false,
  "varInspector": {
   "cols": {
    "lenName": 16,
    "lenType": 16,
    "lenVar": 40
   },
   "kernels_config": {
    "python": {
     "delete_cmd_postfix": "",
     "delete_cmd_prefix": "del ",
     "library": "var_list.py",
     "varRefreshCmd": "print(var_dic_list())"
    },
    "r": {
     "delete_cmd_postfix": ") ",
     "delete_cmd_prefix": "rm(",
     "library": "var_list.r",
     "varRefreshCmd": "cat(var_dic_list()) "
    }
   },
   "types_to_exclude": [
    "module",
    "function",
    "builtin_function_or_method",
    "instance",
    "_Feature"
   ],
   "window_display": false
  }
 },
 "nbformat": 4,
 "nbformat_minor": 4
}
